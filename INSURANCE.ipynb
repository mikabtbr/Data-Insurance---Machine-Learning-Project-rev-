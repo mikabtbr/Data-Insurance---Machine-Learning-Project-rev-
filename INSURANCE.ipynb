{
 "cells": [
  {
   "cell_type": "markdown",
   "metadata": {
    "ExecuteTime": {
     "end_time": "2020-11-09T03:03:50.669159Z",
     "start_time": "2020-11-09T03:03:50.664174Z"
    }
   },
   "source": [
    "# <center> INSURANCE"
   ]
  },
  {
   "cell_type": "markdown",
   "metadata": {
    "ExecuteTime": {
     "end_time": "2020-11-09T03:04:02.691375Z",
     "start_time": "2020-11-09T03:04:02.687387Z"
    }
   },
   "source": [
    "# DEFINE PROBLEMS"
   ]
  },
  {
   "cell_type": "markdown",
   "metadata": {},
   "source": [
    "We wants to know the most important factor which determines cold call success so that they can work on it and further improve their business using the cold call data.The problem I am trying to solve involves creating predictive models and choosing the best model among them using model validation techniques to gain more insights about the key factors which contributes to cold call success and provide recommendations to improve cold call success as well. Further the model implementation can improve their business and help them on concentarting on the key areas to their success"
   ]
  },
  {
   "cell_type": "markdown",
   "metadata": {},
   "source": [
    "# GOALS"
   ]
  },
  {
   "cell_type": "markdown",
   "metadata": {},
   "source": [
    "- The goal was to model the success of buying insurance using attributes that were known before the telemarketing call was executed\n",
    "- A particular emphasis was given on feature engineering, as we considered an initial set."
   ]
  },
  {
   "cell_type": "markdown",
   "metadata": {
    "ExecuteTime": {
     "end_time": "2020-11-09T03:05:02.772333Z",
     "start_time": "2020-11-09T03:05:02.754383Z"
    }
   },
   "source": [
    "#  **Input variables**\n",
    "**1. age:** (numeric)\n",
    "\n",
    "**2. job :** type of job (categorical: ‘admin.’,’blue collar’,’entrepreneur’,’housemaid’,’management’,’retired’,’self-employed’,’services’,’student’,’technician’,’unemployed’,’unknown’)\n",
    "\n",
    "**3. marital :** marital status (categorical: ‘divorced’,’married’,’single’,’unknown’; note: ‘divorced’ means divorced or widowed)\n",
    "\n",
    "**4. education (categorical:** ‘basic.4y’,’basic.6y’,’basic.9y’,’high.school’,’professional.course’,’university.degree’,’unknown’)\n",
    "\n",
    "**5. default:** has credit in default? (categorical: ‘no’,’yes’,’unknown’)\n",
    "\n",
    "**6. housing:** has housing loan? (categorical: ‘no’,’yes’,’unknown’)\n",
    "\n",
    "**7. loan:** has personal loan? (categorical: ‘no’,’yes’,’unknown’)\n",
    "\n",
    "**8. contact:** contact communication type (categorical: ‘cellular’,’telephone’)\n",
    "\n",
    "**9. month:** last contact month of year (categorical: ‘jan’, ‘feb’, ‘mar’, …, ‘nov’, ‘dec’)\n",
    "\n",
    "**10. day** : last contact day\n",
    "\n",
    "**11. duration:** last contact duration, in seconds (numeric). Important note: this attribute highly affects the output target (e.g., if duration=0 then y=’no’). Yet, the duration is not known before a call is performed. Also, after the end of the call y is obviously known. Thus, this input should only be included for benchmark purposes and should be discarded if the intention is to have a realistic predictive model.\n",
    "\n",
    "**12. campaign:** number of contacts performed during this campaign and for this client (numeric, includes last contact)\n",
    "\n",
    "**13. pdays:** number of days that passed by after the client was last contacted from a previous campaign (numeric; 999 means client was not previously contacted)\n",
    "\n",
    "**14. previous:** number of contacts performed before this campaign and for this client (numeric)\n",
    "\n",
    "**15. poutcome:** outcome of the previous marketing campaign (categorical: ‘failure’,’nonexistent’,’success’)\n",
    "social and economic context attributes\n"
   ]
  },
  {
   "cell_type": "code",
   "execution_count": null,
   "metadata": {},
   "outputs": [],
   "source": []
  },
  {
   "cell_type": "markdown",
   "metadata": {
    "ExecuteTime": {
     "end_time": "2020-11-09T03:05:49.743627Z",
     "start_time": "2020-11-09T03:05:49.738641Z"
    }
   },
   "source": [
    "# LIBRARY PACKAGES"
   ]
  },
  {
   "cell_type": "code",
   "execution_count": 1,
   "metadata": {
    "ExecuteTime": {
     "end_time": "2020-11-09T08:55:07.541773Z",
     "start_time": "2020-11-09T08:55:04.193343Z"
    }
   },
   "outputs": [],
   "source": [
    "import pandas as pd\n",
    "import numpy as np\n",
    "import seaborn as sns\n",
    "import matplotlib.pyplot as plt\n",
    "import warnings\n",
    "warnings.filterwarnings('ignore')\n",
    "%matplotlib inline\n",
    "plt.rcParams['figure.figsize'] = (8,6)\n",
    "\n",
    "from sklearn import set_config\n",
    "set_config(print_changed_only=False)\n"
   ]
  },
  {
   "cell_type": "code",
   "execution_count": 2,
   "metadata": {
    "ExecuteTime": {
     "end_time": "2020-11-09T08:55:07.582664Z",
     "start_time": "2020-11-09T08:55:07.545764Z"
    }
   },
   "outputs": [],
   "source": [
    "df = pd.read_csv('Insurance.csv')"
   ]
  },
  {
   "cell_type": "markdown",
   "metadata": {},
   "source": [
    "# DATA INFORMATION"
   ]
  },
  {
   "cell_type": "code",
   "execution_count": 3,
   "metadata": {
    "ExecuteTime": {
     "end_time": "2020-11-09T08:55:07.654609Z",
     "start_time": "2020-11-09T08:55:07.585657Z"
    }
   },
   "outputs": [
    {
     "data": {
      "text/html": [
       "<div>\n",
       "<style scoped>\n",
       "    .dataframe tbody tr th:only-of-type {\n",
       "        vertical-align: middle;\n",
       "    }\n",
       "\n",
       "    .dataframe tbody tr th {\n",
       "        vertical-align: top;\n",
       "    }\n",
       "\n",
       "    .dataframe thead th {\n",
       "        text-align: right;\n",
       "    }\n",
       "</style>\n",
       "<table border=\"1\" class=\"dataframe\">\n",
       "  <thead>\n",
       "    <tr style=\"text-align: right;\">\n",
       "      <th></th>\n",
       "      <th>Id</th>\n",
       "      <th>Age</th>\n",
       "      <th>Job</th>\n",
       "      <th>Marital</th>\n",
       "      <th>Education</th>\n",
       "      <th>Default</th>\n",
       "      <th>Balance</th>\n",
       "      <th>HHInsurance</th>\n",
       "      <th>CarLoan</th>\n",
       "      <th>Communication</th>\n",
       "      <th>LastContactDay</th>\n",
       "      <th>LastContactMonth</th>\n",
       "      <th>NoOfContacts</th>\n",
       "      <th>DaysPassed</th>\n",
       "      <th>PrevAttempts</th>\n",
       "      <th>Outcome</th>\n",
       "      <th>CallStart</th>\n",
       "      <th>CallEnd</th>\n",
       "      <th>CarInsurance</th>\n",
       "    </tr>\n",
       "  </thead>\n",
       "  <tbody>\n",
       "    <tr>\n",
       "      <th>0</th>\n",
       "      <td>1</td>\n",
       "      <td>32</td>\n",
       "      <td>management</td>\n",
       "      <td>single</td>\n",
       "      <td>tertiary</td>\n",
       "      <td>0</td>\n",
       "      <td>1218</td>\n",
       "      <td>1</td>\n",
       "      <td>0</td>\n",
       "      <td>telephone</td>\n",
       "      <td>28</td>\n",
       "      <td>jan</td>\n",
       "      <td>2</td>\n",
       "      <td>-1</td>\n",
       "      <td>0</td>\n",
       "      <td>NaN</td>\n",
       "      <td>13:45:20</td>\n",
       "      <td>13:46:30</td>\n",
       "      <td>0</td>\n",
       "    </tr>\n",
       "    <tr>\n",
       "      <th>1</th>\n",
       "      <td>2</td>\n",
       "      <td>32</td>\n",
       "      <td>blue-collar</td>\n",
       "      <td>married</td>\n",
       "      <td>primary</td>\n",
       "      <td>0</td>\n",
       "      <td>1156</td>\n",
       "      <td>1</td>\n",
       "      <td>0</td>\n",
       "      <td>NaN</td>\n",
       "      <td>26</td>\n",
       "      <td>may</td>\n",
       "      <td>5</td>\n",
       "      <td>-1</td>\n",
       "      <td>0</td>\n",
       "      <td>NaN</td>\n",
       "      <td>14:49:03</td>\n",
       "      <td>14:52:08</td>\n",
       "      <td>0</td>\n",
       "    </tr>\n",
       "    <tr>\n",
       "      <th>2</th>\n",
       "      <td>3</td>\n",
       "      <td>29</td>\n",
       "      <td>management</td>\n",
       "      <td>single</td>\n",
       "      <td>tertiary</td>\n",
       "      <td>0</td>\n",
       "      <td>637</td>\n",
       "      <td>1</td>\n",
       "      <td>0</td>\n",
       "      <td>cellular</td>\n",
       "      <td>3</td>\n",
       "      <td>jun</td>\n",
       "      <td>1</td>\n",
       "      <td>119</td>\n",
       "      <td>1</td>\n",
       "      <td>failure</td>\n",
       "      <td>16:30:24</td>\n",
       "      <td>16:36:04</td>\n",
       "      <td>1</td>\n",
       "    </tr>\n",
       "    <tr>\n",
       "      <th>3</th>\n",
       "      <td>4</td>\n",
       "      <td>25</td>\n",
       "      <td>student</td>\n",
       "      <td>single</td>\n",
       "      <td>primary</td>\n",
       "      <td>0</td>\n",
       "      <td>373</td>\n",
       "      <td>1</td>\n",
       "      <td>0</td>\n",
       "      <td>cellular</td>\n",
       "      <td>11</td>\n",
       "      <td>may</td>\n",
       "      <td>2</td>\n",
       "      <td>-1</td>\n",
       "      <td>0</td>\n",
       "      <td>NaN</td>\n",
       "      <td>12:06:43</td>\n",
       "      <td>12:20:22</td>\n",
       "      <td>1</td>\n",
       "    </tr>\n",
       "    <tr>\n",
       "      <th>4</th>\n",
       "      <td>5</td>\n",
       "      <td>30</td>\n",
       "      <td>management</td>\n",
       "      <td>married</td>\n",
       "      <td>tertiary</td>\n",
       "      <td>0</td>\n",
       "      <td>2694</td>\n",
       "      <td>0</td>\n",
       "      <td>0</td>\n",
       "      <td>cellular</td>\n",
       "      <td>3</td>\n",
       "      <td>jun</td>\n",
       "      <td>1</td>\n",
       "      <td>-1</td>\n",
       "      <td>0</td>\n",
       "      <td>NaN</td>\n",
       "      <td>14:35:44</td>\n",
       "      <td>14:38:56</td>\n",
       "      <td>0</td>\n",
       "    </tr>\n",
       "    <tr>\n",
       "      <th>5</th>\n",
       "      <td>6</td>\n",
       "      <td>32</td>\n",
       "      <td>technician</td>\n",
       "      <td>single</td>\n",
       "      <td>tertiary</td>\n",
       "      <td>0</td>\n",
       "      <td>1625</td>\n",
       "      <td>0</td>\n",
       "      <td>0</td>\n",
       "      <td>cellular</td>\n",
       "      <td>22</td>\n",
       "      <td>may</td>\n",
       "      <td>1</td>\n",
       "      <td>109</td>\n",
       "      <td>1</td>\n",
       "      <td>failure</td>\n",
       "      <td>14:58:08</td>\n",
       "      <td>15:11:24</td>\n",
       "      <td>1</td>\n",
       "    </tr>\n",
       "    <tr>\n",
       "      <th>6</th>\n",
       "      <td>7</td>\n",
       "      <td>37</td>\n",
       "      <td>admin.</td>\n",
       "      <td>single</td>\n",
       "      <td>tertiary</td>\n",
       "      <td>0</td>\n",
       "      <td>1000</td>\n",
       "      <td>1</td>\n",
       "      <td>0</td>\n",
       "      <td>cellular</td>\n",
       "      <td>17</td>\n",
       "      <td>mar</td>\n",
       "      <td>1</td>\n",
       "      <td>-1</td>\n",
       "      <td>0</td>\n",
       "      <td>NaN</td>\n",
       "      <td>13:00:02</td>\n",
       "      <td>13:03:17</td>\n",
       "      <td>1</td>\n",
       "    </tr>\n",
       "    <tr>\n",
       "      <th>7</th>\n",
       "      <td>8</td>\n",
       "      <td>35</td>\n",
       "      <td>management</td>\n",
       "      <td>divorced</td>\n",
       "      <td>tertiary</td>\n",
       "      <td>0</td>\n",
       "      <td>538</td>\n",
       "      <td>1</td>\n",
       "      <td>0</td>\n",
       "      <td>NaN</td>\n",
       "      <td>12</td>\n",
       "      <td>may</td>\n",
       "      <td>4</td>\n",
       "      <td>-1</td>\n",
       "      <td>0</td>\n",
       "      <td>NaN</td>\n",
       "      <td>15:39:43</td>\n",
       "      <td>15:40:49</td>\n",
       "      <td>0</td>\n",
       "    </tr>\n",
       "    <tr>\n",
       "      <th>8</th>\n",
       "      <td>9</td>\n",
       "      <td>30</td>\n",
       "      <td>admin.</td>\n",
       "      <td>married</td>\n",
       "      <td>secondary</td>\n",
       "      <td>0</td>\n",
       "      <td>187</td>\n",
       "      <td>1</td>\n",
       "      <td>0</td>\n",
       "      <td>cellular</td>\n",
       "      <td>18</td>\n",
       "      <td>nov</td>\n",
       "      <td>1</td>\n",
       "      <td>-1</td>\n",
       "      <td>0</td>\n",
       "      <td>NaN</td>\n",
       "      <td>12:20:56</td>\n",
       "      <td>12:22:42</td>\n",
       "      <td>0</td>\n",
       "    </tr>\n",
       "    <tr>\n",
       "      <th>9</th>\n",
       "      <td>10</td>\n",
       "      <td>30</td>\n",
       "      <td>blue-collar</td>\n",
       "      <td>married</td>\n",
       "      <td>secondary</td>\n",
       "      <td>0</td>\n",
       "      <td>3</td>\n",
       "      <td>1</td>\n",
       "      <td>1</td>\n",
       "      <td>cellular</td>\n",
       "      <td>12</td>\n",
       "      <td>may</td>\n",
       "      <td>2</td>\n",
       "      <td>-1</td>\n",
       "      <td>0</td>\n",
       "      <td>NaN</td>\n",
       "      <td>09:22:20</td>\n",
       "      <td>09:27:46</td>\n",
       "      <td>0</td>\n",
       "    </tr>\n",
       "    <tr>\n",
       "      <th>10</th>\n",
       "      <td>11</td>\n",
       "      <td>27</td>\n",
       "      <td>services</td>\n",
       "      <td>single</td>\n",
       "      <td>secondary</td>\n",
       "      <td>0</td>\n",
       "      <td>0</td>\n",
       "      <td>0</td>\n",
       "      <td>0</td>\n",
       "      <td>cellular</td>\n",
       "      <td>1</td>\n",
       "      <td>jun</td>\n",
       "      <td>1</td>\n",
       "      <td>-1</td>\n",
       "      <td>0</td>\n",
       "      <td>NaN</td>\n",
       "      <td>13:04:28</td>\n",
       "      <td>13:07:29</td>\n",
       "      <td>0</td>\n",
       "    </tr>\n",
       "    <tr>\n",
       "      <th>11</th>\n",
       "      <td>12</td>\n",
       "      <td>53</td>\n",
       "      <td>blue-collar</td>\n",
       "      <td>married</td>\n",
       "      <td>primary</td>\n",
       "      <td>1</td>\n",
       "      <td>-462</td>\n",
       "      <td>0</td>\n",
       "      <td>0</td>\n",
       "      <td>cellular</td>\n",
       "      <td>29</td>\n",
       "      <td>jan</td>\n",
       "      <td>1</td>\n",
       "      <td>-1</td>\n",
       "      <td>0</td>\n",
       "      <td>NaN</td>\n",
       "      <td>16:45:50</td>\n",
       "      <td>16:53:40</td>\n",
       "      <td>1</td>\n",
       "    </tr>\n",
       "    <tr>\n",
       "      <th>12</th>\n",
       "      <td>13</td>\n",
       "      <td>44</td>\n",
       "      <td>technician</td>\n",
       "      <td>married</td>\n",
       "      <td>secondary</td>\n",
       "      <td>0</td>\n",
       "      <td>2776</td>\n",
       "      <td>1</td>\n",
       "      <td>0</td>\n",
       "      <td>cellular</td>\n",
       "      <td>27</td>\n",
       "      <td>jan</td>\n",
       "      <td>1</td>\n",
       "      <td>-1</td>\n",
       "      <td>0</td>\n",
       "      <td>NaN</td>\n",
       "      <td>16:19:41</td>\n",
       "      <td>16:31:22</td>\n",
       "      <td>1</td>\n",
       "    </tr>\n",
       "    <tr>\n",
       "      <th>13</th>\n",
       "      <td>14</td>\n",
       "      <td>38</td>\n",
       "      <td>self-employed</td>\n",
       "      <td>divorced</td>\n",
       "      <td>secondary</td>\n",
       "      <td>0</td>\n",
       "      <td>2674</td>\n",
       "      <td>1</td>\n",
       "      <td>0</td>\n",
       "      <td>NaN</td>\n",
       "      <td>19</td>\n",
       "      <td>jun</td>\n",
       "      <td>2</td>\n",
       "      <td>-1</td>\n",
       "      <td>0</td>\n",
       "      <td>NaN</td>\n",
       "      <td>10:29:56</td>\n",
       "      <td>10:32:39</td>\n",
       "      <td>0</td>\n",
       "    </tr>\n",
       "    <tr>\n",
       "      <th>14</th>\n",
       "      <td>15</td>\n",
       "      <td>25</td>\n",
       "      <td>services</td>\n",
       "      <td>single</td>\n",
       "      <td>NaN</td>\n",
       "      <td>0</td>\n",
       "      <td>2022</td>\n",
       "      <td>0</td>\n",
       "      <td>0</td>\n",
       "      <td>cellular</td>\n",
       "      <td>29</td>\n",
       "      <td>jul</td>\n",
       "      <td>8</td>\n",
       "      <td>97</td>\n",
       "      <td>12</td>\n",
       "      <td>other</td>\n",
       "      <td>14:15:09</td>\n",
       "      <td>14:19:45</td>\n",
       "      <td>1</td>\n",
       "    </tr>\n",
       "    <tr>\n",
       "      <th>15</th>\n",
       "      <td>16</td>\n",
       "      <td>61</td>\n",
       "      <td>management</td>\n",
       "      <td>single</td>\n",
       "      <td>tertiary</td>\n",
       "      <td>0</td>\n",
       "      <td>2</td>\n",
       "      <td>0</td>\n",
       "      <td>0</td>\n",
       "      <td>cellular</td>\n",
       "      <td>12</td>\n",
       "      <td>aug</td>\n",
       "      <td>1</td>\n",
       "      <td>114</td>\n",
       "      <td>3</td>\n",
       "      <td>failure</td>\n",
       "      <td>16:18:48</td>\n",
       "      <td>16:20:59</td>\n",
       "      <td>1</td>\n",
       "    </tr>\n",
       "    <tr>\n",
       "      <th>16</th>\n",
       "      <td>17</td>\n",
       "      <td>34</td>\n",
       "      <td>admin.</td>\n",
       "      <td>single</td>\n",
       "      <td>secondary</td>\n",
       "      <td>0</td>\n",
       "      <td>69</td>\n",
       "      <td>1</td>\n",
       "      <td>0</td>\n",
       "      <td>telephone</td>\n",
       "      <td>6</td>\n",
       "      <td>may</td>\n",
       "      <td>3</td>\n",
       "      <td>362</td>\n",
       "      <td>4</td>\n",
       "      <td>other</td>\n",
       "      <td>11:48:45</td>\n",
       "      <td>11:50:17</td>\n",
       "      <td>0</td>\n",
       "    </tr>\n",
       "    <tr>\n",
       "      <th>17</th>\n",
       "      <td>18</td>\n",
       "      <td>46</td>\n",
       "      <td>management</td>\n",
       "      <td>married</td>\n",
       "      <td>tertiary</td>\n",
       "      <td>0</td>\n",
       "      <td>7331</td>\n",
       "      <td>0</td>\n",
       "      <td>0</td>\n",
       "      <td>cellular</td>\n",
       "      <td>11</td>\n",
       "      <td>sep</td>\n",
       "      <td>4</td>\n",
       "      <td>95</td>\n",
       "      <td>2</td>\n",
       "      <td>other</td>\n",
       "      <td>11:23:26</td>\n",
       "      <td>11:34:24</td>\n",
       "      <td>1</td>\n",
       "    </tr>\n",
       "    <tr>\n",
       "      <th>18</th>\n",
       "      <td>19</td>\n",
       "      <td>49</td>\n",
       "      <td>blue-collar</td>\n",
       "      <td>married</td>\n",
       "      <td>secondary</td>\n",
       "      <td>0</td>\n",
       "      <td>2039</td>\n",
       "      <td>1</td>\n",
       "      <td>0</td>\n",
       "      <td>cellular</td>\n",
       "      <td>6</td>\n",
       "      <td>may</td>\n",
       "      <td>1</td>\n",
       "      <td>169</td>\n",
       "      <td>2</td>\n",
       "      <td>failure</td>\n",
       "      <td>12:42:54</td>\n",
       "      <td>12:50:25</td>\n",
       "      <td>1</td>\n",
       "    </tr>\n",
       "    <tr>\n",
       "      <th>19</th>\n",
       "      <td>20</td>\n",
       "      <td>50</td>\n",
       "      <td>blue-collar</td>\n",
       "      <td>married</td>\n",
       "      <td>primary</td>\n",
       "      <td>0</td>\n",
       "      <td>82</td>\n",
       "      <td>0</td>\n",
       "      <td>0</td>\n",
       "      <td>telephone</td>\n",
       "      <td>5</td>\n",
       "      <td>apr</td>\n",
       "      <td>1</td>\n",
       "      <td>-1</td>\n",
       "      <td>0</td>\n",
       "      <td>NaN</td>\n",
       "      <td>10:34:08</td>\n",
       "      <td>10:41:44</td>\n",
       "      <td>1</td>\n",
       "    </tr>\n",
       "    <tr>\n",
       "      <th>20</th>\n",
       "      <td>21</td>\n",
       "      <td>57</td>\n",
       "      <td>blue-collar</td>\n",
       "      <td>married</td>\n",
       "      <td>secondary</td>\n",
       "      <td>0</td>\n",
       "      <td>773</td>\n",
       "      <td>1</td>\n",
       "      <td>1</td>\n",
       "      <td>NaN</td>\n",
       "      <td>18</td>\n",
       "      <td>jun</td>\n",
       "      <td>8</td>\n",
       "      <td>-1</td>\n",
       "      <td>0</td>\n",
       "      <td>NaN</td>\n",
       "      <td>09:05:50</td>\n",
       "      <td>09:07:27</td>\n",
       "      <td>0</td>\n",
       "    </tr>\n",
       "    <tr>\n",
       "      <th>21</th>\n",
       "      <td>22</td>\n",
       "      <td>80</td>\n",
       "      <td>retired</td>\n",
       "      <td>married</td>\n",
       "      <td>secondary</td>\n",
       "      <td>0</td>\n",
       "      <td>8304</td>\n",
       "      <td>0</td>\n",
       "      <td>0</td>\n",
       "      <td>telephone</td>\n",
       "      <td>8</td>\n",
       "      <td>sep</td>\n",
       "      <td>3</td>\n",
       "      <td>91</td>\n",
       "      <td>13</td>\n",
       "      <td>success</td>\n",
       "      <td>17:37:41</td>\n",
       "      <td>17:47:47</td>\n",
       "      <td>1</td>\n",
       "    </tr>\n",
       "    <tr>\n",
       "      <th>22</th>\n",
       "      <td>23</td>\n",
       "      <td>31</td>\n",
       "      <td>management</td>\n",
       "      <td>single</td>\n",
       "      <td>tertiary</td>\n",
       "      <td>0</td>\n",
       "      <td>0</td>\n",
       "      <td>0</td>\n",
       "      <td>0</td>\n",
       "      <td>cellular</td>\n",
       "      <td>21</td>\n",
       "      <td>aug</td>\n",
       "      <td>2</td>\n",
       "      <td>-1</td>\n",
       "      <td>0</td>\n",
       "      <td>NaN</td>\n",
       "      <td>14:28:54</td>\n",
       "      <td>14:32:32</td>\n",
       "      <td>0</td>\n",
       "    </tr>\n",
       "    <tr>\n",
       "      <th>23</th>\n",
       "      <td>24</td>\n",
       "      <td>63</td>\n",
       "      <td>retired</td>\n",
       "      <td>married</td>\n",
       "      <td>secondary</td>\n",
       "      <td>0</td>\n",
       "      <td>2896</td>\n",
       "      <td>0</td>\n",
       "      <td>0</td>\n",
       "      <td>cellular</td>\n",
       "      <td>1</td>\n",
       "      <td>jul</td>\n",
       "      <td>1</td>\n",
       "      <td>119</td>\n",
       "      <td>2</td>\n",
       "      <td>success</td>\n",
       "      <td>15:37:19</td>\n",
       "      <td>15:42:23</td>\n",
       "      <td>1</td>\n",
       "    </tr>\n",
       "    <tr>\n",
       "      <th>24</th>\n",
       "      <td>25</td>\n",
       "      <td>60</td>\n",
       "      <td>technician</td>\n",
       "      <td>married</td>\n",
       "      <td>secondary</td>\n",
       "      <td>0</td>\n",
       "      <td>824</td>\n",
       "      <td>1</td>\n",
       "      <td>0</td>\n",
       "      <td>cellular</td>\n",
       "      <td>9</td>\n",
       "      <td>feb</td>\n",
       "      <td>1</td>\n",
       "      <td>558</td>\n",
       "      <td>7</td>\n",
       "      <td>other</td>\n",
       "      <td>16:30:52</td>\n",
       "      <td>16:32:59</td>\n",
       "      <td>1</td>\n",
       "    </tr>\n",
       "    <tr>\n",
       "      <th>25</th>\n",
       "      <td>26</td>\n",
       "      <td>29</td>\n",
       "      <td>management</td>\n",
       "      <td>married</td>\n",
       "      <td>tertiary</td>\n",
       "      <td>0</td>\n",
       "      <td>900</td>\n",
       "      <td>0</td>\n",
       "      <td>0</td>\n",
       "      <td>cellular</td>\n",
       "      <td>17</td>\n",
       "      <td>jul</td>\n",
       "      <td>2</td>\n",
       "      <td>-1</td>\n",
       "      <td>0</td>\n",
       "      <td>NaN</td>\n",
       "      <td>17:06:47</td>\n",
       "      <td>17:11:22</td>\n",
       "      <td>0</td>\n",
       "    </tr>\n",
       "    <tr>\n",
       "      <th>26</th>\n",
       "      <td>27</td>\n",
       "      <td>54</td>\n",
       "      <td>management</td>\n",
       "      <td>married</td>\n",
       "      <td>primary</td>\n",
       "      <td>0</td>\n",
       "      <td>3859</td>\n",
       "      <td>0</td>\n",
       "      <td>1</td>\n",
       "      <td>cellular</td>\n",
       "      <td>20</td>\n",
       "      <td>nov</td>\n",
       "      <td>3</td>\n",
       "      <td>-1</td>\n",
       "      <td>0</td>\n",
       "      <td>NaN</td>\n",
       "      <td>10:09:02</td>\n",
       "      <td>10:10:46</td>\n",
       "      <td>0</td>\n",
       "    </tr>\n",
       "    <tr>\n",
       "      <th>27</th>\n",
       "      <td>28</td>\n",
       "      <td>45</td>\n",
       "      <td>NaN</td>\n",
       "      <td>divorced</td>\n",
       "      <td>NaN</td>\n",
       "      <td>0</td>\n",
       "      <td>0</td>\n",
       "      <td>0</td>\n",
       "      <td>0</td>\n",
       "      <td>cellular</td>\n",
       "      <td>21</td>\n",
       "      <td>apr</td>\n",
       "      <td>3</td>\n",
       "      <td>-1</td>\n",
       "      <td>0</td>\n",
       "      <td>NaN</td>\n",
       "      <td>12:33:22</td>\n",
       "      <td>12:38:00</td>\n",
       "      <td>1</td>\n",
       "    </tr>\n",
       "    <tr>\n",
       "      <th>28</th>\n",
       "      <td>29</td>\n",
       "      <td>34</td>\n",
       "      <td>services</td>\n",
       "      <td>married</td>\n",
       "      <td>secondary</td>\n",
       "      <td>0</td>\n",
       "      <td>-62</td>\n",
       "      <td>1</td>\n",
       "      <td>0</td>\n",
       "      <td>NaN</td>\n",
       "      <td>16</td>\n",
       "      <td>jun</td>\n",
       "      <td>3</td>\n",
       "      <td>-1</td>\n",
       "      <td>0</td>\n",
       "      <td>NaN</td>\n",
       "      <td>13:50:40</td>\n",
       "      <td>13:52:29</td>\n",
       "      <td>0</td>\n",
       "    </tr>\n",
       "    <tr>\n",
       "      <th>29</th>\n",
       "      <td>30</td>\n",
       "      <td>42</td>\n",
       "      <td>blue-collar</td>\n",
       "      <td>married</td>\n",
       "      <td>primary</td>\n",
       "      <td>0</td>\n",
       "      <td>832</td>\n",
       "      <td>0</td>\n",
       "      <td>0</td>\n",
       "      <td>NaN</td>\n",
       "      <td>20</td>\n",
       "      <td>jun</td>\n",
       "      <td>14</td>\n",
       "      <td>-1</td>\n",
       "      <td>0</td>\n",
       "      <td>NaN</td>\n",
       "      <td>10:36:52</td>\n",
       "      <td>10:37:05</td>\n",
       "      <td>0</td>\n",
       "    </tr>\n",
       "    <tr>\n",
       "      <th>30</th>\n",
       "      <td>31</td>\n",
       "      <td>54</td>\n",
       "      <td>technician</td>\n",
       "      <td>married</td>\n",
       "      <td>secondary</td>\n",
       "      <td>0</td>\n",
       "      <td>0</td>\n",
       "      <td>0</td>\n",
       "      <td>0</td>\n",
       "      <td>telephone</td>\n",
       "      <td>30</td>\n",
       "      <td>apr</td>\n",
       "      <td>3</td>\n",
       "      <td>84</td>\n",
       "      <td>3</td>\n",
       "      <td>success</td>\n",
       "      <td>11:49:24</td>\n",
       "      <td>12:02:10</td>\n",
       "      <td>1</td>\n",
       "    </tr>\n",
       "    <tr>\n",
       "      <th>31</th>\n",
       "      <td>32</td>\n",
       "      <td>32</td>\n",
       "      <td>admin.</td>\n",
       "      <td>single</td>\n",
       "      <td>secondary</td>\n",
       "      <td>0</td>\n",
       "      <td>6981</td>\n",
       "      <td>1</td>\n",
       "      <td>0</td>\n",
       "      <td>cellular</td>\n",
       "      <td>2</td>\n",
       "      <td>jun</td>\n",
       "      <td>1</td>\n",
       "      <td>194</td>\n",
       "      <td>3</td>\n",
       "      <td>failure</td>\n",
       "      <td>10:23:34</td>\n",
       "      <td>10:26:08</td>\n",
       "      <td>0</td>\n",
       "    </tr>\n",
       "    <tr>\n",
       "      <th>32</th>\n",
       "      <td>33</td>\n",
       "      <td>57</td>\n",
       "      <td>retired</td>\n",
       "      <td>single</td>\n",
       "      <td>tertiary</td>\n",
       "      <td>0</td>\n",
       "      <td>842</td>\n",
       "      <td>0</td>\n",
       "      <td>0</td>\n",
       "      <td>cellular</td>\n",
       "      <td>13</td>\n",
       "      <td>aug</td>\n",
       "      <td>3</td>\n",
       "      <td>-1</td>\n",
       "      <td>0</td>\n",
       "      <td>NaN</td>\n",
       "      <td>10:56:13</td>\n",
       "      <td>11:00:57</td>\n",
       "      <td>1</td>\n",
       "    </tr>\n",
       "    <tr>\n",
       "      <th>33</th>\n",
       "      <td>34</td>\n",
       "      <td>36</td>\n",
       "      <td>management</td>\n",
       "      <td>divorced</td>\n",
       "      <td>tertiary</td>\n",
       "      <td>0</td>\n",
       "      <td>1057</td>\n",
       "      <td>0</td>\n",
       "      <td>0</td>\n",
       "      <td>cellular</td>\n",
       "      <td>5</td>\n",
       "      <td>feb</td>\n",
       "      <td>2</td>\n",
       "      <td>-1</td>\n",
       "      <td>0</td>\n",
       "      <td>NaN</td>\n",
       "      <td>15:36:06</td>\n",
       "      <td>15:42:29</td>\n",
       "      <td>0</td>\n",
       "    </tr>\n",
       "    <tr>\n",
       "      <th>34</th>\n",
       "      <td>35</td>\n",
       "      <td>34</td>\n",
       "      <td>blue-collar</td>\n",
       "      <td>single</td>\n",
       "      <td>secondary</td>\n",
       "      <td>0</td>\n",
       "      <td>1698</td>\n",
       "      <td>1</td>\n",
       "      <td>0</td>\n",
       "      <td>NaN</td>\n",
       "      <td>27</td>\n",
       "      <td>may</td>\n",
       "      <td>7</td>\n",
       "      <td>-1</td>\n",
       "      <td>0</td>\n",
       "      <td>NaN</td>\n",
       "      <td>13:48:54</td>\n",
       "      <td>13:49:33</td>\n",
       "      <td>0</td>\n",
       "    </tr>\n",
       "    <tr>\n",
       "      <th>35</th>\n",
       "      <td>36</td>\n",
       "      <td>39</td>\n",
       "      <td>blue-collar</td>\n",
       "      <td>married</td>\n",
       "      <td>secondary</td>\n",
       "      <td>0</td>\n",
       "      <td>300</td>\n",
       "      <td>1</td>\n",
       "      <td>0</td>\n",
       "      <td>cellular</td>\n",
       "      <td>14</td>\n",
       "      <td>may</td>\n",
       "      <td>1</td>\n",
       "      <td>-1</td>\n",
       "      <td>0</td>\n",
       "      <td>NaN</td>\n",
       "      <td>14:50:44</td>\n",
       "      <td>14:59:10</td>\n",
       "      <td>0</td>\n",
       "    </tr>\n",
       "    <tr>\n",
       "      <th>36</th>\n",
       "      <td>37</td>\n",
       "      <td>31</td>\n",
       "      <td>blue-collar</td>\n",
       "      <td>married</td>\n",
       "      <td>secondary</td>\n",
       "      <td>0</td>\n",
       "      <td>664</td>\n",
       "      <td>1</td>\n",
       "      <td>1</td>\n",
       "      <td>NaN</td>\n",
       "      <td>21</td>\n",
       "      <td>may</td>\n",
       "      <td>3</td>\n",
       "      <td>-1</td>\n",
       "      <td>0</td>\n",
       "      <td>NaN</td>\n",
       "      <td>11:03:37</td>\n",
       "      <td>11:20:04</td>\n",
       "      <td>0</td>\n",
       "    </tr>\n",
       "    <tr>\n",
       "      <th>37</th>\n",
       "      <td>38</td>\n",
       "      <td>33</td>\n",
       "      <td>admin.</td>\n",
       "      <td>married</td>\n",
       "      <td>secondary</td>\n",
       "      <td>0</td>\n",
       "      <td>0</td>\n",
       "      <td>1</td>\n",
       "      <td>0</td>\n",
       "      <td>cellular</td>\n",
       "      <td>30</td>\n",
       "      <td>jul</td>\n",
       "      <td>5</td>\n",
       "      <td>-1</td>\n",
       "      <td>0</td>\n",
       "      <td>NaN</td>\n",
       "      <td>15:55:55</td>\n",
       "      <td>15:56:36</td>\n",
       "      <td>0</td>\n",
       "    </tr>\n",
       "    <tr>\n",
       "      <th>38</th>\n",
       "      <td>39</td>\n",
       "      <td>41</td>\n",
       "      <td>blue-collar</td>\n",
       "      <td>divorced</td>\n",
       "      <td>primary</td>\n",
       "      <td>0</td>\n",
       "      <td>138</td>\n",
       "      <td>1</td>\n",
       "      <td>0</td>\n",
       "      <td>cellular</td>\n",
       "      <td>18</td>\n",
       "      <td>jul</td>\n",
       "      <td>3</td>\n",
       "      <td>-1</td>\n",
       "      <td>0</td>\n",
       "      <td>NaN</td>\n",
       "      <td>13:13:21</td>\n",
       "      <td>13:24:01</td>\n",
       "      <td>1</td>\n",
       "    </tr>\n",
       "    <tr>\n",
       "      <th>39</th>\n",
       "      <td>40</td>\n",
       "      <td>35</td>\n",
       "      <td>admin.</td>\n",
       "      <td>married</td>\n",
       "      <td>secondary</td>\n",
       "      <td>0</td>\n",
       "      <td>216</td>\n",
       "      <td>1</td>\n",
       "      <td>1</td>\n",
       "      <td>cellular</td>\n",
       "      <td>17</td>\n",
       "      <td>nov</td>\n",
       "      <td>3</td>\n",
       "      <td>-1</td>\n",
       "      <td>0</td>\n",
       "      <td>NaN</td>\n",
       "      <td>15:33:58</td>\n",
       "      <td>15:35:08</td>\n",
       "      <td>0</td>\n",
       "    </tr>\n",
       "    <tr>\n",
       "      <th>40</th>\n",
       "      <td>41</td>\n",
       "      <td>32</td>\n",
       "      <td>management</td>\n",
       "      <td>married</td>\n",
       "      <td>secondary</td>\n",
       "      <td>0</td>\n",
       "      <td>3935</td>\n",
       "      <td>1</td>\n",
       "      <td>0</td>\n",
       "      <td>NaN</td>\n",
       "      <td>29</td>\n",
       "      <td>may</td>\n",
       "      <td>2</td>\n",
       "      <td>-1</td>\n",
       "      <td>0</td>\n",
       "      <td>NaN</td>\n",
       "      <td>17:09:51</td>\n",
       "      <td>17:12:00</td>\n",
       "      <td>0</td>\n",
       "    </tr>\n",
       "    <tr>\n",
       "      <th>41</th>\n",
       "      <td>42</td>\n",
       "      <td>40</td>\n",
       "      <td>blue-collar</td>\n",
       "      <td>married</td>\n",
       "      <td>secondary</td>\n",
       "      <td>0</td>\n",
       "      <td>327</td>\n",
       "      <td>1</td>\n",
       "      <td>0</td>\n",
       "      <td>NaN</td>\n",
       "      <td>29</td>\n",
       "      <td>may</td>\n",
       "      <td>1</td>\n",
       "      <td>-1</td>\n",
       "      <td>0</td>\n",
       "      <td>NaN</td>\n",
       "      <td>11:29:28</td>\n",
       "      <td>11:31:42</td>\n",
       "      <td>0</td>\n",
       "    </tr>\n",
       "    <tr>\n",
       "      <th>42</th>\n",
       "      <td>43</td>\n",
       "      <td>35</td>\n",
       "      <td>management</td>\n",
       "      <td>single</td>\n",
       "      <td>tertiary</td>\n",
       "      <td>0</td>\n",
       "      <td>2707</td>\n",
       "      <td>0</td>\n",
       "      <td>0</td>\n",
       "      <td>cellular</td>\n",
       "      <td>5</td>\n",
       "      <td>feb</td>\n",
       "      <td>1</td>\n",
       "      <td>-1</td>\n",
       "      <td>0</td>\n",
       "      <td>NaN</td>\n",
       "      <td>09:23:59</td>\n",
       "      <td>09:35:38</td>\n",
       "      <td>1</td>\n",
       "    </tr>\n",
       "    <tr>\n",
       "      <th>43</th>\n",
       "      <td>44</td>\n",
       "      <td>40</td>\n",
       "      <td>admin.</td>\n",
       "      <td>married</td>\n",
       "      <td>secondary</td>\n",
       "      <td>0</td>\n",
       "      <td>2574</td>\n",
       "      <td>1</td>\n",
       "      <td>0</td>\n",
       "      <td>cellular</td>\n",
       "      <td>15</td>\n",
       "      <td>may</td>\n",
       "      <td>1</td>\n",
       "      <td>176</td>\n",
       "      <td>1</td>\n",
       "      <td>failure</td>\n",
       "      <td>10:50:44</td>\n",
       "      <td>10:57:56</td>\n",
       "      <td>1</td>\n",
       "    </tr>\n",
       "    <tr>\n",
       "      <th>44</th>\n",
       "      <td>45</td>\n",
       "      <td>60</td>\n",
       "      <td>management</td>\n",
       "      <td>married</td>\n",
       "      <td>tertiary</td>\n",
       "      <td>0</td>\n",
       "      <td>70</td>\n",
       "      <td>0</td>\n",
       "      <td>0</td>\n",
       "      <td>cellular</td>\n",
       "      <td>21</td>\n",
       "      <td>aug</td>\n",
       "      <td>1</td>\n",
       "      <td>-1</td>\n",
       "      <td>0</td>\n",
       "      <td>NaN</td>\n",
       "      <td>11:15:10</td>\n",
       "      <td>11:15:46</td>\n",
       "      <td>0</td>\n",
       "    </tr>\n",
       "    <tr>\n",
       "      <th>45</th>\n",
       "      <td>46</td>\n",
       "      <td>35</td>\n",
       "      <td>blue-collar</td>\n",
       "      <td>single</td>\n",
       "      <td>secondary</td>\n",
       "      <td>0</td>\n",
       "      <td>0</td>\n",
       "      <td>1</td>\n",
       "      <td>0</td>\n",
       "      <td>NaN</td>\n",
       "      <td>3</td>\n",
       "      <td>jun</td>\n",
       "      <td>3</td>\n",
       "      <td>-1</td>\n",
       "      <td>0</td>\n",
       "      <td>NaN</td>\n",
       "      <td>16:20:13</td>\n",
       "      <td>16:22:06</td>\n",
       "      <td>0</td>\n",
       "    </tr>\n",
       "    <tr>\n",
       "      <th>46</th>\n",
       "      <td>47</td>\n",
       "      <td>42</td>\n",
       "      <td>management</td>\n",
       "      <td>divorced</td>\n",
       "      <td>secondary</td>\n",
       "      <td>0</td>\n",
       "      <td>283</td>\n",
       "      <td>1</td>\n",
       "      <td>0</td>\n",
       "      <td>cellular</td>\n",
       "      <td>23</td>\n",
       "      <td>jul</td>\n",
       "      <td>1</td>\n",
       "      <td>-1</td>\n",
       "      <td>0</td>\n",
       "      <td>NaN</td>\n",
       "      <td>12:00:12</td>\n",
       "      <td>12:12:53</td>\n",
       "      <td>1</td>\n",
       "    </tr>\n",
       "    <tr>\n",
       "      <th>47</th>\n",
       "      <td>48</td>\n",
       "      <td>79</td>\n",
       "      <td>retired</td>\n",
       "      <td>divorced</td>\n",
       "      <td>primary</td>\n",
       "      <td>0</td>\n",
       "      <td>79</td>\n",
       "      <td>0</td>\n",
       "      <td>0</td>\n",
       "      <td>cellular</td>\n",
       "      <td>9</td>\n",
       "      <td>oct</td>\n",
       "      <td>2</td>\n",
       "      <td>-1</td>\n",
       "      <td>0</td>\n",
       "      <td>NaN</td>\n",
       "      <td>16:23:38</td>\n",
       "      <td>16:42:04</td>\n",
       "      <td>1</td>\n",
       "    </tr>\n",
       "    <tr>\n",
       "      <th>48</th>\n",
       "      <td>49</td>\n",
       "      <td>46</td>\n",
       "      <td>admin.</td>\n",
       "      <td>single</td>\n",
       "      <td>secondary</td>\n",
       "      <td>0</td>\n",
       "      <td>13</td>\n",
       "      <td>0</td>\n",
       "      <td>0</td>\n",
       "      <td>NaN</td>\n",
       "      <td>2</td>\n",
       "      <td>jun</td>\n",
       "      <td>4</td>\n",
       "      <td>-1</td>\n",
       "      <td>0</td>\n",
       "      <td>NaN</td>\n",
       "      <td>17:02:45</td>\n",
       "      <td>17:03:56</td>\n",
       "      <td>0</td>\n",
       "    </tr>\n",
       "    <tr>\n",
       "      <th>49</th>\n",
       "      <td>50</td>\n",
       "      <td>33</td>\n",
       "      <td>technician</td>\n",
       "      <td>divorced</td>\n",
       "      <td>secondary</td>\n",
       "      <td>0</td>\n",
       "      <td>464</td>\n",
       "      <td>0</td>\n",
       "      <td>0</td>\n",
       "      <td>cellular</td>\n",
       "      <td>4</td>\n",
       "      <td>feb</td>\n",
       "      <td>4</td>\n",
       "      <td>-1</td>\n",
       "      <td>0</td>\n",
       "      <td>NaN</td>\n",
       "      <td>09:31:15</td>\n",
       "      <td>09:34:42</td>\n",
       "      <td>0</td>\n",
       "    </tr>\n",
       "  </tbody>\n",
       "</table>\n",
       "</div>"
      ],
      "text/plain": [
       "    Id  Age            Job   Marital  Education  Default  Balance  \\\n",
       "0    1   32     management    single   tertiary        0     1218   \n",
       "1    2   32    blue-collar   married    primary        0     1156   \n",
       "2    3   29     management    single   tertiary        0      637   \n",
       "3    4   25        student    single    primary        0      373   \n",
       "4    5   30     management   married   tertiary        0     2694   \n",
       "5    6   32     technician    single   tertiary        0     1625   \n",
       "6    7   37         admin.    single   tertiary        0     1000   \n",
       "7    8   35     management  divorced   tertiary        0      538   \n",
       "8    9   30         admin.   married  secondary        0      187   \n",
       "9   10   30    blue-collar   married  secondary        0        3   \n",
       "10  11   27       services    single  secondary        0        0   \n",
       "11  12   53    blue-collar   married    primary        1     -462   \n",
       "12  13   44     technician   married  secondary        0     2776   \n",
       "13  14   38  self-employed  divorced  secondary        0     2674   \n",
       "14  15   25       services    single        NaN        0     2022   \n",
       "15  16   61     management    single   tertiary        0        2   \n",
       "16  17   34         admin.    single  secondary        0       69   \n",
       "17  18   46     management   married   tertiary        0     7331   \n",
       "18  19   49    blue-collar   married  secondary        0     2039   \n",
       "19  20   50    blue-collar   married    primary        0       82   \n",
       "20  21   57    blue-collar   married  secondary        0      773   \n",
       "21  22   80        retired   married  secondary        0     8304   \n",
       "22  23   31     management    single   tertiary        0        0   \n",
       "23  24   63        retired   married  secondary        0     2896   \n",
       "24  25   60     technician   married  secondary        0      824   \n",
       "25  26   29     management   married   tertiary        0      900   \n",
       "26  27   54     management   married    primary        0     3859   \n",
       "27  28   45            NaN  divorced        NaN        0        0   \n",
       "28  29   34       services   married  secondary        0      -62   \n",
       "29  30   42    blue-collar   married    primary        0      832   \n",
       "30  31   54     technician   married  secondary        0        0   \n",
       "31  32   32         admin.    single  secondary        0     6981   \n",
       "32  33   57        retired    single   tertiary        0      842   \n",
       "33  34   36     management  divorced   tertiary        0     1057   \n",
       "34  35   34    blue-collar    single  secondary        0     1698   \n",
       "35  36   39    blue-collar   married  secondary        0      300   \n",
       "36  37   31    blue-collar   married  secondary        0      664   \n",
       "37  38   33         admin.   married  secondary        0        0   \n",
       "38  39   41    blue-collar  divorced    primary        0      138   \n",
       "39  40   35         admin.   married  secondary        0      216   \n",
       "40  41   32     management   married  secondary        0     3935   \n",
       "41  42   40    blue-collar   married  secondary        0      327   \n",
       "42  43   35     management    single   tertiary        0     2707   \n",
       "43  44   40         admin.   married  secondary        0     2574   \n",
       "44  45   60     management   married   tertiary        0       70   \n",
       "45  46   35    blue-collar    single  secondary        0        0   \n",
       "46  47   42     management  divorced  secondary        0      283   \n",
       "47  48   79        retired  divorced    primary        0       79   \n",
       "48  49   46         admin.    single  secondary        0       13   \n",
       "49  50   33     technician  divorced  secondary        0      464   \n",
       "\n",
       "    HHInsurance  CarLoan Communication  LastContactDay LastContactMonth  \\\n",
       "0             1        0     telephone              28              jan   \n",
       "1             1        0           NaN              26              may   \n",
       "2             1        0      cellular               3              jun   \n",
       "3             1        0      cellular              11              may   \n",
       "4             0        0      cellular               3              jun   \n",
       "5             0        0      cellular              22              may   \n",
       "6             1        0      cellular              17              mar   \n",
       "7             1        0           NaN              12              may   \n",
       "8             1        0      cellular              18              nov   \n",
       "9             1        1      cellular              12              may   \n",
       "10            0        0      cellular               1              jun   \n",
       "11            0        0      cellular              29              jan   \n",
       "12            1        0      cellular              27              jan   \n",
       "13            1        0           NaN              19              jun   \n",
       "14            0        0      cellular              29              jul   \n",
       "15            0        0      cellular              12              aug   \n",
       "16            1        0     telephone               6              may   \n",
       "17            0        0      cellular              11              sep   \n",
       "18            1        0      cellular               6              may   \n",
       "19            0        0     telephone               5              apr   \n",
       "20            1        1           NaN              18              jun   \n",
       "21            0        0     telephone               8              sep   \n",
       "22            0        0      cellular              21              aug   \n",
       "23            0        0      cellular               1              jul   \n",
       "24            1        0      cellular               9              feb   \n",
       "25            0        0      cellular              17              jul   \n",
       "26            0        1      cellular              20              nov   \n",
       "27            0        0      cellular              21              apr   \n",
       "28            1        0           NaN              16              jun   \n",
       "29            0        0           NaN              20              jun   \n",
       "30            0        0     telephone              30              apr   \n",
       "31            1        0      cellular               2              jun   \n",
       "32            0        0      cellular              13              aug   \n",
       "33            0        0      cellular               5              feb   \n",
       "34            1        0           NaN              27              may   \n",
       "35            1        0      cellular              14              may   \n",
       "36            1        1           NaN              21              may   \n",
       "37            1        0      cellular              30              jul   \n",
       "38            1        0      cellular              18              jul   \n",
       "39            1        1      cellular              17              nov   \n",
       "40            1        0           NaN              29              may   \n",
       "41            1        0           NaN              29              may   \n",
       "42            0        0      cellular               5              feb   \n",
       "43            1        0      cellular              15              may   \n",
       "44            0        0      cellular              21              aug   \n",
       "45            1        0           NaN               3              jun   \n",
       "46            1        0      cellular              23              jul   \n",
       "47            0        0      cellular               9              oct   \n",
       "48            0        0           NaN               2              jun   \n",
       "49            0        0      cellular               4              feb   \n",
       "\n",
       "    NoOfContacts  DaysPassed  PrevAttempts  Outcome CallStart   CallEnd  \\\n",
       "0              2          -1             0      NaN  13:45:20  13:46:30   \n",
       "1              5          -1             0      NaN  14:49:03  14:52:08   \n",
       "2              1         119             1  failure  16:30:24  16:36:04   \n",
       "3              2          -1             0      NaN  12:06:43  12:20:22   \n",
       "4              1          -1             0      NaN  14:35:44  14:38:56   \n",
       "5              1         109             1  failure  14:58:08  15:11:24   \n",
       "6              1          -1             0      NaN  13:00:02  13:03:17   \n",
       "7              4          -1             0      NaN  15:39:43  15:40:49   \n",
       "8              1          -1             0      NaN  12:20:56  12:22:42   \n",
       "9              2          -1             0      NaN  09:22:20  09:27:46   \n",
       "10             1          -1             0      NaN  13:04:28  13:07:29   \n",
       "11             1          -1             0      NaN  16:45:50  16:53:40   \n",
       "12             1          -1             0      NaN  16:19:41  16:31:22   \n",
       "13             2          -1             0      NaN  10:29:56  10:32:39   \n",
       "14             8          97            12    other  14:15:09  14:19:45   \n",
       "15             1         114             3  failure  16:18:48  16:20:59   \n",
       "16             3         362             4    other  11:48:45  11:50:17   \n",
       "17             4          95             2    other  11:23:26  11:34:24   \n",
       "18             1         169             2  failure  12:42:54  12:50:25   \n",
       "19             1          -1             0      NaN  10:34:08  10:41:44   \n",
       "20             8          -1             0      NaN  09:05:50  09:07:27   \n",
       "21             3          91            13  success  17:37:41  17:47:47   \n",
       "22             2          -1             0      NaN  14:28:54  14:32:32   \n",
       "23             1         119             2  success  15:37:19  15:42:23   \n",
       "24             1         558             7    other  16:30:52  16:32:59   \n",
       "25             2          -1             0      NaN  17:06:47  17:11:22   \n",
       "26             3          -1             0      NaN  10:09:02  10:10:46   \n",
       "27             3          -1             0      NaN  12:33:22  12:38:00   \n",
       "28             3          -1             0      NaN  13:50:40  13:52:29   \n",
       "29            14          -1             0      NaN  10:36:52  10:37:05   \n",
       "30             3          84             3  success  11:49:24  12:02:10   \n",
       "31             1         194             3  failure  10:23:34  10:26:08   \n",
       "32             3          -1             0      NaN  10:56:13  11:00:57   \n",
       "33             2          -1             0      NaN  15:36:06  15:42:29   \n",
       "34             7          -1             0      NaN  13:48:54  13:49:33   \n",
       "35             1          -1             0      NaN  14:50:44  14:59:10   \n",
       "36             3          -1             0      NaN  11:03:37  11:20:04   \n",
       "37             5          -1             0      NaN  15:55:55  15:56:36   \n",
       "38             3          -1             0      NaN  13:13:21  13:24:01   \n",
       "39             3          -1             0      NaN  15:33:58  15:35:08   \n",
       "40             2          -1             0      NaN  17:09:51  17:12:00   \n",
       "41             1          -1             0      NaN  11:29:28  11:31:42   \n",
       "42             1          -1             0      NaN  09:23:59  09:35:38   \n",
       "43             1         176             1  failure  10:50:44  10:57:56   \n",
       "44             1          -1             0      NaN  11:15:10  11:15:46   \n",
       "45             3          -1             0      NaN  16:20:13  16:22:06   \n",
       "46             1          -1             0      NaN  12:00:12  12:12:53   \n",
       "47             2          -1             0      NaN  16:23:38  16:42:04   \n",
       "48             4          -1             0      NaN  17:02:45  17:03:56   \n",
       "49             4          -1             0      NaN  09:31:15  09:34:42   \n",
       "\n",
       "    CarInsurance  \n",
       "0              0  \n",
       "1              0  \n",
       "2              1  \n",
       "3              1  \n",
       "4              0  \n",
       "5              1  \n",
       "6              1  \n",
       "7              0  \n",
       "8              0  \n",
       "9              0  \n",
       "10             0  \n",
       "11             1  \n",
       "12             1  \n",
       "13             0  \n",
       "14             1  \n",
       "15             1  \n",
       "16             0  \n",
       "17             1  \n",
       "18             1  \n",
       "19             1  \n",
       "20             0  \n",
       "21             1  \n",
       "22             0  \n",
       "23             1  \n",
       "24             1  \n",
       "25             0  \n",
       "26             0  \n",
       "27             1  \n",
       "28             0  \n",
       "29             0  \n",
       "30             1  \n",
       "31             0  \n",
       "32             1  \n",
       "33             0  \n",
       "34             0  \n",
       "35             0  \n",
       "36             0  \n",
       "37             0  \n",
       "38             1  \n",
       "39             0  \n",
       "40             0  \n",
       "41             0  \n",
       "42             1  \n",
       "43             1  \n",
       "44             0  \n",
       "45             0  \n",
       "46             1  \n",
       "47             1  \n",
       "48             0  \n",
       "49             0  "
      ]
     },
     "execution_count": 3,
     "metadata": {},
     "output_type": "execute_result"
    }
   ],
   "source": [
    "df.head(50)"
   ]
  },
  {
   "cell_type": "code",
   "execution_count": 4,
   "metadata": {
    "ExecuteTime": {
     "end_time": "2020-11-09T08:55:07.686666Z",
     "start_time": "2020-11-09T08:55:07.657746Z"
    }
   },
   "outputs": [
    {
     "name": "stdout",
     "output_type": "stream",
     "text": [
      "<class 'pandas.core.frame.DataFrame'>\n",
      "RangeIndex: 4000 entries, 0 to 3999\n",
      "Data columns (total 19 columns):\n",
      " #   Column            Non-Null Count  Dtype \n",
      "---  ------            --------------  ----- \n",
      " 0   Id                4000 non-null   int64 \n",
      " 1   Age               4000 non-null   int64 \n",
      " 2   Job               3981 non-null   object\n",
      " 3   Marital           4000 non-null   object\n",
      " 4   Education         3831 non-null   object\n",
      " 5   Default           4000 non-null   int64 \n",
      " 6   Balance           4000 non-null   int64 \n",
      " 7   HHInsurance       4000 non-null   int64 \n",
      " 8   CarLoan           4000 non-null   int64 \n",
      " 9   Communication     3098 non-null   object\n",
      " 10  LastContactDay    4000 non-null   int64 \n",
      " 11  LastContactMonth  4000 non-null   object\n",
      " 12  NoOfContacts      4000 non-null   int64 \n",
      " 13  DaysPassed        4000 non-null   int64 \n",
      " 14  PrevAttempts      4000 non-null   int64 \n",
      " 15  Outcome           958 non-null    object\n",
      " 16  CallStart         4000 non-null   object\n",
      " 17  CallEnd           4000 non-null   object\n",
      " 18  CarInsurance      4000 non-null   int64 \n",
      "dtypes: int64(11), object(8)\n",
      "memory usage: 593.9+ KB\n"
     ]
    }
   ],
   "source": [
    "df.info()"
   ]
  },
  {
   "cell_type": "code",
   "execution_count": 5,
   "metadata": {
    "ExecuteTime": {
     "end_time": "2020-11-09T08:55:07.752511Z",
     "start_time": "2020-11-09T08:55:07.690656Z"
    }
   },
   "outputs": [],
   "source": [
    "Insurance = []\n",
    "\n",
    "for i in df.columns:\n",
    "    Insurance .append([\n",
    "        i,\n",
    "        df[i].dtypes,\n",
    "        df[i].isna().sum(),\n",
    "        (((df[i].isna().sum())/len(df))*100).round(2),\n",
    "        df[i].nunique(),\n",
    "        df[i].drop_duplicates().sample(2).values\n",
    "    ])"
   ]
  },
  {
   "cell_type": "code",
   "execution_count": 6,
   "metadata": {
    "ExecuteTime": {
     "end_time": "2020-11-09T08:55:07.775464Z",
     "start_time": "2020-11-09T08:55:07.755503Z"
    },
    "scrolled": true
   },
   "outputs": [
    {
     "name": "stdout",
     "output_type": "stream",
     "text": [
      "<class 'pandas.core.frame.DataFrame'>\n",
      "RangeIndex: 4000 entries, 0 to 3999\n",
      "Data columns (total 19 columns):\n",
      " #   Column            Non-Null Count  Dtype \n",
      "---  ------            --------------  ----- \n",
      " 0   Id                4000 non-null   int64 \n",
      " 1   Age               4000 non-null   int64 \n",
      " 2   Job               3981 non-null   object\n",
      " 3   Marital           4000 non-null   object\n",
      " 4   Education         3831 non-null   object\n",
      " 5   Default           4000 non-null   int64 \n",
      " 6   Balance           4000 non-null   int64 \n",
      " 7   HHInsurance       4000 non-null   int64 \n",
      " 8   CarLoan           4000 non-null   int64 \n",
      " 9   Communication     3098 non-null   object\n",
      " 10  LastContactDay    4000 non-null   int64 \n",
      " 11  LastContactMonth  4000 non-null   object\n",
      " 12  NoOfContacts      4000 non-null   int64 \n",
      " 13  DaysPassed        4000 non-null   int64 \n",
      " 14  PrevAttempts      4000 non-null   int64 \n",
      " 15  Outcome           958 non-null    object\n",
      " 16  CallStart         4000 non-null   object\n",
      " 17  CallEnd           4000 non-null   object\n",
      " 18  CarInsurance      4000 non-null   int64 \n",
      "dtypes: int64(11), object(8)\n",
      "memory usage: 593.9+ KB\n"
     ]
    }
   ],
   "source": [
    "df.info()"
   ]
  },
  {
   "cell_type": "code",
   "execution_count": 7,
   "metadata": {
    "ExecuteTime": {
     "end_time": "2020-11-09T08:55:07.821388Z",
     "start_time": "2020-11-09T08:55:07.779453Z"
    }
   },
   "outputs": [
    {
     "data": {
      "text/html": [
       "<div>\n",
       "<style scoped>\n",
       "    .dataframe tbody tr th:only-of-type {\n",
       "        vertical-align: middle;\n",
       "    }\n",
       "\n",
       "    .dataframe tbody tr th {\n",
       "        vertical-align: top;\n",
       "    }\n",
       "\n",
       "    .dataframe thead th {\n",
       "        text-align: right;\n",
       "    }\n",
       "</style>\n",
       "<table border=\"1\" class=\"dataframe\">\n",
       "  <thead>\n",
       "    <tr style=\"text-align: right;\">\n",
       "      <th></th>\n",
       "      <th>Data Feature</th>\n",
       "      <th>Data types</th>\n",
       "      <th>Null</th>\n",
       "      <th>Null pct</th>\n",
       "      <th>Unique</th>\n",
       "      <th>Unique Sample</th>\n",
       "    </tr>\n",
       "  </thead>\n",
       "  <tbody>\n",
       "    <tr>\n",
       "      <th>0</th>\n",
       "      <td>Id</td>\n",
       "      <td>int64</td>\n",
       "      <td>0</td>\n",
       "      <td>0.00</td>\n",
       "      <td>4000</td>\n",
       "      <td>[935, 66]</td>\n",
       "    </tr>\n",
       "    <tr>\n",
       "      <th>1</th>\n",
       "      <td>Age</td>\n",
       "      <td>int64</td>\n",
       "      <td>0</td>\n",
       "      <td>0.00</td>\n",
       "      <td>70</td>\n",
       "      <td>[71, 78]</td>\n",
       "    </tr>\n",
       "    <tr>\n",
       "      <th>2</th>\n",
       "      <td>Job</td>\n",
       "      <td>object</td>\n",
       "      <td>19</td>\n",
       "      <td>0.48</td>\n",
       "      <td>11</td>\n",
       "      <td>[services, management]</td>\n",
       "    </tr>\n",
       "    <tr>\n",
       "      <th>3</th>\n",
       "      <td>Marital</td>\n",
       "      <td>object</td>\n",
       "      <td>0</td>\n",
       "      <td>0.00</td>\n",
       "      <td>3</td>\n",
       "      <td>[single, married]</td>\n",
       "    </tr>\n",
       "    <tr>\n",
       "      <th>4</th>\n",
       "      <td>Education</td>\n",
       "      <td>object</td>\n",
       "      <td>169</td>\n",
       "      <td>4.23</td>\n",
       "      <td>3</td>\n",
       "      <td>[secondary, nan]</td>\n",
       "    </tr>\n",
       "    <tr>\n",
       "      <th>5</th>\n",
       "      <td>Default</td>\n",
       "      <td>int64</td>\n",
       "      <td>0</td>\n",
       "      <td>0.00</td>\n",
       "      <td>2</td>\n",
       "      <td>[1, 0]</td>\n",
       "    </tr>\n",
       "    <tr>\n",
       "      <th>6</th>\n",
       "      <td>Balance</td>\n",
       "      <td>int64</td>\n",
       "      <td>0</td>\n",
       "      <td>0.00</td>\n",
       "      <td>2178</td>\n",
       "      <td>[1523, -333]</td>\n",
       "    </tr>\n",
       "    <tr>\n",
       "      <th>7</th>\n",
       "      <td>HHInsurance</td>\n",
       "      <td>int64</td>\n",
       "      <td>0</td>\n",
       "      <td>0.00</td>\n",
       "      <td>2</td>\n",
       "      <td>[1, 0]</td>\n",
       "    </tr>\n",
       "    <tr>\n",
       "      <th>8</th>\n",
       "      <td>CarLoan</td>\n",
       "      <td>int64</td>\n",
       "      <td>0</td>\n",
       "      <td>0.00</td>\n",
       "      <td>2</td>\n",
       "      <td>[0, 1]</td>\n",
       "    </tr>\n",
       "    <tr>\n",
       "      <th>9</th>\n",
       "      <td>Communication</td>\n",
       "      <td>object</td>\n",
       "      <td>902</td>\n",
       "      <td>22.55</td>\n",
       "      <td>2</td>\n",
       "      <td>[cellular, nan]</td>\n",
       "    </tr>\n",
       "    <tr>\n",
       "      <th>10</th>\n",
       "      <td>LastContactDay</td>\n",
       "      <td>int64</td>\n",
       "      <td>0</td>\n",
       "      <td>0.00</td>\n",
       "      <td>31</td>\n",
       "      <td>[26, 2]</td>\n",
       "    </tr>\n",
       "    <tr>\n",
       "      <th>11</th>\n",
       "      <td>LastContactMonth</td>\n",
       "      <td>object</td>\n",
       "      <td>0</td>\n",
       "      <td>0.00</td>\n",
       "      <td>12</td>\n",
       "      <td>[feb, mar]</td>\n",
       "    </tr>\n",
       "    <tr>\n",
       "      <th>12</th>\n",
       "      <td>NoOfContacts</td>\n",
       "      <td>int64</td>\n",
       "      <td>0</td>\n",
       "      <td>0.00</td>\n",
       "      <td>35</td>\n",
       "      <td>[12, 27]</td>\n",
       "    </tr>\n",
       "    <tr>\n",
       "      <th>13</th>\n",
       "      <td>DaysPassed</td>\n",
       "      <td>int64</td>\n",
       "      <td>0</td>\n",
       "      <td>0.00</td>\n",
       "      <td>330</td>\n",
       "      <td>[371, 105]</td>\n",
       "    </tr>\n",
       "    <tr>\n",
       "      <th>14</th>\n",
       "      <td>PrevAttempts</td>\n",
       "      <td>int64</td>\n",
       "      <td>0</td>\n",
       "      <td>0.00</td>\n",
       "      <td>20</td>\n",
       "      <td>[7, 6]</td>\n",
       "    </tr>\n",
       "    <tr>\n",
       "      <th>15</th>\n",
       "      <td>Outcome</td>\n",
       "      <td>object</td>\n",
       "      <td>3042</td>\n",
       "      <td>76.05</td>\n",
       "      <td>3</td>\n",
       "      <td>[failure, other]</td>\n",
       "    </tr>\n",
       "    <tr>\n",
       "      <th>16</th>\n",
       "      <td>CallStart</td>\n",
       "      <td>object</td>\n",
       "      <td>0</td>\n",
       "      <td>0.00</td>\n",
       "      <td>3777</td>\n",
       "      <td>[17:11:55, 15:07:13]</td>\n",
       "    </tr>\n",
       "    <tr>\n",
       "      <th>17</th>\n",
       "      <td>CallEnd</td>\n",
       "      <td>object</td>\n",
       "      <td>0</td>\n",
       "      <td>0.00</td>\n",
       "      <td>3764</td>\n",
       "      <td>[10:46:20, 09:45:54]</td>\n",
       "    </tr>\n",
       "    <tr>\n",
       "      <th>18</th>\n",
       "      <td>CarInsurance</td>\n",
       "      <td>int64</td>\n",
       "      <td>0</td>\n",
       "      <td>0.00</td>\n",
       "      <td>2</td>\n",
       "      <td>[1, 0]</td>\n",
       "    </tr>\n",
       "  </tbody>\n",
       "</table>\n",
       "</div>"
      ],
      "text/plain": [
       "        Data Feature Data types  Null  Null pct  Unique  \\\n",
       "0                 Id      int64     0      0.00    4000   \n",
       "1                Age      int64     0      0.00      70   \n",
       "2                Job     object    19      0.48      11   \n",
       "3            Marital     object     0      0.00       3   \n",
       "4          Education     object   169      4.23       3   \n",
       "5            Default      int64     0      0.00       2   \n",
       "6            Balance      int64     0      0.00    2178   \n",
       "7        HHInsurance      int64     0      0.00       2   \n",
       "8            CarLoan      int64     0      0.00       2   \n",
       "9      Communication     object   902     22.55       2   \n",
       "10    LastContactDay      int64     0      0.00      31   \n",
       "11  LastContactMonth     object     0      0.00      12   \n",
       "12      NoOfContacts      int64     0      0.00      35   \n",
       "13        DaysPassed      int64     0      0.00     330   \n",
       "14      PrevAttempts      int64     0      0.00      20   \n",
       "15           Outcome     object  3042     76.05       3   \n",
       "16         CallStart     object     0      0.00    3777   \n",
       "17           CallEnd     object     0      0.00    3764   \n",
       "18      CarInsurance      int64     0      0.00       2   \n",
       "\n",
       "             Unique Sample  \n",
       "0                [935, 66]  \n",
       "1                 [71, 78]  \n",
       "2   [services, management]  \n",
       "3        [single, married]  \n",
       "4         [secondary, nan]  \n",
       "5                   [1, 0]  \n",
       "6             [1523, -333]  \n",
       "7                   [1, 0]  \n",
       "8                   [0, 1]  \n",
       "9          [cellular, nan]  \n",
       "10                 [26, 2]  \n",
       "11              [feb, mar]  \n",
       "12                [12, 27]  \n",
       "13              [371, 105]  \n",
       "14                  [7, 6]  \n",
       "15        [failure, other]  \n",
       "16    [17:11:55, 15:07:13]  \n",
       "17    [10:46:20, 09:45:54]  \n",
       "18                  [1, 0]  "
      ]
     },
     "execution_count": 7,
     "metadata": {},
     "output_type": "execute_result"
    }
   ],
   "source": [
    "pd.DataFrame(data = Insurance, columns = [\n",
    "    'Data Feature',\n",
    "    'Data types',\n",
    "    'Null',\n",
    "    'Null pct',\n",
    "    'Unique',\n",
    "    'Unique Sample'\n",
    "])"
   ]
  },
  {
   "cell_type": "code",
   "execution_count": 8,
   "metadata": {
    "ExecuteTime": {
     "end_time": "2020-11-09T08:55:07.839384Z",
     "start_time": "2020-11-09T08:55:07.825378Z"
    },
    "scrolled": true
   },
   "outputs": [
    {
     "data": {
      "text/plain": [
       "Outcome             3042\n",
       "Communication        902\n",
       "Education            169\n",
       "Job                   19\n",
       "CarLoan                0\n",
       "Age                    0\n",
       "Marital                0\n",
       "Default                0\n",
       "Balance                0\n",
       "HHInsurance            0\n",
       "CarInsurance           0\n",
       "CallEnd                0\n",
       "LastContactDay         0\n",
       "LastContactMonth       0\n",
       "NoOfContacts           0\n",
       "DaysPassed             0\n",
       "PrevAttempts           0\n",
       "CallStart              0\n",
       "Id                     0\n",
       "dtype: int64"
      ]
     },
     "execution_count": 8,
     "metadata": {},
     "output_type": "execute_result"
    }
   ],
   "source": [
    "df.isnull().sum().sort_values(ascending=False)"
   ]
  },
  {
   "cell_type": "code",
   "execution_count": 9,
   "metadata": {
    "ExecuteTime": {
     "end_time": "2020-11-09T08:55:07.895338Z",
     "start_time": "2020-11-09T08:55:07.843373Z"
    },
    "scrolled": true
   },
   "outputs": [
    {
     "data": {
      "text/html": [
       "<div>\n",
       "<style scoped>\n",
       "    .dataframe tbody tr th:only-of-type {\n",
       "        vertical-align: middle;\n",
       "    }\n",
       "\n",
       "    .dataframe tbody tr th {\n",
       "        vertical-align: top;\n",
       "    }\n",
       "\n",
       "    .dataframe thead th {\n",
       "        text-align: right;\n",
       "    }\n",
       "</style>\n",
       "<table border=\"1\" class=\"dataframe\">\n",
       "  <thead>\n",
       "    <tr style=\"text-align: right;\">\n",
       "      <th></th>\n",
       "      <th>Id</th>\n",
       "      <th>Age</th>\n",
       "      <th>Default</th>\n",
       "      <th>Balance</th>\n",
       "      <th>HHInsurance</th>\n",
       "      <th>CarLoan</th>\n",
       "      <th>LastContactDay</th>\n",
       "      <th>NoOfContacts</th>\n",
       "      <th>DaysPassed</th>\n",
       "      <th>PrevAttempts</th>\n",
       "      <th>CarInsurance</th>\n",
       "    </tr>\n",
       "  </thead>\n",
       "  <tbody>\n",
       "    <tr>\n",
       "      <th>count</th>\n",
       "      <td>4000.000000</td>\n",
       "      <td>4000.000000</td>\n",
       "      <td>4000.000000</td>\n",
       "      <td>4000.000000</td>\n",
       "      <td>4000.00000</td>\n",
       "      <td>4000.000000</td>\n",
       "      <td>4000.000000</td>\n",
       "      <td>4000.000000</td>\n",
       "      <td>4000.000000</td>\n",
       "      <td>4000.000000</td>\n",
       "      <td>4000.000000</td>\n",
       "    </tr>\n",
       "    <tr>\n",
       "      <th>mean</th>\n",
       "      <td>2000.500000</td>\n",
       "      <td>41.214750</td>\n",
       "      <td>0.014500</td>\n",
       "      <td>1532.937250</td>\n",
       "      <td>0.49275</td>\n",
       "      <td>0.133000</td>\n",
       "      <td>15.721250</td>\n",
       "      <td>2.607250</td>\n",
       "      <td>48.706500</td>\n",
       "      <td>0.717500</td>\n",
       "      <td>0.401000</td>\n",
       "    </tr>\n",
       "    <tr>\n",
       "      <th>std</th>\n",
       "      <td>1154.844867</td>\n",
       "      <td>11.550194</td>\n",
       "      <td>0.119555</td>\n",
       "      <td>3511.452489</td>\n",
       "      <td>0.50001</td>\n",
       "      <td>0.339617</td>\n",
       "      <td>8.425307</td>\n",
       "      <td>3.064204</td>\n",
       "      <td>106.685385</td>\n",
       "      <td>2.078647</td>\n",
       "      <td>0.490162</td>\n",
       "    </tr>\n",
       "    <tr>\n",
       "      <th>min</th>\n",
       "      <td>1.000000</td>\n",
       "      <td>18.000000</td>\n",
       "      <td>0.000000</td>\n",
       "      <td>-3058.000000</td>\n",
       "      <td>0.00000</td>\n",
       "      <td>0.000000</td>\n",
       "      <td>1.000000</td>\n",
       "      <td>1.000000</td>\n",
       "      <td>-1.000000</td>\n",
       "      <td>0.000000</td>\n",
       "      <td>0.000000</td>\n",
       "    </tr>\n",
       "    <tr>\n",
       "      <th>25%</th>\n",
       "      <td>1000.750000</td>\n",
       "      <td>32.000000</td>\n",
       "      <td>0.000000</td>\n",
       "      <td>111.000000</td>\n",
       "      <td>0.00000</td>\n",
       "      <td>0.000000</td>\n",
       "      <td>8.000000</td>\n",
       "      <td>1.000000</td>\n",
       "      <td>-1.000000</td>\n",
       "      <td>0.000000</td>\n",
       "      <td>0.000000</td>\n",
       "    </tr>\n",
       "    <tr>\n",
       "      <th>50%</th>\n",
       "      <td>2000.500000</td>\n",
       "      <td>39.000000</td>\n",
       "      <td>0.000000</td>\n",
       "      <td>551.500000</td>\n",
       "      <td>0.00000</td>\n",
       "      <td>0.000000</td>\n",
       "      <td>16.000000</td>\n",
       "      <td>2.000000</td>\n",
       "      <td>-1.000000</td>\n",
       "      <td>0.000000</td>\n",
       "      <td>0.000000</td>\n",
       "    </tr>\n",
       "    <tr>\n",
       "      <th>75%</th>\n",
       "      <td>3000.250000</td>\n",
       "      <td>49.000000</td>\n",
       "      <td>0.000000</td>\n",
       "      <td>1619.000000</td>\n",
       "      <td>1.00000</td>\n",
       "      <td>0.000000</td>\n",
       "      <td>22.000000</td>\n",
       "      <td>3.000000</td>\n",
       "      <td>-1.000000</td>\n",
       "      <td>0.000000</td>\n",
       "      <td>1.000000</td>\n",
       "    </tr>\n",
       "    <tr>\n",
       "      <th>max</th>\n",
       "      <td>4000.000000</td>\n",
       "      <td>95.000000</td>\n",
       "      <td>1.000000</td>\n",
       "      <td>98417.000000</td>\n",
       "      <td>1.00000</td>\n",
       "      <td>1.000000</td>\n",
       "      <td>31.000000</td>\n",
       "      <td>43.000000</td>\n",
       "      <td>854.000000</td>\n",
       "      <td>58.000000</td>\n",
       "      <td>1.000000</td>\n",
       "    </tr>\n",
       "  </tbody>\n",
       "</table>\n",
       "</div>"
      ],
      "text/plain": [
       "                Id          Age      Default       Balance  HHInsurance  \\\n",
       "count  4000.000000  4000.000000  4000.000000   4000.000000   4000.00000   \n",
       "mean   2000.500000    41.214750     0.014500   1532.937250      0.49275   \n",
       "std    1154.844867    11.550194     0.119555   3511.452489      0.50001   \n",
       "min       1.000000    18.000000     0.000000  -3058.000000      0.00000   \n",
       "25%    1000.750000    32.000000     0.000000    111.000000      0.00000   \n",
       "50%    2000.500000    39.000000     0.000000    551.500000      0.00000   \n",
       "75%    3000.250000    49.000000     0.000000   1619.000000      1.00000   \n",
       "max    4000.000000    95.000000     1.000000  98417.000000      1.00000   \n",
       "\n",
       "           CarLoan  LastContactDay  NoOfContacts   DaysPassed  PrevAttempts  \\\n",
       "count  4000.000000     4000.000000   4000.000000  4000.000000   4000.000000   \n",
       "mean      0.133000       15.721250      2.607250    48.706500      0.717500   \n",
       "std       0.339617        8.425307      3.064204   106.685385      2.078647   \n",
       "min       0.000000        1.000000      1.000000    -1.000000      0.000000   \n",
       "25%       0.000000        8.000000      1.000000    -1.000000      0.000000   \n",
       "50%       0.000000       16.000000      2.000000    -1.000000      0.000000   \n",
       "75%       0.000000       22.000000      3.000000    -1.000000      0.000000   \n",
       "max       1.000000       31.000000     43.000000   854.000000     58.000000   \n",
       "\n",
       "       CarInsurance  \n",
       "count   4000.000000  \n",
       "mean       0.401000  \n",
       "std        0.490162  \n",
       "min        0.000000  \n",
       "25%        0.000000  \n",
       "50%        0.000000  \n",
       "75%        1.000000  \n",
       "max        1.000000  "
      ]
     },
     "execution_count": 9,
     "metadata": {},
     "output_type": "execute_result"
    }
   ],
   "source": [
    "df.describe()"
   ]
  },
  {
   "cell_type": "code",
   "execution_count": 10,
   "metadata": {
    "ExecuteTime": {
     "end_time": "2020-11-09T08:55:07.903354Z",
     "start_time": "2020-11-09T08:55:07.898369Z"
    }
   },
   "outputs": [],
   "source": [
    "# I am sure that ID columns will be useless for this model"
   ]
  },
  {
   "cell_type": "code",
   "execution_count": 11,
   "metadata": {
    "ExecuteTime": {
     "end_time": "2020-11-09T08:55:07.916374Z",
     "start_time": "2020-11-09T08:55:07.908398Z"
    }
   },
   "outputs": [],
   "source": [
    "df.drop(columns='Id',inplace= True)"
   ]
  },
  {
   "cell_type": "markdown",
   "metadata": {
    "ExecuteTime": {
     "end_time": "2020-11-09T03:48:51.147588Z",
     "start_time": "2020-11-09T03:48:51.143596Z"
    }
   },
   "source": [
    "# HANDLING MISSING VALUES"
   ]
  },
  {
   "cell_type": "markdown",
   "metadata": {
    "ExecuteTime": {
     "end_time": "2020-11-09T03:54:22.590652Z",
     "start_time": "2020-11-09T03:54:22.585667Z"
    }
   },
   "source": [
    "## JOB"
   ]
  },
  {
   "cell_type": "code",
   "execution_count": 12,
   "metadata": {
    "ExecuteTime": {
     "end_time": "2020-11-09T08:55:07.924352Z",
     "start_time": "2020-11-09T08:55:07.920362Z"
    }
   },
   "outputs": [],
   "source": [
    "# my purpose is to fill missing values in job columns with mode. But, in some case, for missing values job with conditions, i.e Age 78 (NAN),\n",
    "# probably is retired."
   ]
  },
  {
   "cell_type": "code",
   "execution_count": 13,
   "metadata": {
    "ExecuteTime": {
     "end_time": "2020-11-09T08:55:07.939415Z",
     "start_time": "2020-11-09T08:55:07.930440Z"
    }
   },
   "outputs": [
    {
     "data": {
      "text/plain": [
       "array(['management', 'blue-collar', 'student', 'technician', 'admin.',\n",
       "       'services', 'self-employed', 'retired', nan, 'housemaid',\n",
       "       'entrepreneur', 'unemployed'], dtype=object)"
      ]
     },
     "execution_count": 13,
     "metadata": {},
     "output_type": "execute_result"
    }
   ],
   "source": [
    "df.Job.unique()"
   ]
  },
  {
   "cell_type": "code",
   "execution_count": 14,
   "metadata": {
    "ExecuteTime": {
     "end_time": "2020-11-09T08:55:07.996363Z",
     "start_time": "2020-11-09T08:55:07.943405Z"
    },
    "scrolled": true
   },
   "outputs": [
    {
     "data": {
      "text/html": [
       "<div>\n",
       "<style scoped>\n",
       "    .dataframe tbody tr th:only-of-type {\n",
       "        vertical-align: middle;\n",
       "    }\n",
       "\n",
       "    .dataframe tbody tr th {\n",
       "        vertical-align: top;\n",
       "    }\n",
       "\n",
       "    .dataframe thead th {\n",
       "        text-align: right;\n",
       "    }\n",
       "</style>\n",
       "<table border=\"1\" class=\"dataframe\">\n",
       "  <thead>\n",
       "    <tr style=\"text-align: right;\">\n",
       "      <th></th>\n",
       "      <th>Age</th>\n",
       "      <th>Job</th>\n",
       "      <th>Marital</th>\n",
       "      <th>Education</th>\n",
       "      <th>Default</th>\n",
       "      <th>Balance</th>\n",
       "      <th>HHInsurance</th>\n",
       "      <th>CarLoan</th>\n",
       "      <th>Communication</th>\n",
       "      <th>LastContactDay</th>\n",
       "      <th>LastContactMonth</th>\n",
       "      <th>NoOfContacts</th>\n",
       "      <th>DaysPassed</th>\n",
       "      <th>PrevAttempts</th>\n",
       "      <th>Outcome</th>\n",
       "      <th>CallStart</th>\n",
       "      <th>CallEnd</th>\n",
       "      <th>CarInsurance</th>\n",
       "    </tr>\n",
       "  </thead>\n",
       "  <tbody>\n",
       "    <tr>\n",
       "      <th>27</th>\n",
       "      <td>45</td>\n",
       "      <td>NaN</td>\n",
       "      <td>divorced</td>\n",
       "      <td>NaN</td>\n",
       "      <td>0</td>\n",
       "      <td>0</td>\n",
       "      <td>0</td>\n",
       "      <td>0</td>\n",
       "      <td>cellular</td>\n",
       "      <td>21</td>\n",
       "      <td>apr</td>\n",
       "      <td>3</td>\n",
       "      <td>-1</td>\n",
       "      <td>0</td>\n",
       "      <td>NaN</td>\n",
       "      <td>12:33:22</td>\n",
       "      <td>12:38:00</td>\n",
       "      <td>1</td>\n",
       "    </tr>\n",
       "    <tr>\n",
       "      <th>239</th>\n",
       "      <td>41</td>\n",
       "      <td>NaN</td>\n",
       "      <td>single</td>\n",
       "      <td>NaN</td>\n",
       "      <td>0</td>\n",
       "      <td>942</td>\n",
       "      <td>0</td>\n",
       "      <td>0</td>\n",
       "      <td>cellular</td>\n",
       "      <td>27</td>\n",
       "      <td>oct</td>\n",
       "      <td>1</td>\n",
       "      <td>188</td>\n",
       "      <td>1</td>\n",
       "      <td>success</td>\n",
       "      <td>16:39:43</td>\n",
       "      <td>16:42:06</td>\n",
       "      <td>1</td>\n",
       "    </tr>\n",
       "    <tr>\n",
       "      <th>486</th>\n",
       "      <td>54</td>\n",
       "      <td>NaN</td>\n",
       "      <td>married</td>\n",
       "      <td>primary</td>\n",
       "      <td>0</td>\n",
       "      <td>981</td>\n",
       "      <td>0</td>\n",
       "      <td>0</td>\n",
       "      <td>cellular</td>\n",
       "      <td>22</td>\n",
       "      <td>aug</td>\n",
       "      <td>12</td>\n",
       "      <td>-1</td>\n",
       "      <td>0</td>\n",
       "      <td>NaN</td>\n",
       "      <td>11:31:36</td>\n",
       "      <td>11:42:27</td>\n",
       "      <td>0</td>\n",
       "    </tr>\n",
       "    <tr>\n",
       "      <th>536</th>\n",
       "      <td>33</td>\n",
       "      <td>NaN</td>\n",
       "      <td>single</td>\n",
       "      <td>secondary</td>\n",
       "      <td>0</td>\n",
       "      <td>1522</td>\n",
       "      <td>0</td>\n",
       "      <td>1</td>\n",
       "      <td>cellular</td>\n",
       "      <td>19</td>\n",
       "      <td>nov</td>\n",
       "      <td>1</td>\n",
       "      <td>-1</td>\n",
       "      <td>0</td>\n",
       "      <td>NaN</td>\n",
       "      <td>12:44:40</td>\n",
       "      <td>13:00:46</td>\n",
       "      <td>0</td>\n",
       "    </tr>\n",
       "    <tr>\n",
       "      <th>605</th>\n",
       "      <td>53</td>\n",
       "      <td>NaN</td>\n",
       "      <td>married</td>\n",
       "      <td>primary</td>\n",
       "      <td>0</td>\n",
       "      <td>732</td>\n",
       "      <td>0</td>\n",
       "      <td>0</td>\n",
       "      <td>cellular</td>\n",
       "      <td>27</td>\n",
       "      <td>oct</td>\n",
       "      <td>2</td>\n",
       "      <td>-1</td>\n",
       "      <td>0</td>\n",
       "      <td>NaN</td>\n",
       "      <td>09:01:01</td>\n",
       "      <td>09:13:40</td>\n",
       "      <td>1</td>\n",
       "    </tr>\n",
       "    <tr>\n",
       "      <th>1130</th>\n",
       "      <td>55</td>\n",
       "      <td>NaN</td>\n",
       "      <td>married</td>\n",
       "      <td>tertiary</td>\n",
       "      <td>0</td>\n",
       "      <td>0</td>\n",
       "      <td>0</td>\n",
       "      <td>0</td>\n",
       "      <td>NaN</td>\n",
       "      <td>5</td>\n",
       "      <td>jun</td>\n",
       "      <td>1</td>\n",
       "      <td>-1</td>\n",
       "      <td>0</td>\n",
       "      <td>NaN</td>\n",
       "      <td>14:36:38</td>\n",
       "      <td>14:37:16</td>\n",
       "      <td>0</td>\n",
       "    </tr>\n",
       "    <tr>\n",
       "      <th>1147</th>\n",
       "      <td>50</td>\n",
       "      <td>NaN</td>\n",
       "      <td>married</td>\n",
       "      <td>NaN</td>\n",
       "      <td>0</td>\n",
       "      <td>558</td>\n",
       "      <td>0</td>\n",
       "      <td>0</td>\n",
       "      <td>cellular</td>\n",
       "      <td>9</td>\n",
       "      <td>jul</td>\n",
       "      <td>1</td>\n",
       "      <td>683</td>\n",
       "      <td>6</td>\n",
       "      <td>failure</td>\n",
       "      <td>09:01:52</td>\n",
       "      <td>09:09:36</td>\n",
       "      <td>1</td>\n",
       "    </tr>\n",
       "    <tr>\n",
       "      <th>1438</th>\n",
       "      <td>27</td>\n",
       "      <td>NaN</td>\n",
       "      <td>single</td>\n",
       "      <td>secondary</td>\n",
       "      <td>0</td>\n",
       "      <td>1187</td>\n",
       "      <td>0</td>\n",
       "      <td>0</td>\n",
       "      <td>telephone</td>\n",
       "      <td>26</td>\n",
       "      <td>feb</td>\n",
       "      <td>1</td>\n",
       "      <td>101</td>\n",
       "      <td>1</td>\n",
       "      <td>failure</td>\n",
       "      <td>09:13:46</td>\n",
       "      <td>09:17:38</td>\n",
       "      <td>1</td>\n",
       "    </tr>\n",
       "    <tr>\n",
       "      <th>1755</th>\n",
       "      <td>28</td>\n",
       "      <td>NaN</td>\n",
       "      <td>single</td>\n",
       "      <td>secondary</td>\n",
       "      <td>0</td>\n",
       "      <td>4465</td>\n",
       "      <td>0</td>\n",
       "      <td>0</td>\n",
       "      <td>cellular</td>\n",
       "      <td>28</td>\n",
       "      <td>jan</td>\n",
       "      <td>1</td>\n",
       "      <td>-1</td>\n",
       "      <td>0</td>\n",
       "      <td>NaN</td>\n",
       "      <td>14:03:50</td>\n",
       "      <td>14:16:39</td>\n",
       "      <td>1</td>\n",
       "    </tr>\n",
       "    <tr>\n",
       "      <th>1978</th>\n",
       "      <td>49</td>\n",
       "      <td>NaN</td>\n",
       "      <td>single</td>\n",
       "      <td>tertiary</td>\n",
       "      <td>0</td>\n",
       "      <td>2226</td>\n",
       "      <td>0</td>\n",
       "      <td>0</td>\n",
       "      <td>NaN</td>\n",
       "      <td>17</td>\n",
       "      <td>jun</td>\n",
       "      <td>3</td>\n",
       "      <td>-1</td>\n",
       "      <td>0</td>\n",
       "      <td>NaN</td>\n",
       "      <td>17:14:08</td>\n",
       "      <td>17:16:26</td>\n",
       "      <td>0</td>\n",
       "    </tr>\n",
       "    <tr>\n",
       "      <th>2032</th>\n",
       "      <td>44</td>\n",
       "      <td>NaN</td>\n",
       "      <td>married</td>\n",
       "      <td>NaN</td>\n",
       "      <td>0</td>\n",
       "      <td>722</td>\n",
       "      <td>1</td>\n",
       "      <td>0</td>\n",
       "      <td>telephone</td>\n",
       "      <td>22</td>\n",
       "      <td>jul</td>\n",
       "      <td>2</td>\n",
       "      <td>-1</td>\n",
       "      <td>0</td>\n",
       "      <td>NaN</td>\n",
       "      <td>14:34:58</td>\n",
       "      <td>14:39:27</td>\n",
       "      <td>0</td>\n",
       "    </tr>\n",
       "    <tr>\n",
       "      <th>2168</th>\n",
       "      <td>55</td>\n",
       "      <td>NaN</td>\n",
       "      <td>married</td>\n",
       "      <td>secondary</td>\n",
       "      <td>0</td>\n",
       "      <td>2206</td>\n",
       "      <td>0</td>\n",
       "      <td>0</td>\n",
       "      <td>cellular</td>\n",
       "      <td>12</td>\n",
       "      <td>aug</td>\n",
       "      <td>1</td>\n",
       "      <td>91</td>\n",
       "      <td>5</td>\n",
       "      <td>success</td>\n",
       "      <td>13:00:55</td>\n",
       "      <td>13:05:20</td>\n",
       "      <td>1</td>\n",
       "    </tr>\n",
       "    <tr>\n",
       "      <th>2655</th>\n",
       "      <td>46</td>\n",
       "      <td>NaN</td>\n",
       "      <td>single</td>\n",
       "      <td>primary</td>\n",
       "      <td>0</td>\n",
       "      <td>10</td>\n",
       "      <td>0</td>\n",
       "      <td>0</td>\n",
       "      <td>NaN</td>\n",
       "      <td>18</td>\n",
       "      <td>jun</td>\n",
       "      <td>6</td>\n",
       "      <td>-1</td>\n",
       "      <td>0</td>\n",
       "      <td>NaN</td>\n",
       "      <td>17:21:19</td>\n",
       "      <td>17:22:23</td>\n",
       "      <td>0</td>\n",
       "    </tr>\n",
       "    <tr>\n",
       "      <th>2685</th>\n",
       "      <td>50</td>\n",
       "      <td>NaN</td>\n",
       "      <td>married</td>\n",
       "      <td>NaN</td>\n",
       "      <td>0</td>\n",
       "      <td>1533</td>\n",
       "      <td>0</td>\n",
       "      <td>0</td>\n",
       "      <td>cellular</td>\n",
       "      <td>4</td>\n",
       "      <td>aug</td>\n",
       "      <td>1</td>\n",
       "      <td>-1</td>\n",
       "      <td>0</td>\n",
       "      <td>NaN</td>\n",
       "      <td>14:36:57</td>\n",
       "      <td>14:39:34</td>\n",
       "      <td>0</td>\n",
       "    </tr>\n",
       "    <tr>\n",
       "      <th>2842</th>\n",
       "      <td>28</td>\n",
       "      <td>NaN</td>\n",
       "      <td>single</td>\n",
       "      <td>NaN</td>\n",
       "      <td>0</td>\n",
       "      <td>326</td>\n",
       "      <td>0</td>\n",
       "      <td>0</td>\n",
       "      <td>cellular</td>\n",
       "      <td>11</td>\n",
       "      <td>oct</td>\n",
       "      <td>1</td>\n",
       "      <td>231</td>\n",
       "      <td>1</td>\n",
       "      <td>success</td>\n",
       "      <td>10:11:10</td>\n",
       "      <td>10:18:40</td>\n",
       "      <td>1</td>\n",
       "    </tr>\n",
       "    <tr>\n",
       "      <th>2941</th>\n",
       "      <td>78</td>\n",
       "      <td>NaN</td>\n",
       "      <td>married</td>\n",
       "      <td>NaN</td>\n",
       "      <td>0</td>\n",
       "      <td>2235</td>\n",
       "      <td>0</td>\n",
       "      <td>0</td>\n",
       "      <td>telephone</td>\n",
       "      <td>14</td>\n",
       "      <td>apr</td>\n",
       "      <td>3</td>\n",
       "      <td>-1</td>\n",
       "      <td>0</td>\n",
       "      <td>NaN</td>\n",
       "      <td>16:31:36</td>\n",
       "      <td>16:36:36</td>\n",
       "      <td>1</td>\n",
       "    </tr>\n",
       "    <tr>\n",
       "      <th>3490</th>\n",
       "      <td>43</td>\n",
       "      <td>NaN</td>\n",
       "      <td>married</td>\n",
       "      <td>primary</td>\n",
       "      <td>0</td>\n",
       "      <td>2113</td>\n",
       "      <td>0</td>\n",
       "      <td>0</td>\n",
       "      <td>cellular</td>\n",
       "      <td>29</td>\n",
       "      <td>jul</td>\n",
       "      <td>2</td>\n",
       "      <td>-1</td>\n",
       "      <td>0</td>\n",
       "      <td>NaN</td>\n",
       "      <td>12:39:57</td>\n",
       "      <td>12:40:30</td>\n",
       "      <td>0</td>\n",
       "    </tr>\n",
       "    <tr>\n",
       "      <th>3615</th>\n",
       "      <td>39</td>\n",
       "      <td>NaN</td>\n",
       "      <td>single</td>\n",
       "      <td>NaN</td>\n",
       "      <td>0</td>\n",
       "      <td>0</td>\n",
       "      <td>0</td>\n",
       "      <td>0</td>\n",
       "      <td>telephone</td>\n",
       "      <td>28</td>\n",
       "      <td>jan</td>\n",
       "      <td>1</td>\n",
       "      <td>-1</td>\n",
       "      <td>0</td>\n",
       "      <td>NaN</td>\n",
       "      <td>10:20:54</td>\n",
       "      <td>10:21:22</td>\n",
       "      <td>0</td>\n",
       "    </tr>\n",
       "    <tr>\n",
       "      <th>3738</th>\n",
       "      <td>26</td>\n",
       "      <td>NaN</td>\n",
       "      <td>divorced</td>\n",
       "      <td>secondary</td>\n",
       "      <td>0</td>\n",
       "      <td>-295</td>\n",
       "      <td>1</td>\n",
       "      <td>0</td>\n",
       "      <td>cellular</td>\n",
       "      <td>7</td>\n",
       "      <td>may</td>\n",
       "      <td>1</td>\n",
       "      <td>-1</td>\n",
       "      <td>0</td>\n",
       "      <td>NaN</td>\n",
       "      <td>09:59:39</td>\n",
       "      <td>10:08:55</td>\n",
       "      <td>0</td>\n",
       "    </tr>\n",
       "  </tbody>\n",
       "</table>\n",
       "</div>"
      ],
      "text/plain": [
       "      Age  Job   Marital  Education  Default  Balance  HHInsurance  CarLoan  \\\n",
       "27     45  NaN  divorced        NaN        0        0            0        0   \n",
       "239    41  NaN    single        NaN        0      942            0        0   \n",
       "486    54  NaN   married    primary        0      981            0        0   \n",
       "536    33  NaN    single  secondary        0     1522            0        1   \n",
       "605    53  NaN   married    primary        0      732            0        0   \n",
       "1130   55  NaN   married   tertiary        0        0            0        0   \n",
       "1147   50  NaN   married        NaN        0      558            0        0   \n",
       "1438   27  NaN    single  secondary        0     1187            0        0   \n",
       "1755   28  NaN    single  secondary        0     4465            0        0   \n",
       "1978   49  NaN    single   tertiary        0     2226            0        0   \n",
       "2032   44  NaN   married        NaN        0      722            1        0   \n",
       "2168   55  NaN   married  secondary        0     2206            0        0   \n",
       "2655   46  NaN    single    primary        0       10            0        0   \n",
       "2685   50  NaN   married        NaN        0     1533            0        0   \n",
       "2842   28  NaN    single        NaN        0      326            0        0   \n",
       "2941   78  NaN   married        NaN        0     2235            0        0   \n",
       "3490   43  NaN   married    primary        0     2113            0        0   \n",
       "3615   39  NaN    single        NaN        0        0            0        0   \n",
       "3738   26  NaN  divorced  secondary        0     -295            1        0   \n",
       "\n",
       "     Communication  LastContactDay LastContactMonth  NoOfContacts  DaysPassed  \\\n",
       "27        cellular              21              apr             3          -1   \n",
       "239       cellular              27              oct             1         188   \n",
       "486       cellular              22              aug            12          -1   \n",
       "536       cellular              19              nov             1          -1   \n",
       "605       cellular              27              oct             2          -1   \n",
       "1130           NaN               5              jun             1          -1   \n",
       "1147      cellular               9              jul             1         683   \n",
       "1438     telephone              26              feb             1         101   \n",
       "1755      cellular              28              jan             1          -1   \n",
       "1978           NaN              17              jun             3          -1   \n",
       "2032     telephone              22              jul             2          -1   \n",
       "2168      cellular              12              aug             1          91   \n",
       "2655           NaN              18              jun             6          -1   \n",
       "2685      cellular               4              aug             1          -1   \n",
       "2842      cellular              11              oct             1         231   \n",
       "2941     telephone              14              apr             3          -1   \n",
       "3490      cellular              29              jul             2          -1   \n",
       "3615     telephone              28              jan             1          -1   \n",
       "3738      cellular               7              may             1          -1   \n",
       "\n",
       "      PrevAttempts  Outcome CallStart   CallEnd  CarInsurance  \n",
       "27               0      NaN  12:33:22  12:38:00             1  \n",
       "239              1  success  16:39:43  16:42:06             1  \n",
       "486              0      NaN  11:31:36  11:42:27             0  \n",
       "536              0      NaN  12:44:40  13:00:46             0  \n",
       "605              0      NaN  09:01:01  09:13:40             1  \n",
       "1130             0      NaN  14:36:38  14:37:16             0  \n",
       "1147             6  failure  09:01:52  09:09:36             1  \n",
       "1438             1  failure  09:13:46  09:17:38             1  \n",
       "1755             0      NaN  14:03:50  14:16:39             1  \n",
       "1978             0      NaN  17:14:08  17:16:26             0  \n",
       "2032             0      NaN  14:34:58  14:39:27             0  \n",
       "2168             5  success  13:00:55  13:05:20             1  \n",
       "2655             0      NaN  17:21:19  17:22:23             0  \n",
       "2685             0      NaN  14:36:57  14:39:34             0  \n",
       "2842             1  success  10:11:10  10:18:40             1  \n",
       "2941             0      NaN  16:31:36  16:36:36             1  \n",
       "3490             0      NaN  12:39:57  12:40:30             0  \n",
       "3615             0      NaN  10:20:54  10:21:22             0  \n",
       "3738             0      NaN  09:59:39  10:08:55             0  "
      ]
     },
     "execution_count": 14,
     "metadata": {},
     "output_type": "execute_result"
    }
   ],
   "source": [
    "df[df['Job'].isnull()]"
   ]
  },
  {
   "cell_type": "code",
   "execution_count": 15,
   "metadata": {
    "ExecuteTime": {
     "end_time": "2020-11-09T08:55:08.004342Z",
     "start_time": "2020-11-09T08:55:08.000352Z"
    },
    "scrolled": false
   },
   "outputs": [],
   "source": [
    "# df.loc[(df['Age'] > 60) & (df['Job'].isnull()'' ]"
   ]
  },
  {
   "cell_type": "code",
   "execution_count": 16,
   "metadata": {
    "ExecuteTime": {
     "end_time": "2020-11-09T08:55:08.065314Z",
     "start_time": "2020-11-09T08:55:08.008333Z"
    }
   },
   "outputs": [],
   "source": [
    "edu_mode=[]\n",
    "job_types = df.Job.unique().tolist()\n",
    "job_types.remove(np.nan)\n",
    "for job in job_types:\n",
    "    mode=df[df.Job==job].Education.mode()[0]\n",
    "    edu_mode.append(mode)\n",
    "\n",
    "edu_map=dict(zip(job_types,edu_mode))\n",
    "\n",
    "for job in job_types:\n",
    "    df.loc[(df.Education.isnull())&(df.Job==job),'Education']=edu_map[job]\n",
    "\n",
    "df.Education.fillna('None',inplace=True)\n",
    "df.Job.fillna('None',inplace=True)"
   ]
  },
  {
   "cell_type": "code",
   "execution_count": 17,
   "metadata": {
    "ExecuteTime": {
     "end_time": "2020-11-09T08:55:08.084369Z",
     "start_time": "2020-11-09T08:55:08.068353Z"
    },
    "scrolled": true
   },
   "outputs": [
    {
     "data": {
      "text/html": [
       "<div>\n",
       "<style scoped>\n",
       "    .dataframe tbody tr th:only-of-type {\n",
       "        vertical-align: middle;\n",
       "    }\n",
       "\n",
       "    .dataframe tbody tr th {\n",
       "        vertical-align: top;\n",
       "    }\n",
       "\n",
       "    .dataframe thead th {\n",
       "        text-align: right;\n",
       "    }\n",
       "</style>\n",
       "<table border=\"1\" class=\"dataframe\">\n",
       "  <thead>\n",
       "    <tr style=\"text-align: right;\">\n",
       "      <th></th>\n",
       "      <th>Age</th>\n",
       "      <th>Job</th>\n",
       "      <th>Marital</th>\n",
       "      <th>Education</th>\n",
       "      <th>Default</th>\n",
       "      <th>Balance</th>\n",
       "      <th>HHInsurance</th>\n",
       "      <th>CarLoan</th>\n",
       "      <th>Communication</th>\n",
       "      <th>LastContactDay</th>\n",
       "      <th>LastContactMonth</th>\n",
       "      <th>NoOfContacts</th>\n",
       "      <th>DaysPassed</th>\n",
       "      <th>PrevAttempts</th>\n",
       "      <th>Outcome</th>\n",
       "      <th>CallStart</th>\n",
       "      <th>CallEnd</th>\n",
       "      <th>CarInsurance</th>\n",
       "    </tr>\n",
       "  </thead>\n",
       "  <tbody>\n",
       "  </tbody>\n",
       "</table>\n",
       "</div>"
      ],
      "text/plain": [
       "Empty DataFrame\n",
       "Columns: [Age, Job, Marital, Education, Default, Balance, HHInsurance, CarLoan, Communication, LastContactDay, LastContactMonth, NoOfContacts, DaysPassed, PrevAttempts, Outcome, CallStart, CallEnd, CarInsurance]\n",
       "Index: []"
      ]
     },
     "execution_count": 17,
     "metadata": {},
     "output_type": "execute_result"
    }
   ],
   "source": [
    "df[df['Job'].isnull()]"
   ]
  },
  {
   "cell_type": "code",
   "execution_count": 18,
   "metadata": {
    "ExecuteTime": {
     "end_time": "2020-11-09T08:55:08.096337Z",
     "start_time": "2020-11-09T08:55:08.088360Z"
    }
   },
   "outputs": [],
   "source": [
    "df['Education'].fillna(df['Job'].mode()[0],inplace=True)"
   ]
  },
  {
   "cell_type": "markdown",
   "metadata": {
    "ExecuteTime": {
     "end_time": "2020-11-09T04:25:18.480436Z",
     "start_time": "2020-11-09T04:25:18.474453Z"
    }
   },
   "source": [
    "## Communication"
   ]
  },
  {
   "cell_type": "code",
   "execution_count": 19,
   "metadata": {
    "ExecuteTime": {
     "end_time": "2020-11-09T08:55:08.106836Z",
     "start_time": "2020-11-09T08:55:08.100326Z"
    }
   },
   "outputs": [],
   "source": [
    "df['Communication'].fillna(df['Communication'].mode()[0], inplace=True)"
   ]
  },
  {
   "cell_type": "code",
   "execution_count": 20,
   "metadata": {
    "ExecuteTime": {
     "end_time": "2020-11-09T08:55:08.118359Z",
     "start_time": "2020-11-09T08:55:08.110339Z"
    }
   },
   "outputs": [
    {
     "data": {
      "text/plain": [
       "array(['telephone', 'cellular'], dtype=object)"
      ]
     },
     "execution_count": 20,
     "metadata": {},
     "output_type": "execute_result"
    }
   ],
   "source": [
    "df['Communication'].unique()"
   ]
  },
  {
   "cell_type": "markdown",
   "metadata": {
    "ExecuteTime": {
     "end_time": "2020-11-09T04:25:27.093392Z",
     "start_time": "2020-11-09T04:25:27.088410Z"
    }
   },
   "source": [
    "## Outcome"
   ]
  },
  {
   "cell_type": "code",
   "execution_count": 21,
   "metadata": {
    "ExecuteTime": {
     "end_time": "2020-11-09T08:55:08.125340Z",
     "start_time": "2020-11-09T08:55:08.121350Z"
    }
   },
   "outputs": [],
   "source": [
    "# df['Outcome'] = df['Outcome'].fillna(df['Outcome'].mode()[0])"
   ]
  },
  {
   "cell_type": "code",
   "execution_count": 22,
   "metadata": {
    "ExecuteTime": {
     "end_time": "2020-11-09T08:55:08.135312Z",
     "start_time": "2020-11-09T08:55:08.128332Z"
    }
   },
   "outputs": [],
   "source": [
    "df['Outcome'].fillna(df['Outcome'].mode()[0], inplace=True)"
   ]
  },
  {
   "cell_type": "code",
   "execution_count": 23,
   "metadata": {
    "ExecuteTime": {
     "end_time": "2020-11-09T08:55:08.148328Z",
     "start_time": "2020-11-09T08:55:08.144338Z"
    }
   },
   "outputs": [],
   "source": [
    "# df['Outcome'] = df['Outcome'].fillna('none')"
   ]
  },
  {
   "cell_type": "code",
   "execution_count": 24,
   "metadata": {
    "ExecuteTime": {
     "end_time": "2020-11-09T08:55:08.163413Z",
     "start_time": "2020-11-09T08:55:08.155311Z"
    }
   },
   "outputs": [
    {
     "data": {
      "text/plain": [
       "array(['failure', 'other', 'success'], dtype=object)"
      ]
     },
     "execution_count": 24,
     "metadata": {},
     "output_type": "execute_result"
    }
   ],
   "source": [
    "df['Outcome'].unique()"
   ]
  },
  {
   "cell_type": "code",
   "execution_count": 25,
   "metadata": {
    "ExecuteTime": {
     "end_time": "2020-11-09T08:55:08.176379Z",
     "start_time": "2020-11-09T08:55:08.167402Z"
    },
    "scrolled": true
   },
   "outputs": [
    {
     "data": {
      "text/plain": [
       "0    failure\n",
       "1    failure\n",
       "2    failure\n",
       "3    failure\n",
       "4    failure\n",
       "Name: Outcome, dtype: object"
      ]
     },
     "execution_count": 25,
     "metadata": {},
     "output_type": "execute_result"
    }
   ],
   "source": [
    "df.Outcome.head()"
   ]
  },
  {
   "cell_type": "code",
   "execution_count": 26,
   "metadata": {
    "ExecuteTime": {
     "end_time": "2020-11-09T08:55:08.194342Z",
     "start_time": "2020-11-09T08:55:08.180366Z"
    }
   },
   "outputs": [
    {
     "data": {
      "text/plain": [
       "Age                 0\n",
       "Job                 0\n",
       "Marital             0\n",
       "Education           0\n",
       "Default             0\n",
       "Balance             0\n",
       "HHInsurance         0\n",
       "CarLoan             0\n",
       "Communication       0\n",
       "LastContactDay      0\n",
       "LastContactMonth    0\n",
       "NoOfContacts        0\n",
       "DaysPassed          0\n",
       "PrevAttempts        0\n",
       "Outcome             0\n",
       "CallStart           0\n",
       "CallEnd             0\n",
       "CarInsurance        0\n",
       "dtype: int64"
      ]
     },
     "execution_count": 26,
     "metadata": {},
     "output_type": "execute_result"
    }
   ],
   "source": [
    "df.isnull().sum()"
   ]
  },
  {
   "cell_type": "markdown",
   "metadata": {
    "ExecuteTime": {
     "end_time": "2020-11-09T03:18:33.304939Z",
     "start_time": "2020-11-09T03:18:33.299917Z"
    }
   },
   "source": [
    "# DATA CLEANING"
   ]
  },
  {
   "cell_type": "code",
   "execution_count": 27,
   "metadata": {
    "ExecuteTime": {
     "end_time": "2020-11-09T08:55:08.202321Z",
     "start_time": "2020-11-09T08:55:08.198331Z"
    }
   },
   "outputs": [],
   "source": [
    "## IS THERE ANY DUPLICATED DATA?"
   ]
  },
  {
   "cell_type": "code",
   "execution_count": 28,
   "metadata": {
    "ExecuteTime": {
     "end_time": "2020-11-09T08:55:08.236315Z",
     "start_time": "2020-11-09T08:55:08.206310Z"
    },
    "scrolled": true
   },
   "outputs": [
    {
     "data": {
      "text/html": [
       "<div>\n",
       "<style scoped>\n",
       "    .dataframe tbody tr th:only-of-type {\n",
       "        vertical-align: middle;\n",
       "    }\n",
       "\n",
       "    .dataframe tbody tr th {\n",
       "        vertical-align: top;\n",
       "    }\n",
       "\n",
       "    .dataframe thead th {\n",
       "        text-align: right;\n",
       "    }\n",
       "</style>\n",
       "<table border=\"1\" class=\"dataframe\">\n",
       "  <thead>\n",
       "    <tr style=\"text-align: right;\">\n",
       "      <th></th>\n",
       "      <th>Age</th>\n",
       "      <th>Job</th>\n",
       "      <th>Marital</th>\n",
       "      <th>Education</th>\n",
       "      <th>Default</th>\n",
       "      <th>Balance</th>\n",
       "      <th>HHInsurance</th>\n",
       "      <th>CarLoan</th>\n",
       "      <th>Communication</th>\n",
       "      <th>LastContactDay</th>\n",
       "      <th>LastContactMonth</th>\n",
       "      <th>NoOfContacts</th>\n",
       "      <th>DaysPassed</th>\n",
       "      <th>PrevAttempts</th>\n",
       "      <th>Outcome</th>\n",
       "      <th>CallStart</th>\n",
       "      <th>CallEnd</th>\n",
       "      <th>CarInsurance</th>\n",
       "    </tr>\n",
       "  </thead>\n",
       "  <tbody>\n",
       "  </tbody>\n",
       "</table>\n",
       "</div>"
      ],
      "text/plain": [
       "Empty DataFrame\n",
       "Columns: [Age, Job, Marital, Education, Default, Balance, HHInsurance, CarLoan, Communication, LastContactDay, LastContactMonth, NoOfContacts, DaysPassed, PrevAttempts, Outcome, CallStart, CallEnd, CarInsurance]\n",
       "Index: []"
      ]
     },
     "execution_count": 28,
     "metadata": {},
     "output_type": "execute_result"
    }
   ],
   "source": [
    "df[df.duplicated()]"
   ]
  },
  {
   "cell_type": "code",
   "execution_count": 29,
   "metadata": {
    "ExecuteTime": {
     "end_time": "2020-11-09T08:55:08.243357Z",
     "start_time": "2020-11-09T08:55:08.239370Z"
    }
   },
   "outputs": [],
   "source": [
    "## Data is good. no duplicated data"
   ]
  },
  {
   "cell_type": "code",
   "execution_count": 30,
   "metadata": {
    "ExecuteTime": {
     "end_time": "2020-11-09T08:55:08.254498Z",
     "start_time": "2020-11-09T08:55:08.247517Z"
    }
   },
   "outputs": [
    {
     "data": {
      "text/plain": [
       "array(['failure', 'other', 'success'], dtype=object)"
      ]
     },
     "execution_count": 30,
     "metadata": {},
     "output_type": "execute_result"
    }
   ],
   "source": [
    "df['Outcome'].unique()"
   ]
  },
  {
   "cell_type": "code",
   "execution_count": 31,
   "metadata": {
    "ExecuteTime": {
     "end_time": "2020-11-09T08:55:08.282424Z",
     "start_time": "2020-11-09T08:55:08.257491Z"
    }
   },
   "outputs": [
    {
     "data": {
      "text/html": [
       "<div>\n",
       "<style scoped>\n",
       "    .dataframe tbody tr th:only-of-type {\n",
       "        vertical-align: middle;\n",
       "    }\n",
       "\n",
       "    .dataframe tbody tr th {\n",
       "        vertical-align: top;\n",
       "    }\n",
       "\n",
       "    .dataframe thead th {\n",
       "        text-align: right;\n",
       "    }\n",
       "</style>\n",
       "<table border=\"1\" class=\"dataframe\">\n",
       "  <thead>\n",
       "    <tr style=\"text-align: right;\">\n",
       "      <th></th>\n",
       "      <th>Age</th>\n",
       "      <th>Job</th>\n",
       "      <th>Marital</th>\n",
       "      <th>Education</th>\n",
       "      <th>Default</th>\n",
       "      <th>Balance</th>\n",
       "      <th>HHInsurance</th>\n",
       "      <th>CarLoan</th>\n",
       "      <th>Communication</th>\n",
       "      <th>LastContactDay</th>\n",
       "      <th>LastContactMonth</th>\n",
       "      <th>NoOfContacts</th>\n",
       "      <th>DaysPassed</th>\n",
       "      <th>PrevAttempts</th>\n",
       "      <th>Outcome</th>\n",
       "      <th>CallStart</th>\n",
       "      <th>CallEnd</th>\n",
       "      <th>CarInsurance</th>\n",
       "    </tr>\n",
       "  </thead>\n",
       "  <tbody>\n",
       "    <tr>\n",
       "      <th>0</th>\n",
       "      <td>32</td>\n",
       "      <td>management</td>\n",
       "      <td>single</td>\n",
       "      <td>tertiary</td>\n",
       "      <td>0</td>\n",
       "      <td>1218</td>\n",
       "      <td>1</td>\n",
       "      <td>0</td>\n",
       "      <td>telephone</td>\n",
       "      <td>28</td>\n",
       "      <td>jan</td>\n",
       "      <td>2</td>\n",
       "      <td>-1</td>\n",
       "      <td>0</td>\n",
       "      <td>failure</td>\n",
       "      <td>13:45:20</td>\n",
       "      <td>13:46:30</td>\n",
       "      <td>0</td>\n",
       "    </tr>\n",
       "    <tr>\n",
       "      <th>1</th>\n",
       "      <td>32</td>\n",
       "      <td>blue-collar</td>\n",
       "      <td>married</td>\n",
       "      <td>primary</td>\n",
       "      <td>0</td>\n",
       "      <td>1156</td>\n",
       "      <td>1</td>\n",
       "      <td>0</td>\n",
       "      <td>cellular</td>\n",
       "      <td>26</td>\n",
       "      <td>may</td>\n",
       "      <td>5</td>\n",
       "      <td>-1</td>\n",
       "      <td>0</td>\n",
       "      <td>failure</td>\n",
       "      <td>14:49:03</td>\n",
       "      <td>14:52:08</td>\n",
       "      <td>0</td>\n",
       "    </tr>\n",
       "    <tr>\n",
       "      <th>2</th>\n",
       "      <td>29</td>\n",
       "      <td>management</td>\n",
       "      <td>single</td>\n",
       "      <td>tertiary</td>\n",
       "      <td>0</td>\n",
       "      <td>637</td>\n",
       "      <td>1</td>\n",
       "      <td>0</td>\n",
       "      <td>cellular</td>\n",
       "      <td>3</td>\n",
       "      <td>jun</td>\n",
       "      <td>1</td>\n",
       "      <td>119</td>\n",
       "      <td>1</td>\n",
       "      <td>failure</td>\n",
       "      <td>16:30:24</td>\n",
       "      <td>16:36:04</td>\n",
       "      <td>1</td>\n",
       "    </tr>\n",
       "    <tr>\n",
       "      <th>3</th>\n",
       "      <td>25</td>\n",
       "      <td>student</td>\n",
       "      <td>single</td>\n",
       "      <td>primary</td>\n",
       "      <td>0</td>\n",
       "      <td>373</td>\n",
       "      <td>1</td>\n",
       "      <td>0</td>\n",
       "      <td>cellular</td>\n",
       "      <td>11</td>\n",
       "      <td>may</td>\n",
       "      <td>2</td>\n",
       "      <td>-1</td>\n",
       "      <td>0</td>\n",
       "      <td>failure</td>\n",
       "      <td>12:06:43</td>\n",
       "      <td>12:20:22</td>\n",
       "      <td>1</td>\n",
       "    </tr>\n",
       "    <tr>\n",
       "      <th>4</th>\n",
       "      <td>30</td>\n",
       "      <td>management</td>\n",
       "      <td>married</td>\n",
       "      <td>tertiary</td>\n",
       "      <td>0</td>\n",
       "      <td>2694</td>\n",
       "      <td>0</td>\n",
       "      <td>0</td>\n",
       "      <td>cellular</td>\n",
       "      <td>3</td>\n",
       "      <td>jun</td>\n",
       "      <td>1</td>\n",
       "      <td>-1</td>\n",
       "      <td>0</td>\n",
       "      <td>failure</td>\n",
       "      <td>14:35:44</td>\n",
       "      <td>14:38:56</td>\n",
       "      <td>0</td>\n",
       "    </tr>\n",
       "  </tbody>\n",
       "</table>\n",
       "</div>"
      ],
      "text/plain": [
       "   Age          Job  Marital Education  Default  Balance  HHInsurance  \\\n",
       "0   32   management   single  tertiary        0     1218            1   \n",
       "1   32  blue-collar  married   primary        0     1156            1   \n",
       "2   29   management   single  tertiary        0      637            1   \n",
       "3   25      student   single   primary        0      373            1   \n",
       "4   30   management  married  tertiary        0     2694            0   \n",
       "\n",
       "   CarLoan Communication  LastContactDay LastContactMonth  NoOfContacts  \\\n",
       "0        0     telephone              28              jan             2   \n",
       "1        0      cellular              26              may             5   \n",
       "2        0      cellular               3              jun             1   \n",
       "3        0      cellular              11              may             2   \n",
       "4        0      cellular               3              jun             1   \n",
       "\n",
       "   DaysPassed  PrevAttempts  Outcome CallStart   CallEnd  CarInsurance  \n",
       "0          -1             0  failure  13:45:20  13:46:30             0  \n",
       "1          -1             0  failure  14:49:03  14:52:08             0  \n",
       "2         119             1  failure  16:30:24  16:36:04             1  \n",
       "3          -1             0  failure  12:06:43  12:20:22             1  \n",
       "4          -1             0  failure  14:35:44  14:38:56             0  "
      ]
     },
     "execution_count": 31,
     "metadata": {},
     "output_type": "execute_result"
    }
   ],
   "source": [
    "df.head()"
   ]
  },
  {
   "cell_type": "markdown",
   "metadata": {},
   "source": [
    "# FEATURE CREATIONS"
   ]
  },
  {
   "cell_type": "markdown",
   "metadata": {},
   "source": [
    "## DURATION CALL"
   ]
  },
  {
   "cell_type": "code",
   "execution_count": 32,
   "metadata": {
    "ExecuteTime": {
     "end_time": "2020-11-09T08:55:08.593341Z",
     "start_time": "2020-11-09T08:55:08.285416Z"
    }
   },
   "outputs": [],
   "source": [
    "df['CallStart'] = df['CallStart'].astype('datetime64[ns]')"
   ]
  },
  {
   "cell_type": "code",
   "execution_count": 33,
   "metadata": {
    "ExecuteTime": {
     "end_time": "2020-11-09T08:55:08.870226Z",
     "start_time": "2020-11-09T08:55:08.595339Z"
    }
   },
   "outputs": [],
   "source": [
    "df['CallEnd'] = df['CallEnd'].astype('datetime64[ns]')"
   ]
  },
  {
   "cell_type": "code",
   "execution_count": 34,
   "metadata": {
    "ExecuteTime": {
     "end_time": "2020-11-09T08:55:08.881197Z",
     "start_time": "2020-11-09T08:55:08.873219Z"
    }
   },
   "outputs": [],
   "source": [
    "df['Duration'] = (df.CallEnd - df.CallStart).astype('timedelta64[s]')"
   ]
  },
  {
   "cell_type": "code",
   "execution_count": 35,
   "metadata": {
    "ExecuteTime": {
     "end_time": "2020-11-09T08:55:08.893204Z",
     "start_time": "2020-11-09T08:55:08.883192Z"
    }
   },
   "outputs": [
    {
     "data": {
      "text/plain": [
       "0        70.0\n",
       "1       185.0\n",
       "2       340.0\n",
       "3       819.0\n",
       "4       192.0\n",
       "        ...  \n",
       "3995    269.0\n",
       "3996    125.0\n",
       "3997    290.0\n",
       "3998     99.0\n",
       "3999    274.0\n",
       "Name: Duration, Length: 4000, dtype: float64"
      ]
     },
     "execution_count": 35,
     "metadata": {},
     "output_type": "execute_result"
    }
   ],
   "source": [
    "df['Duration']"
   ]
  },
  {
   "cell_type": "code",
   "execution_count": 36,
   "metadata": {
    "ExecuteTime": {
     "end_time": "2020-11-09T08:55:08.925219Z",
     "start_time": "2020-11-09T08:55:08.896196Z"
    },
    "scrolled": true
   },
   "outputs": [
    {
     "data": {
      "text/html": [
       "<div>\n",
       "<style scoped>\n",
       "    .dataframe tbody tr th:only-of-type {\n",
       "        vertical-align: middle;\n",
       "    }\n",
       "\n",
       "    .dataframe tbody tr th {\n",
       "        vertical-align: top;\n",
       "    }\n",
       "\n",
       "    .dataframe thead th {\n",
       "        text-align: right;\n",
       "    }\n",
       "</style>\n",
       "<table border=\"1\" class=\"dataframe\">\n",
       "  <thead>\n",
       "    <tr style=\"text-align: right;\">\n",
       "      <th></th>\n",
       "      <th>Age</th>\n",
       "      <th>Job</th>\n",
       "      <th>Marital</th>\n",
       "      <th>Education</th>\n",
       "      <th>Default</th>\n",
       "      <th>Balance</th>\n",
       "      <th>HHInsurance</th>\n",
       "      <th>CarLoan</th>\n",
       "      <th>Communication</th>\n",
       "      <th>LastContactDay</th>\n",
       "      <th>LastContactMonth</th>\n",
       "      <th>NoOfContacts</th>\n",
       "      <th>DaysPassed</th>\n",
       "      <th>PrevAttempts</th>\n",
       "      <th>Outcome</th>\n",
       "      <th>CallStart</th>\n",
       "      <th>CallEnd</th>\n",
       "      <th>CarInsurance</th>\n",
       "      <th>Duration</th>\n",
       "    </tr>\n",
       "  </thead>\n",
       "  <tbody>\n",
       "    <tr>\n",
       "      <th>0</th>\n",
       "      <td>32</td>\n",
       "      <td>management</td>\n",
       "      <td>single</td>\n",
       "      <td>tertiary</td>\n",
       "      <td>0</td>\n",
       "      <td>1218</td>\n",
       "      <td>1</td>\n",
       "      <td>0</td>\n",
       "      <td>telephone</td>\n",
       "      <td>28</td>\n",
       "      <td>jan</td>\n",
       "      <td>2</td>\n",
       "      <td>-1</td>\n",
       "      <td>0</td>\n",
       "      <td>failure</td>\n",
       "      <td>2020-11-09 13:45:20</td>\n",
       "      <td>2020-11-09 13:46:30</td>\n",
       "      <td>0</td>\n",
       "      <td>70.0</td>\n",
       "    </tr>\n",
       "    <tr>\n",
       "      <th>1</th>\n",
       "      <td>32</td>\n",
       "      <td>blue-collar</td>\n",
       "      <td>married</td>\n",
       "      <td>primary</td>\n",
       "      <td>0</td>\n",
       "      <td>1156</td>\n",
       "      <td>1</td>\n",
       "      <td>0</td>\n",
       "      <td>cellular</td>\n",
       "      <td>26</td>\n",
       "      <td>may</td>\n",
       "      <td>5</td>\n",
       "      <td>-1</td>\n",
       "      <td>0</td>\n",
       "      <td>failure</td>\n",
       "      <td>2020-11-09 14:49:03</td>\n",
       "      <td>2020-11-09 14:52:08</td>\n",
       "      <td>0</td>\n",
       "      <td>185.0</td>\n",
       "    </tr>\n",
       "    <tr>\n",
       "      <th>2</th>\n",
       "      <td>29</td>\n",
       "      <td>management</td>\n",
       "      <td>single</td>\n",
       "      <td>tertiary</td>\n",
       "      <td>0</td>\n",
       "      <td>637</td>\n",
       "      <td>1</td>\n",
       "      <td>0</td>\n",
       "      <td>cellular</td>\n",
       "      <td>3</td>\n",
       "      <td>jun</td>\n",
       "      <td>1</td>\n",
       "      <td>119</td>\n",
       "      <td>1</td>\n",
       "      <td>failure</td>\n",
       "      <td>2020-11-09 16:30:24</td>\n",
       "      <td>2020-11-09 16:36:04</td>\n",
       "      <td>1</td>\n",
       "      <td>340.0</td>\n",
       "    </tr>\n",
       "    <tr>\n",
       "      <th>3</th>\n",
       "      <td>25</td>\n",
       "      <td>student</td>\n",
       "      <td>single</td>\n",
       "      <td>primary</td>\n",
       "      <td>0</td>\n",
       "      <td>373</td>\n",
       "      <td>1</td>\n",
       "      <td>0</td>\n",
       "      <td>cellular</td>\n",
       "      <td>11</td>\n",
       "      <td>may</td>\n",
       "      <td>2</td>\n",
       "      <td>-1</td>\n",
       "      <td>0</td>\n",
       "      <td>failure</td>\n",
       "      <td>2020-11-09 12:06:43</td>\n",
       "      <td>2020-11-09 12:20:22</td>\n",
       "      <td>1</td>\n",
       "      <td>819.0</td>\n",
       "    </tr>\n",
       "    <tr>\n",
       "      <th>4</th>\n",
       "      <td>30</td>\n",
       "      <td>management</td>\n",
       "      <td>married</td>\n",
       "      <td>tertiary</td>\n",
       "      <td>0</td>\n",
       "      <td>2694</td>\n",
       "      <td>0</td>\n",
       "      <td>0</td>\n",
       "      <td>cellular</td>\n",
       "      <td>3</td>\n",
       "      <td>jun</td>\n",
       "      <td>1</td>\n",
       "      <td>-1</td>\n",
       "      <td>0</td>\n",
       "      <td>failure</td>\n",
       "      <td>2020-11-09 14:35:44</td>\n",
       "      <td>2020-11-09 14:38:56</td>\n",
       "      <td>0</td>\n",
       "      <td>192.0</td>\n",
       "    </tr>\n",
       "  </tbody>\n",
       "</table>\n",
       "</div>"
      ],
      "text/plain": [
       "   Age          Job  Marital Education  Default  Balance  HHInsurance  \\\n",
       "0   32   management   single  tertiary        0     1218            1   \n",
       "1   32  blue-collar  married   primary        0     1156            1   \n",
       "2   29   management   single  tertiary        0      637            1   \n",
       "3   25      student   single   primary        0      373            1   \n",
       "4   30   management  married  tertiary        0     2694            0   \n",
       "\n",
       "   CarLoan Communication  LastContactDay LastContactMonth  NoOfContacts  \\\n",
       "0        0     telephone              28              jan             2   \n",
       "1        0      cellular              26              may             5   \n",
       "2        0      cellular               3              jun             1   \n",
       "3        0      cellular              11              may             2   \n",
       "4        0      cellular               3              jun             1   \n",
       "\n",
       "   DaysPassed  PrevAttempts  Outcome           CallStart             CallEnd  \\\n",
       "0          -1             0  failure 2020-11-09 13:45:20 2020-11-09 13:46:30   \n",
       "1          -1             0  failure 2020-11-09 14:49:03 2020-11-09 14:52:08   \n",
       "2         119             1  failure 2020-11-09 16:30:24 2020-11-09 16:36:04   \n",
       "3          -1             0  failure 2020-11-09 12:06:43 2020-11-09 12:20:22   \n",
       "4          -1             0  failure 2020-11-09 14:35:44 2020-11-09 14:38:56   \n",
       "\n",
       "   CarInsurance  Duration  \n",
       "0             0      70.0  \n",
       "1             0     185.0  \n",
       "2             1     340.0  \n",
       "3             1     819.0  \n",
       "4             0     192.0  "
      ]
     },
     "execution_count": 36,
     "metadata": {},
     "output_type": "execute_result"
    }
   ],
   "source": [
    "df.head()"
   ]
  },
  {
   "cell_type": "code",
   "execution_count": 37,
   "metadata": {
    "ExecuteTime": {
     "end_time": "2020-11-09T08:55:08.932243Z",
     "start_time": "2020-11-09T08:55:08.928254Z"
    }
   },
   "outputs": [],
   "source": [
    "# I make duration call (delta time (callend - call start ) into Seconds unit."
   ]
  },
  {
   "cell_type": "code",
   "execution_count": 38,
   "metadata": {
    "ExecuteTime": {
     "end_time": "2020-11-09T08:55:08.945256Z",
     "start_time": "2020-11-09T08:55:08.936233Z"
    }
   },
   "outputs": [],
   "source": [
    "df.drop(columns=['CallStart','CallEnd'],inplace = True)"
   ]
  },
  {
   "cell_type": "markdown",
   "metadata": {
    "ExecuteTime": {
     "end_time": "2020-11-09T05:03:34.245119Z",
     "start_time": "2020-11-09T05:03:34.240134Z"
    }
   },
   "source": [
    "# Handling/ Removing Outliers"
   ]
  },
  {
   "cell_type": "code",
   "execution_count": 39,
   "metadata": {
    "ExecuteTime": {
     "end_time": "2020-11-09T08:55:08.954240Z",
     "start_time": "2020-11-09T08:55:08.949254Z"
    }
   },
   "outputs": [],
   "source": [
    "## Balance"
   ]
  },
  {
   "cell_type": "code",
   "execution_count": 40,
   "metadata": {
    "ExecuteTime": {
     "end_time": "2020-11-09T08:55:09.166235Z",
     "start_time": "2020-11-09T08:55:08.958231Z"
    }
   },
   "outputs": [
    {
     "data": {
      "text/plain": [
       "<AxesSubplot:>"
      ]
     },
     "execution_count": 40,
     "metadata": {},
     "output_type": "execute_result"
    },
    {
     "data": {
      "image/png": "[encoded data removed]",
      "text/plain": [
       "<Figure size 576x432 with 1 Axes>"
      ]
     },
     "metadata": {
      "needs_background": "light"
     },
     "output_type": "display_data"
    }
   ],
   "source": [
    "df[['Balance']].plot.box()"
   ]
  },
  {
   "cell_type": "code",
   "execution_count": 41,
   "metadata": {
    "ExecuteTime": {
     "end_time": "2020-11-09T08:55:09.504717Z",
     "start_time": "2020-11-09T08:55:09.169193Z"
    },
    "scrolled": true
   },
   "outputs": [
    {
     "data": {
      "text/plain": [
       "<AxesSubplot:>"
      ]
     },
     "execution_count": 41,
     "metadata": {},
     "output_type": "execute_result"
    },
    {
     "data": {
      "image/png": "[encoded data removed]",
      "text/plain": [
       "<Figure size 576x432 with 1 Axes>"
      ]
     },
     "metadata": {
      "needs_background": "light"
     },
     "output_type": "display_data"
    }
   ],
   "source": [
    "df['Balance'].hist(bins=20,color='g')"
   ]
  },
  {
   "cell_type": "code",
   "execution_count": 42,
   "metadata": {
    "ExecuteTime": {
     "end_time": "2020-11-09T08:55:09.517683Z",
     "start_time": "2020-11-09T08:55:09.507709Z"
    }
   },
   "outputs": [
    {
     "data": {
      "text/plain": [
       "6290.849999999995"
      ]
     },
     "execution_count": 42,
     "metadata": {},
     "output_type": "execute_result"
    }
   ],
   "source": [
    "max_thresold = df['Balance'].quantile(0.95)\n",
    "max_thresold"
   ]
  },
  {
   "cell_type": "code",
   "execution_count": 43,
   "metadata": {
    "ExecuteTime": {
     "end_time": "2020-11-09T08:55:09.921638Z",
     "start_time": "2020-11-09T08:55:09.520678Z"
    },
    "scrolled": false
   },
   "outputs": [
    {
     "data": {
      "text/html": [
       "<div>\n",
       "<style scoped>\n",
       "    .dataframe tbody tr th:only-of-type {\n",
       "        vertical-align: middle;\n",
       "    }\n",
       "\n",
       "    .dataframe tbody tr th {\n",
       "        vertical-align: top;\n",
       "    }\n",
       "\n",
       "    .dataframe thead th {\n",
       "        text-align: right;\n",
       "    }\n",
       "</style>\n",
       "<table border=\"1\" class=\"dataframe\">\n",
       "  <thead>\n",
       "    <tr style=\"text-align: right;\">\n",
       "      <th></th>\n",
       "      <th>Age</th>\n",
       "      <th>Job</th>\n",
       "      <th>Marital</th>\n",
       "      <th>Education</th>\n",
       "      <th>Default</th>\n",
       "      <th>Balance</th>\n",
       "      <th>HHInsurance</th>\n",
       "      <th>CarLoan</th>\n",
       "      <th>Communication</th>\n",
       "      <th>LastContactDay</th>\n",
       "      <th>LastContactMonth</th>\n",
       "      <th>NoOfContacts</th>\n",
       "      <th>DaysPassed</th>\n",
       "      <th>PrevAttempts</th>\n",
       "      <th>Outcome</th>\n",
       "      <th>CarInsurance</th>\n",
       "      <th>Duration</th>\n",
       "    </tr>\n",
       "  </thead>\n",
       "  <tbody>\n",
       "    <tr>\n",
       "      <th>17</th>\n",
       "      <td>46</td>\n",
       "      <td>management</td>\n",
       "      <td>married</td>\n",
       "      <td>tertiary</td>\n",
       "      <td>0</td>\n",
       "      <td>7331</td>\n",
       "      <td>0</td>\n",
       "      <td>0</td>\n",
       "      <td>cellular</td>\n",
       "      <td>11</td>\n",
       "      <td>sep</td>\n",
       "      <td>4</td>\n",
       "      <td>95</td>\n",
       "      <td>2</td>\n",
       "      <td>other</td>\n",
       "      <td>1</td>\n",
       "      <td>658.0</td>\n",
       "    </tr>\n",
       "    <tr>\n",
       "      <th>21</th>\n",
       "      <td>80</td>\n",
       "      <td>retired</td>\n",
       "      <td>married</td>\n",
       "      <td>secondary</td>\n",
       "      <td>0</td>\n",
       "      <td>8304</td>\n",
       "      <td>0</td>\n",
       "      <td>0</td>\n",
       "      <td>telephone</td>\n",
       "      <td>8</td>\n",
       "      <td>sep</td>\n",
       "      <td>3</td>\n",
       "      <td>91</td>\n",
       "      <td>13</td>\n",
       "      <td>success</td>\n",
       "      <td>1</td>\n",
       "      <td>606.0</td>\n",
       "    </tr>\n",
       "    <tr>\n",
       "      <th>31</th>\n",
       "      <td>32</td>\n",
       "      <td>admin.</td>\n",
       "      <td>single</td>\n",
       "      <td>secondary</td>\n",
       "      <td>0</td>\n",
       "      <td>6981</td>\n",
       "      <td>1</td>\n",
       "      <td>0</td>\n",
       "      <td>cellular</td>\n",
       "      <td>2</td>\n",
       "      <td>jun</td>\n",
       "      <td>1</td>\n",
       "      <td>194</td>\n",
       "      <td>3</td>\n",
       "      <td>failure</td>\n",
       "      <td>0</td>\n",
       "      <td>154.0</td>\n",
       "    </tr>\n",
       "    <tr>\n",
       "      <th>61</th>\n",
       "      <td>39</td>\n",
       "      <td>entrepreneur</td>\n",
       "      <td>married</td>\n",
       "      <td>secondary</td>\n",
       "      <td>0</td>\n",
       "      <td>11887</td>\n",
       "      <td>0</td>\n",
       "      <td>0</td>\n",
       "      <td>cellular</td>\n",
       "      <td>18</td>\n",
       "      <td>nov</td>\n",
       "      <td>2</td>\n",
       "      <td>-1</td>\n",
       "      <td>0</td>\n",
       "      <td>failure</td>\n",
       "      <td>1</td>\n",
       "      <td>1181.0</td>\n",
       "    </tr>\n",
       "    <tr>\n",
       "      <th>78</th>\n",
       "      <td>34</td>\n",
       "      <td>management</td>\n",
       "      <td>single</td>\n",
       "      <td>tertiary</td>\n",
       "      <td>0</td>\n",
       "      <td>11350</td>\n",
       "      <td>1</td>\n",
       "      <td>0</td>\n",
       "      <td>cellular</td>\n",
       "      <td>15</td>\n",
       "      <td>may</td>\n",
       "      <td>1</td>\n",
       "      <td>176</td>\n",
       "      <td>1</td>\n",
       "      <td>failure</td>\n",
       "      <td>0</td>\n",
       "      <td>153.0</td>\n",
       "    </tr>\n",
       "    <tr>\n",
       "      <th>...</th>\n",
       "      <td>...</td>\n",
       "      <td>...</td>\n",
       "      <td>...</td>\n",
       "      <td>...</td>\n",
       "      <td>...</td>\n",
       "      <td>...</td>\n",
       "      <td>...</td>\n",
       "      <td>...</td>\n",
       "      <td>...</td>\n",
       "      <td>...</td>\n",
       "      <td>...</td>\n",
       "      <td>...</td>\n",
       "      <td>...</td>\n",
       "      <td>...</td>\n",
       "      <td>...</td>\n",
       "      <td>...</td>\n",
       "      <td>...</td>\n",
       "    </tr>\n",
       "    <tr>\n",
       "      <th>3868</th>\n",
       "      <td>46</td>\n",
       "      <td>management</td>\n",
       "      <td>married</td>\n",
       "      <td>secondary</td>\n",
       "      <td>0</td>\n",
       "      <td>12186</td>\n",
       "      <td>0</td>\n",
       "      <td>0</td>\n",
       "      <td>cellular</td>\n",
       "      <td>20</td>\n",
       "      <td>jun</td>\n",
       "      <td>3</td>\n",
       "      <td>-1</td>\n",
       "      <td>0</td>\n",
       "      <td>failure</td>\n",
       "      <td>0</td>\n",
       "      <td>29.0</td>\n",
       "    </tr>\n",
       "    <tr>\n",
       "      <th>3899</th>\n",
       "      <td>45</td>\n",
       "      <td>management</td>\n",
       "      <td>married</td>\n",
       "      <td>tertiary</td>\n",
       "      <td>0</td>\n",
       "      <td>31472</td>\n",
       "      <td>0</td>\n",
       "      <td>0</td>\n",
       "      <td>cellular</td>\n",
       "      <td>19</td>\n",
       "      <td>jul</td>\n",
       "      <td>7</td>\n",
       "      <td>-1</td>\n",
       "      <td>0</td>\n",
       "      <td>failure</td>\n",
       "      <td>1</td>\n",
       "      <td>568.0</td>\n",
       "    </tr>\n",
       "    <tr>\n",
       "      <th>3905</th>\n",
       "      <td>55</td>\n",
       "      <td>technician</td>\n",
       "      <td>married</td>\n",
       "      <td>secondary</td>\n",
       "      <td>0</td>\n",
       "      <td>10185</td>\n",
       "      <td>0</td>\n",
       "      <td>0</td>\n",
       "      <td>cellular</td>\n",
       "      <td>11</td>\n",
       "      <td>aug</td>\n",
       "      <td>1</td>\n",
       "      <td>180</td>\n",
       "      <td>4</td>\n",
       "      <td>success</td>\n",
       "      <td>0</td>\n",
       "      <td>248.0</td>\n",
       "    </tr>\n",
       "    <tr>\n",
       "      <th>3953</th>\n",
       "      <td>49</td>\n",
       "      <td>admin.</td>\n",
       "      <td>married</td>\n",
       "      <td>secondary</td>\n",
       "      <td>0</td>\n",
       "      <td>10250</td>\n",
       "      <td>1</td>\n",
       "      <td>0</td>\n",
       "      <td>telephone</td>\n",
       "      <td>24</td>\n",
       "      <td>oct</td>\n",
       "      <td>1</td>\n",
       "      <td>-1</td>\n",
       "      <td>0</td>\n",
       "      <td>failure</td>\n",
       "      <td>1</td>\n",
       "      <td>97.0</td>\n",
       "    </tr>\n",
       "    <tr>\n",
       "      <th>3961</th>\n",
       "      <td>45</td>\n",
       "      <td>management</td>\n",
       "      <td>married</td>\n",
       "      <td>tertiary</td>\n",
       "      <td>0</td>\n",
       "      <td>7154</td>\n",
       "      <td>1</td>\n",
       "      <td>0</td>\n",
       "      <td>cellular</td>\n",
       "      <td>19</td>\n",
       "      <td>nov</td>\n",
       "      <td>3</td>\n",
       "      <td>111</td>\n",
       "      <td>3</td>\n",
       "      <td>failure</td>\n",
       "      <td>0</td>\n",
       "      <td>93.0</td>\n",
       "    </tr>\n",
       "  </tbody>\n",
       "</table>\n",
       "<p>200 rows × 17 columns</p>\n",
       "</div>"
      ],
      "text/plain": [
       "      Age           Job  Marital  Education  Default  Balance  HHInsurance  \\\n",
       "17     46    management  married   tertiary        0     7331            0   \n",
       "21     80       retired  married  secondary        0     8304            0   \n",
       "31     32        admin.   single  secondary        0     6981            1   \n",
       "61     39  entrepreneur  married  secondary        0    11887            0   \n",
       "78     34    management   single   tertiary        0    11350            1   \n",
       "...   ...           ...      ...        ...      ...      ...          ...   \n",
       "3868   46    management  married  secondary        0    12186            0   \n",
       "3899   45    management  married   tertiary        0    31472            0   \n",
       "3905   55    technician  married  secondary        0    10185            0   \n",
       "3953   49        admin.  married  secondary        0    10250            1   \n",
       "3961   45    management  married   tertiary        0     7154            1   \n",
       "\n",
       "      CarLoan Communication  LastContactDay LastContactMonth  NoOfContacts  \\\n",
       "17          0      cellular              11              sep             4   \n",
       "21          0     telephone               8              sep             3   \n",
       "31          0      cellular               2              jun             1   \n",
       "61          0      cellular              18              nov             2   \n",
       "78          0      cellular              15              may             1   \n",
       "...       ...           ...             ...              ...           ...   \n",
       "3868        0      cellular              20              jun             3   \n",
       "3899        0      cellular              19              jul             7   \n",
       "3905        0      cellular              11              aug             1   \n",
       "3953        0     telephone              24              oct             1   \n",
       "3961        0      cellular              19              nov             3   \n",
       "\n",
       "      DaysPassed  PrevAttempts  Outcome  CarInsurance  Duration  \n",
       "17            95             2    other             1     658.0  \n",
       "21            91            13  success             1     606.0  \n",
       "31           194             3  failure             0     154.0  \n",
       "61            -1             0  failure             1    1181.0  \n",
       "78           176             1  failure             0     153.0  \n",
       "...          ...           ...      ...           ...       ...  \n",
       "3868          -1             0  failure             0      29.0  \n",
       "3899          -1             0  failure             1     568.0  \n",
       "3905         180             4  success             0     248.0  \n",
       "3953          -1             0  failure             1      97.0  \n",
       "3961         111             3  failure             0      93.0  \n",
       "\n",
       "[200 rows x 17 columns]"
      ]
     },
     "execution_count": 43,
     "metadata": {},
     "output_type": "execute_result"
    }
   ],
   "source": [
    "df[df['Balance']>max_thresold]"
   ]
  },
  {
   "cell_type": "code",
   "execution_count": 44,
   "metadata": {
    "ExecuteTime": {
     "end_time": "2020-11-09T08:55:09.932609Z",
     "start_time": "2020-11-09T08:55:09.923632Z"
    }
   },
   "outputs": [
    {
     "data": {
      "text/plain": [
       "0.0"
      ]
     },
     "execution_count": 44,
     "metadata": {},
     "output_type": "execute_result"
    }
   ],
   "source": [
    "min_thresold = df['Balance'].quantile(0.1)\n",
    "min_thresold"
   ]
  },
  {
   "cell_type": "code",
   "execution_count": 45,
   "metadata": {
    "ExecuteTime": {
     "end_time": "2020-11-09T08:55:09.986468Z",
     "start_time": "2020-11-09T08:55:09.935600Z"
    },
    "scrolled": true
   },
   "outputs": [
    {
     "data": {
      "text/html": [
       "<div>\n",
       "<style scoped>\n",
       "    .dataframe tbody tr th:only-of-type {\n",
       "        vertical-align: middle;\n",
       "    }\n",
       "\n",
       "    .dataframe tbody tr th {\n",
       "        vertical-align: top;\n",
       "    }\n",
       "\n",
       "    .dataframe thead th {\n",
       "        text-align: right;\n",
       "    }\n",
       "</style>\n",
       "<table border=\"1\" class=\"dataframe\">\n",
       "  <thead>\n",
       "    <tr style=\"text-align: right;\">\n",
       "      <th></th>\n",
       "      <th>Age</th>\n",
       "      <th>Job</th>\n",
       "      <th>Marital</th>\n",
       "      <th>Education</th>\n",
       "      <th>Default</th>\n",
       "      <th>Balance</th>\n",
       "      <th>HHInsurance</th>\n",
       "      <th>CarLoan</th>\n",
       "      <th>Communication</th>\n",
       "      <th>LastContactDay</th>\n",
       "      <th>LastContactMonth</th>\n",
       "      <th>NoOfContacts</th>\n",
       "      <th>DaysPassed</th>\n",
       "      <th>PrevAttempts</th>\n",
       "      <th>Outcome</th>\n",
       "      <th>CarInsurance</th>\n",
       "      <th>Duration</th>\n",
       "    </tr>\n",
       "  </thead>\n",
       "  <tbody>\n",
       "    <tr>\n",
       "      <th>11</th>\n",
       "      <td>53</td>\n",
       "      <td>blue-collar</td>\n",
       "      <td>married</td>\n",
       "      <td>primary</td>\n",
       "      <td>1</td>\n",
       "      <td>-462</td>\n",
       "      <td>0</td>\n",
       "      <td>0</td>\n",
       "      <td>cellular</td>\n",
       "      <td>29</td>\n",
       "      <td>jan</td>\n",
       "      <td>1</td>\n",
       "      <td>-1</td>\n",
       "      <td>0</td>\n",
       "      <td>failure</td>\n",
       "      <td>1</td>\n",
       "      <td>470.0</td>\n",
       "    </tr>\n",
       "    <tr>\n",
       "      <th>28</th>\n",
       "      <td>34</td>\n",
       "      <td>services</td>\n",
       "      <td>married</td>\n",
       "      <td>secondary</td>\n",
       "      <td>0</td>\n",
       "      <td>-62</td>\n",
       "      <td>1</td>\n",
       "      <td>0</td>\n",
       "      <td>cellular</td>\n",
       "      <td>16</td>\n",
       "      <td>jun</td>\n",
       "      <td>3</td>\n",
       "      <td>-1</td>\n",
       "      <td>0</td>\n",
       "      <td>failure</td>\n",
       "      <td>0</td>\n",
       "      <td>109.0</td>\n",
       "    </tr>\n",
       "    <tr>\n",
       "      <th>63</th>\n",
       "      <td>60</td>\n",
       "      <td>services</td>\n",
       "      <td>married</td>\n",
       "      <td>secondary</td>\n",
       "      <td>0</td>\n",
       "      <td>-46</td>\n",
       "      <td>0</td>\n",
       "      <td>0</td>\n",
       "      <td>cellular</td>\n",
       "      <td>23</td>\n",
       "      <td>may</td>\n",
       "      <td>2</td>\n",
       "      <td>-1</td>\n",
       "      <td>0</td>\n",
       "      <td>failure</td>\n",
       "      <td>0</td>\n",
       "      <td>132.0</td>\n",
       "    </tr>\n",
       "    <tr>\n",
       "      <th>86</th>\n",
       "      <td>40</td>\n",
       "      <td>blue-collar</td>\n",
       "      <td>married</td>\n",
       "      <td>secondary</td>\n",
       "      <td>1</td>\n",
       "      <td>-94</td>\n",
       "      <td>1</td>\n",
       "      <td>1</td>\n",
       "      <td>cellular</td>\n",
       "      <td>7</td>\n",
       "      <td>may</td>\n",
       "      <td>1</td>\n",
       "      <td>-1</td>\n",
       "      <td>0</td>\n",
       "      <td>failure</td>\n",
       "      <td>0</td>\n",
       "      <td>227.0</td>\n",
       "    </tr>\n",
       "    <tr>\n",
       "      <th>91</th>\n",
       "      <td>33</td>\n",
       "      <td>blue-collar</td>\n",
       "      <td>single</td>\n",
       "      <td>secondary</td>\n",
       "      <td>0</td>\n",
       "      <td>-147</td>\n",
       "      <td>1</td>\n",
       "      <td>0</td>\n",
       "      <td>cellular</td>\n",
       "      <td>30</td>\n",
       "      <td>may</td>\n",
       "      <td>2</td>\n",
       "      <td>-1</td>\n",
       "      <td>0</td>\n",
       "      <td>failure</td>\n",
       "      <td>0</td>\n",
       "      <td>652.0</td>\n",
       "    </tr>\n",
       "    <tr>\n",
       "      <th>...</th>\n",
       "      <td>...</td>\n",
       "      <td>...</td>\n",
       "      <td>...</td>\n",
       "      <td>...</td>\n",
       "      <td>...</td>\n",
       "      <td>...</td>\n",
       "      <td>...</td>\n",
       "      <td>...</td>\n",
       "      <td>...</td>\n",
       "      <td>...</td>\n",
       "      <td>...</td>\n",
       "      <td>...</td>\n",
       "      <td>...</td>\n",
       "      <td>...</td>\n",
       "      <td>...</td>\n",
       "      <td>...</td>\n",
       "      <td>...</td>\n",
       "    </tr>\n",
       "    <tr>\n",
       "      <th>3924</th>\n",
       "      <td>29</td>\n",
       "      <td>services</td>\n",
       "      <td>divorced</td>\n",
       "      <td>secondary</td>\n",
       "      <td>0</td>\n",
       "      <td>-7</td>\n",
       "      <td>1</td>\n",
       "      <td>0</td>\n",
       "      <td>cellular</td>\n",
       "      <td>13</td>\n",
       "      <td>may</td>\n",
       "      <td>3</td>\n",
       "      <td>-1</td>\n",
       "      <td>0</td>\n",
       "      <td>failure</td>\n",
       "      <td>1</td>\n",
       "      <td>1279.0</td>\n",
       "    </tr>\n",
       "    <tr>\n",
       "      <th>3941</th>\n",
       "      <td>27</td>\n",
       "      <td>blue-collar</td>\n",
       "      <td>single</td>\n",
       "      <td>secondary</td>\n",
       "      <td>1</td>\n",
       "      <td>-3</td>\n",
       "      <td>1</td>\n",
       "      <td>0</td>\n",
       "      <td>cellular</td>\n",
       "      <td>19</td>\n",
       "      <td>may</td>\n",
       "      <td>5</td>\n",
       "      <td>-1</td>\n",
       "      <td>0</td>\n",
       "      <td>failure</td>\n",
       "      <td>0</td>\n",
       "      <td>265.0</td>\n",
       "    </tr>\n",
       "    <tr>\n",
       "      <th>3945</th>\n",
       "      <td>30</td>\n",
       "      <td>entrepreneur</td>\n",
       "      <td>single</td>\n",
       "      <td>tertiary</td>\n",
       "      <td>0</td>\n",
       "      <td>-63</td>\n",
       "      <td>1</td>\n",
       "      <td>0</td>\n",
       "      <td>cellular</td>\n",
       "      <td>3</td>\n",
       "      <td>jun</td>\n",
       "      <td>1</td>\n",
       "      <td>-1</td>\n",
       "      <td>0</td>\n",
       "      <td>failure</td>\n",
       "      <td>0</td>\n",
       "      <td>94.0</td>\n",
       "    </tr>\n",
       "    <tr>\n",
       "      <th>3960</th>\n",
       "      <td>34</td>\n",
       "      <td>admin.</td>\n",
       "      <td>divorced</td>\n",
       "      <td>secondary</td>\n",
       "      <td>0</td>\n",
       "      <td>-251</td>\n",
       "      <td>0</td>\n",
       "      <td>0</td>\n",
       "      <td>cellular</td>\n",
       "      <td>18</td>\n",
       "      <td>jul</td>\n",
       "      <td>1</td>\n",
       "      <td>-1</td>\n",
       "      <td>0</td>\n",
       "      <td>failure</td>\n",
       "      <td>1</td>\n",
       "      <td>641.0</td>\n",
       "    </tr>\n",
       "    <tr>\n",
       "      <th>3997</th>\n",
       "      <td>27</td>\n",
       "      <td>admin.</td>\n",
       "      <td>single</td>\n",
       "      <td>secondary</td>\n",
       "      <td>0</td>\n",
       "      <td>-400</td>\n",
       "      <td>0</td>\n",
       "      <td>1</td>\n",
       "      <td>cellular</td>\n",
       "      <td>8</td>\n",
       "      <td>jul</td>\n",
       "      <td>1</td>\n",
       "      <td>-1</td>\n",
       "      <td>0</td>\n",
       "      <td>failure</td>\n",
       "      <td>0</td>\n",
       "      <td>290.0</td>\n",
       "    </tr>\n",
       "  </tbody>\n",
       "</table>\n",
       "<p>265 rows × 17 columns</p>\n",
       "</div>"
      ],
      "text/plain": [
       "      Age           Job   Marital  Education  Default  Balance  HHInsurance  \\\n",
       "11     53   blue-collar   married    primary        1     -462            0   \n",
       "28     34      services   married  secondary        0      -62            1   \n",
       "63     60      services   married  secondary        0      -46            0   \n",
       "86     40   blue-collar   married  secondary        1      -94            1   \n",
       "91     33   blue-collar    single  secondary        0     -147            1   \n",
       "...   ...           ...       ...        ...      ...      ...          ...   \n",
       "3924   29      services  divorced  secondary        0       -7            1   \n",
       "3941   27   blue-collar    single  secondary        1       -3            1   \n",
       "3945   30  entrepreneur    single   tertiary        0      -63            1   \n",
       "3960   34        admin.  divorced  secondary        0     -251            0   \n",
       "3997   27        admin.    single  secondary        0     -400            0   \n",
       "\n",
       "      CarLoan Communication  LastContactDay LastContactMonth  NoOfContacts  \\\n",
       "11          0      cellular              29              jan             1   \n",
       "28          0      cellular              16              jun             3   \n",
       "63          0      cellular              23              may             2   \n",
       "86          1      cellular               7              may             1   \n",
       "91          0      cellular              30              may             2   \n",
       "...       ...           ...             ...              ...           ...   \n",
       "3924        0      cellular              13              may             3   \n",
       "3941        0      cellular              19              may             5   \n",
       "3945        0      cellular               3              jun             1   \n",
       "3960        0      cellular              18              jul             1   \n",
       "3997        1      cellular               8              jul             1   \n",
       "\n",
       "      DaysPassed  PrevAttempts  Outcome  CarInsurance  Duration  \n",
       "11            -1             0  failure             1     470.0  \n",
       "28            -1             0  failure             0     109.0  \n",
       "63            -1             0  failure             0     132.0  \n",
       "86            -1             0  failure             0     227.0  \n",
       "91            -1             0  failure             0     652.0  \n",
       "...          ...           ...      ...           ...       ...  \n",
       "3924          -1             0  failure             1    1279.0  \n",
       "3941          -1             0  failure             0     265.0  \n",
       "3945          -1             0  failure             0      94.0  \n",
       "3960          -1             0  failure             1     641.0  \n",
       "3997          -1             0  failure             0     290.0  \n",
       "\n",
       "[265 rows x 17 columns]"
      ]
     },
     "execution_count": 45,
     "metadata": {},
     "output_type": "execute_result"
    }
   ],
   "source": [
    "df[df['Balance']<min_thresold]"
   ]
  },
  {
   "cell_type": "code",
   "execution_count": 46,
   "metadata": {
    "ExecuteTime": {
     "end_time": "2020-11-09T08:55:09.996440Z",
     "start_time": "2020-11-09T08:55:09.989458Z"
    }
   },
   "outputs": [],
   "source": [
    "df1= df[(df['Balance']<max_thresold) & (df['Balance']>min_thresold)]"
   ]
  },
  {
   "cell_type": "code",
   "execution_count": 47,
   "metadata": {
    "ExecuteTime": {
     "end_time": "2020-11-09T08:55:10.213856Z",
     "start_time": "2020-11-09T08:55:09.999430Z"
    }
   },
   "outputs": [
    {
     "data": {
      "text/plain": [
       "<AxesSubplot:>"
      ]
     },
     "execution_count": 47,
     "metadata": {},
     "output_type": "execute_result"
    },
    {
     "data": {
      "image/png": "[encoded data removed]",
      "text/plain": [
       "<Figure size 576x432 with 1 Axes>"
      ]
     },
     "metadata": {
      "needs_background": "light"
     },
     "output_type": "display_data"
    }
   ],
   "source": [
    "df1['Balance'].hist(bins=20,color='g')"
   ]
  },
  {
   "cell_type": "code",
   "execution_count": 48,
   "metadata": {
    "ExecuteTime": {
     "end_time": "2020-11-09T08:55:10.235344Z",
     "start_time": "2020-11-09T08:55:10.216410Z"
    }
   },
   "outputs": [
    {
     "name": "stdout",
     "output_type": "stream",
     "text": [
      "<class 'pandas.core.frame.DataFrame'>\n",
      "Int64Index: 3226 entries, 0 to 3999\n",
      "Data columns (total 17 columns):\n",
      " #   Column            Non-Null Count  Dtype  \n",
      "---  ------            --------------  -----  \n",
      " 0   Age               3226 non-null   int64  \n",
      " 1   Job               3226 non-null   object \n",
      " 2   Marital           3226 non-null   object \n",
      " 3   Education         3226 non-null   object \n",
      " 4   Default           3226 non-null   int64  \n",
      " 5   Balance           3226 non-null   int64  \n",
      " 6   HHInsurance       3226 non-null   int64  \n",
      " 7   CarLoan           3226 non-null   int64  \n",
      " 8   Communication     3226 non-null   object \n",
      " 9   LastContactDay    3226 non-null   int64  \n",
      " 10  LastContactMonth  3226 non-null   object \n",
      " 11  NoOfContacts      3226 non-null   int64  \n",
      " 12  DaysPassed        3226 non-null   int64  \n",
      " 13  PrevAttempts      3226 non-null   int64  \n",
      " 14  Outcome           3226 non-null   object \n",
      " 15  CarInsurance      3226 non-null   int64  \n",
      " 16  Duration          3226 non-null   float64\n",
      "dtypes: float64(1), int64(10), object(6)\n",
      "memory usage: 453.7+ KB\n"
     ]
    }
   ],
   "source": [
    "df1.info()"
   ]
  },
  {
   "cell_type": "code",
   "execution_count": 49,
   "metadata": {
    "ExecuteTime": {
     "end_time": "2020-11-09T08:55:10.243322Z",
     "start_time": "2020-11-09T08:55:10.239334Z"
    }
   },
   "outputs": [],
   "source": [
    "#Age"
   ]
  },
  {
   "cell_type": "code",
   "execution_count": 50,
   "metadata": {
    "ExecuteTime": {
     "end_time": "2020-11-09T08:55:10.410491Z",
     "start_time": "2020-11-09T08:55:10.247313Z"
    }
   },
   "outputs": [
    {
     "data": {
      "text/plain": [
       "<AxesSubplot:>"
      ]
     },
     "execution_count": 50,
     "metadata": {},
     "output_type": "execute_result"
    },
    {
     "data": {
      "image/png": "[encoded data removed]",
      "text/plain": [
       "<Figure size 576x432 with 1 Axes>"
      ]
     },
     "metadata": {
      "needs_background": "light"
     },
     "output_type": "display_data"
    }
   ],
   "source": [
    "df1[['Age']].plot.box()"
   ]
  },
  {
   "cell_type": "code",
   "execution_count": 51,
   "metadata": {
    "ExecuteTime": {
     "end_time": "2020-11-09T08:55:10.417473Z",
     "start_time": "2020-11-09T08:55:10.413484Z"
    }
   },
   "outputs": [],
   "source": [
    "## data seems have age outliers, but i wont drop these Age outliers, because those age group are the significant informations for Car Insurance decision"
   ]
  },
  {
   "cell_type": "markdown",
   "metadata": {
    "ExecuteTime": {
     "end_time": "2020-11-09T04:34:07.997382Z",
     "start_time": "2020-11-09T04:34:07.992395Z"
    }
   },
   "source": [
    "# EDA"
   ]
  },
  {
   "cell_type": "code",
   "execution_count": 52,
   "metadata": {
    "ExecuteTime": {
     "end_time": "2020-11-09T08:55:10.444401Z",
     "start_time": "2020-11-09T08:55:10.421462Z"
    },
    "scrolled": false
   },
   "outputs": [
    {
     "data": {
      "text/html": [
       "<div>\n",
       "<style scoped>\n",
       "    .dataframe tbody tr th:only-of-type {\n",
       "        vertical-align: middle;\n",
       "    }\n",
       "\n",
       "    .dataframe tbody tr th {\n",
       "        vertical-align: top;\n",
       "    }\n",
       "\n",
       "    .dataframe thead th {\n",
       "        text-align: right;\n",
       "    }\n",
       "</style>\n",
       "<table border=\"1\" class=\"dataframe\">\n",
       "  <thead>\n",
       "    <tr style=\"text-align: right;\">\n",
       "      <th></th>\n",
       "      <th>Age</th>\n",
       "      <th>Job</th>\n",
       "      <th>Marital</th>\n",
       "      <th>Education</th>\n",
       "      <th>Default</th>\n",
       "      <th>Balance</th>\n",
       "      <th>HHInsurance</th>\n",
       "      <th>CarLoan</th>\n",
       "      <th>Communication</th>\n",
       "      <th>LastContactDay</th>\n",
       "      <th>LastContactMonth</th>\n",
       "      <th>NoOfContacts</th>\n",
       "      <th>DaysPassed</th>\n",
       "      <th>PrevAttempts</th>\n",
       "      <th>Outcome</th>\n",
       "      <th>CarInsurance</th>\n",
       "      <th>Duration</th>\n",
       "    </tr>\n",
       "  </thead>\n",
       "  <tbody>\n",
       "    <tr>\n",
       "      <th>0</th>\n",
       "      <td>32</td>\n",
       "      <td>management</td>\n",
       "      <td>single</td>\n",
       "      <td>tertiary</td>\n",
       "      <td>0</td>\n",
       "      <td>1218</td>\n",
       "      <td>1</td>\n",
       "      <td>0</td>\n",
       "      <td>telephone</td>\n",
       "      <td>28</td>\n",
       "      <td>jan</td>\n",
       "      <td>2</td>\n",
       "      <td>-1</td>\n",
       "      <td>0</td>\n",
       "      <td>failure</td>\n",
       "      <td>0</td>\n",
       "      <td>70.0</td>\n",
       "    </tr>\n",
       "    <tr>\n",
       "      <th>1</th>\n",
       "      <td>32</td>\n",
       "      <td>blue-collar</td>\n",
       "      <td>married</td>\n",
       "      <td>primary</td>\n",
       "      <td>0</td>\n",
       "      <td>1156</td>\n",
       "      <td>1</td>\n",
       "      <td>0</td>\n",
       "      <td>cellular</td>\n",
       "      <td>26</td>\n",
       "      <td>may</td>\n",
       "      <td>5</td>\n",
       "      <td>-1</td>\n",
       "      <td>0</td>\n",
       "      <td>failure</td>\n",
       "      <td>0</td>\n",
       "      <td>185.0</td>\n",
       "    </tr>\n",
       "    <tr>\n",
       "      <th>2</th>\n",
       "      <td>29</td>\n",
       "      <td>management</td>\n",
       "      <td>single</td>\n",
       "      <td>tertiary</td>\n",
       "      <td>0</td>\n",
       "      <td>637</td>\n",
       "      <td>1</td>\n",
       "      <td>0</td>\n",
       "      <td>cellular</td>\n",
       "      <td>3</td>\n",
       "      <td>jun</td>\n",
       "      <td>1</td>\n",
       "      <td>119</td>\n",
       "      <td>1</td>\n",
       "      <td>failure</td>\n",
       "      <td>1</td>\n",
       "      <td>340.0</td>\n",
       "    </tr>\n",
       "    <tr>\n",
       "      <th>3</th>\n",
       "      <td>25</td>\n",
       "      <td>student</td>\n",
       "      <td>single</td>\n",
       "      <td>primary</td>\n",
       "      <td>0</td>\n",
       "      <td>373</td>\n",
       "      <td>1</td>\n",
       "      <td>0</td>\n",
       "      <td>cellular</td>\n",
       "      <td>11</td>\n",
       "      <td>may</td>\n",
       "      <td>2</td>\n",
       "      <td>-1</td>\n",
       "      <td>0</td>\n",
       "      <td>failure</td>\n",
       "      <td>1</td>\n",
       "      <td>819.0</td>\n",
       "    </tr>\n",
       "    <tr>\n",
       "      <th>4</th>\n",
       "      <td>30</td>\n",
       "      <td>management</td>\n",
       "      <td>married</td>\n",
       "      <td>tertiary</td>\n",
       "      <td>0</td>\n",
       "      <td>2694</td>\n",
       "      <td>0</td>\n",
       "      <td>0</td>\n",
       "      <td>cellular</td>\n",
       "      <td>3</td>\n",
       "      <td>jun</td>\n",
       "      <td>1</td>\n",
       "      <td>-1</td>\n",
       "      <td>0</td>\n",
       "      <td>failure</td>\n",
       "      <td>0</td>\n",
       "      <td>192.0</td>\n",
       "    </tr>\n",
       "  </tbody>\n",
       "</table>\n",
       "</div>"
      ],
      "text/plain": [
       "   Age          Job  Marital Education  Default  Balance  HHInsurance  \\\n",
       "0   32   management   single  tertiary        0     1218            1   \n",
       "1   32  blue-collar  married   primary        0     1156            1   \n",
       "2   29   management   single  tertiary        0      637            1   \n",
       "3   25      student   single   primary        0      373            1   \n",
       "4   30   management  married  tertiary        0     2694            0   \n",
       "\n",
       "   CarLoan Communication  LastContactDay LastContactMonth  NoOfContacts  \\\n",
       "0        0     telephone              28              jan             2   \n",
       "1        0      cellular              26              may             5   \n",
       "2        0      cellular               3              jun             1   \n",
       "3        0      cellular              11              may             2   \n",
       "4        0      cellular               3              jun             1   \n",
       "\n",
       "   DaysPassed  PrevAttempts  Outcome  CarInsurance  Duration  \n",
       "0          -1             0  failure             0      70.0  \n",
       "1          -1             0  failure             0     185.0  \n",
       "2         119             1  failure             1     340.0  \n",
       "3          -1             0  failure             1     819.0  \n",
       "4          -1             0  failure             0     192.0  "
      ]
     },
     "execution_count": 52,
     "metadata": {},
     "output_type": "execute_result"
    }
   ],
   "source": [
    "df1.head()"
   ]
  },
  {
   "cell_type": "code",
   "execution_count": 53,
   "metadata": {
    "ExecuteTime": {
     "end_time": "2020-11-09T08:55:10.455372Z",
     "start_time": "2020-11-09T08:55:10.447394Z"
    }
   },
   "outputs": [
    {
     "data": {
      "text/plain": [
       "Index(['Age', 'Default', 'Balance', 'HHInsurance', 'CarLoan', 'LastContactDay',\n",
       "       'NoOfContacts', 'DaysPassed', 'PrevAttempts', 'CarInsurance',\n",
       "       'Duration'],\n",
       "      dtype='object')"
      ]
     },
     "execution_count": 53,
     "metadata": {},
     "output_type": "execute_result"
    }
   ],
   "source": [
    "num_var = df._get_numeric_data().columns\n",
    "num_var"
   ]
  },
  {
   "cell_type": "code",
   "execution_count": 54,
   "metadata": {
    "ExecuteTime": {
     "end_time": "2020-11-09T08:55:12.444324Z",
     "start_time": "2020-11-09T08:55:10.459361Z"
    }
   },
   "outputs": [
    {
     "data": {
      "image/png": "[encoded data removed]",
      "text/plain": [
       "<Figure size 1008x720 with 12 Axes>"
      ]
     },
     "metadata": {
      "needs_background": "light"
     },
     "output_type": "display_data"
    }
   ],
   "source": [
    "df1[num_var].hist(bins=20,color='g',figsize=(14,10))\n",
    "plt.show()"
   ]
  },
  {
   "cell_type": "markdown",
   "metadata": {},
   "source": [
    "##  CAR INSURANCE/Target (CI)"
   ]
  },
  {
   "cell_type": "code",
   "execution_count": 55,
   "metadata": {
    "ExecuteTime": {
     "end_time": "2020-11-09T08:55:12.493278Z",
     "start_time": "2020-11-09T08:55:12.449314Z"
    }
   },
   "outputs": [
    {
     "data": {
      "text/html": [
       "<div>\n",
       "<style scoped>\n",
       "    .dataframe tbody tr th:only-of-type {\n",
       "        vertical-align: middle;\n",
       "    }\n",
       "\n",
       "    .dataframe tbody tr th {\n",
       "        vertical-align: top;\n",
       "    }\n",
       "\n",
       "    .dataframe thead th {\n",
       "        text-align: right;\n",
       "    }\n",
       "</style>\n",
       "<table border=\"1\" class=\"dataframe\">\n",
       "  <thead>\n",
       "    <tr style=\"text-align: right;\">\n",
       "      <th>col_0</th>\n",
       "      <th>count</th>\n",
       "    </tr>\n",
       "    <tr>\n",
       "      <th>CarInsurance</th>\n",
       "      <th></th>\n",
       "    </tr>\n",
       "  </thead>\n",
       "  <tbody>\n",
       "    <tr>\n",
       "      <th>0</th>\n",
       "      <td>57.94</td>\n",
       "    </tr>\n",
       "    <tr>\n",
       "      <th>1</th>\n",
       "      <td>42.06</td>\n",
       "    </tr>\n",
       "  </tbody>\n",
       "</table>\n",
       "</div>"
      ],
      "text/plain": [
       "col_0         count\n",
       "CarInsurance       \n",
       "0             57.94\n",
       "1             42.06"
      ]
     },
     "execution_count": 55,
     "metadata": {},
     "output_type": "execute_result"
    }
   ],
   "source": [
    "(pd.crosstab(index=df1['CarInsurance'],columns='count', normalize= True)*100).round(2)"
   ]
  },
  {
   "cell_type": "code",
   "execution_count": 56,
   "metadata": {
    "ExecuteTime": {
     "end_time": "2020-11-09T08:55:12.688255Z",
     "start_time": "2020-11-09T08:55:12.496270Z"
    }
   },
   "outputs": [
    {
     "data": {
      "text/plain": [
       "Text(0, 0.5, '')"
      ]
     },
     "execution_count": 56,
     "metadata": {},
     "output_type": "execute_result"
    },
    {
     "data": {
      "image/png": "[encoded data removed]",
      "text/plain": [
       "<Figure size 720x720 with 1 Axes>"
      ]
     },
     "metadata": {},
     "output_type": "display_data"
    }
   ],
   "source": [
    "plt.figure(figsize=(10,10))\n",
    "plt.subplot(aspect=1, title='Vehicle Insurance Responses')\n",
    "colors = [\"gold\", \"red\"]\n",
    "labels =\"No\", \"Yes\"\n",
    "df1[\"CarInsurance\"].value_counts().plot.pie(explode=[0,0.1], autopct='%1.2f%%',shadow=True, colors=colors, \n",
    "                                             labels=labels, fontsize=15, startangle=45)\n",
    "\n",
    "plt.ylabel(\"\")\n",
    "\n",
    "    "
   ]
  },
  {
   "cell_type": "code",
   "execution_count": 57,
   "metadata": {
    "ExecuteTime": {
     "end_time": "2020-11-09T08:55:12.694238Z",
     "start_time": "2020-11-09T08:55:12.690248Z"
    }
   },
   "outputs": [],
   "source": [
    "## Data Target seems pretty balance with ratio 60 : 40"
   ]
  },
  {
   "cell_type": "markdown",
   "metadata": {
    "ExecuteTime": {
     "end_time": "2020-11-09T04:41:05.189890Z",
     "start_time": "2020-11-09T04:41:05.183858Z"
    }
   },
   "source": [
    "## Marital Status With CI"
   ]
  },
  {
   "cell_type": "code",
   "execution_count": 58,
   "metadata": {
    "ExecuteTime": {
     "end_time": "2020-11-09T08:55:13.122228Z",
     "start_time": "2020-11-09T08:55:12.697231Z"
    },
    "scrolled": true
   },
   "outputs": [
    {
     "data": {
      "image/png": "[encoded data removed]",
      "text/plain": [
       "<Figure size 720x504 with 1 Axes>"
      ]
     },
     "metadata": {
      "needs_background": "light"
     },
     "output_type": "display_data"
    }
   ],
   "source": [
    "plt.figure(figsize=(10,7))\n",
    "b= sns.countplot('Marital',hue='CarInsurance',data=df,palette= 'Set2_r',order= df1['Marital'].value_counts().index)\n",
    "for p in b.patches:\n",
    "    b.annotate(str(int(p.get_height())), (p.get_x() + p.get_width() / 2., p.get_height()), ha='center', va='center', xytext=(0, 10), textcoords='offset points') \n"
   ]
  },
  {
   "cell_type": "markdown",
   "metadata": {},
   "source": [
    "- Married people are most likely to buy car insurance, but the highest ratio is single status followed by divorced.\n",
    "- Probably, when single and divorced, they have a saving amounts compare to married who need more Saving\n"
   ]
  },
  {
   "cell_type": "code",
   "execution_count": 59,
   "metadata": {
    "ExecuteTime": {
     "end_time": "2020-11-09T08:55:14.475338Z",
     "start_time": "2020-11-09T08:55:13.125188Z"
    }
   },
   "outputs": [
    {
     "data": {
      "image/png": "[encoded data removed]",
      "text/plain": [
       "<Figure size 2234.25x720 with 3 Axes>"
      ]
     },
     "metadata": {
      "needs_background": "light"
     },
     "output_type": "display_data"
    }
   ],
   "source": [
    "# plt.figure(figsize=(10,6)\n",
    "sns.catplot(x=\"Job\", hue=\"CarInsurance\", col=\"Marital\", data=df1, kind=\"count\", height=10, aspect=1)\n",
    "plt.tight_layout()\n",
    "plt.show()"
   ]
  },
  {
   "cell_type": "markdown",
   "metadata": {
    "ExecuteTime": {
     "end_time": "2020-11-09T05:52:36.522242Z",
     "start_time": "2020-11-09T05:52:36.517015Z"
    }
   },
   "source": [
    "## JOB COUNT"
   ]
  },
  {
   "cell_type": "code",
   "execution_count": 60,
   "metadata": {
    "ExecuteTime": {
     "end_time": "2020-11-09T08:55:14.895487Z",
     "start_time": "2020-11-09T08:55:14.478186Z"
    },
    "scrolled": false
   },
   "outputs": [
    {
     "data": {
      "image/png": "[encoded data removed]",
      "text/plain": [
       "<Figure size 1440x576 with 1 Axes>"
      ]
     },
     "metadata": {
      "needs_background": "light"
     },
     "output_type": "display_data"
    }
   ],
   "source": [
    "plt.figure(figsize=(20,8))\n",
    "df1_job = df1['Job'].value_counts().nlargest(15).astype(int)\n",
    "b = sns.barplot(df1_job.index, df1_job.values,palette= 'Set2_r')\n",
    "\n",
    "\n",
    "plt.title('Job')\n",
    "plt.xlabel('JOB',fontsize = 20)\n",
    "plt.ylabel('JOB COUNT',fontsize = 20)\n",
    "\n",
    "\n",
    "plt.xticks(\n",
    "    rotation=45, \n",
    "    horizontalalignment='right',\n",
    "    fontweight='light',\n",
    "    fontsize='x-large'  \n",
    ")\n",
    "for p in b.patches:\n",
    "    b.annotate(str(int(p.get_height())), (p.get_x() + p.get_width() / 2., p.get_height()), ha='center', va='center', xytext=(0, 10), textcoords='offset points') \n"
   ]
  },
  {
   "cell_type": "markdown",
   "metadata": {
    "ExecuteTime": {
     "end_time": "2020-11-09T05:53:51.157098Z",
     "start_time": "2020-11-09T05:53:51.153104Z"
    }
   },
   "source": [
    "**Management is the most frequent job**"
   ]
  },
  {
   "cell_type": "markdown",
   "metadata": {
    "ExecuteTime": {
     "end_time": "2020-11-09T05:55:14.553539Z",
     "start_time": "2020-11-09T05:55:14.548260Z"
    }
   },
   "source": [
    "### Job with target"
   ]
  },
  {
   "cell_type": "code",
   "execution_count": 61,
   "metadata": {
    "ExecuteTime": {
     "end_time": "2020-11-09T08:55:15.340266Z",
     "start_time": "2020-11-09T08:55:14.899473Z"
    },
    "scrolled": true
   },
   "outputs": [
    {
     "data": {
      "image/png": "[encoded data removed]",
      "text/plain": [
       "<Figure size 1440x576 with 1 Axes>"
      ]
     },
     "metadata": {
      "needs_background": "light"
     },
     "output_type": "display_data"
    }
   ],
   "source": [
    "plt.figure(figsize=(20,8))\n",
    "b= sns.countplot('Job',hue='CarInsurance',data=df,palette= 'Set2_r',order=df1['Job'].value_counts().index)\n",
    "for p in b.patches:\n",
    "    b.annotate(str(int(p.get_height())), (p.get_x() + p.get_width() / 2., p.get_height()), ha='center', va='center', xytext=(0, 10), textcoords='offset points') \n"
   ]
  },
  {
   "cell_type": "markdown",
   "metadata": {},
   "source": [
    "- Student is the most frequent to buy insurance, followed by retired and unemployed"
   ]
  },
  {
   "cell_type": "markdown",
   "metadata": {
    "ExecuteTime": {
     "end_time": "2020-11-09T04:42:16.434758Z",
     "start_time": "2020-11-09T04:42:16.429770Z"
    }
   },
   "source": [
    "## AGE Group"
   ]
  },
  {
   "cell_type": "code",
   "execution_count": 62,
   "metadata": {
    "ExecuteTime": {
     "end_time": "2020-11-09T08:55:15.354511Z",
     "start_time": "2020-11-09T08:55:15.342260Z"
    }
   },
   "outputs": [
    {
     "data": {
      "text/plain": [
       "count    3226.000000\n",
       "mean       41.049907\n",
       "std        11.669864\n",
       "min        18.000000\n",
       "25%        32.000000\n",
       "50%        39.000000\n",
       "75%        49.000000\n",
       "max        95.000000\n",
       "Name: Age, dtype: float64"
      ]
     },
     "execution_count": 62,
     "metadata": {},
     "output_type": "execute_result"
    }
   ],
   "source": [
    "df1['Age'].describe()"
   ]
  },
  {
   "cell_type": "code",
   "execution_count": 63,
   "metadata": {
    "ExecuteTime": {
     "end_time": "2020-11-09T08:55:15.719486Z",
     "start_time": "2020-11-09T08:55:15.357503Z"
    }
   },
   "outputs": [
    {
     "data": {
      "text/plain": [
       "<AxesSubplot:>"
      ]
     },
     "execution_count": 63,
     "metadata": {},
     "output_type": "execute_result"
    },
    {
     "data": {
      "image/png": "[encoded data removed]",
      "text/plain": [
       "<Figure size 576x432 with 1 Axes>"
      ]
     },
     "metadata": {
      "needs_background": "light"
     },
     "output_type": "display_data"
    }
   ],
   "source": [
    "df1['Age'].hist()"
   ]
  },
  {
   "cell_type": "code",
   "execution_count": 64,
   "metadata": {
    "ExecuteTime": {
     "end_time": "2020-11-09T08:55:16.095389Z",
     "start_time": "2020-11-09T08:55:15.722479Z"
    },
    "scrolled": false
   },
   "outputs": [
    {
     "data": {
      "image/png": "[encoded data removed]",
      "text/plain": [
       "<Figure size 576x432 with 1 Axes>"
      ]
     },
     "metadata": {
      "needs_background": "light"
     },
     "output_type": "display_data"
    }
   ],
   "source": [
    "df1[\"age_group\"]=pd.cut(df1.Age,bins=[0,30,40,50,60,100],labels=['Young','Mid-Age','Adult',\"Old\",'Elder'])\n",
    "b= sns.countplot(data=df1,x=\"age_group\",hue=\"CarInsurance\",palette=\"Set2_r\")\n",
    "\n",
    "for p in b.patches:\n",
    "    b.annotate(str(int(p.get_height())), (p.get_x() + p.get_width() / 2., p.get_height()), ha='center', va='center', xytext=(0, 10), textcoords='offset points') \n",
    "\n"
   ]
  },
  {
   "cell_type": "code",
   "execution_count": 65,
   "metadata": {
    "ExecuteTime": {
     "end_time": "2020-11-09T08:55:16.121405Z",
     "start_time": "2020-11-09T08:55:16.098228Z"
    },
    "scrolled": true
   },
   "outputs": [
    {
     "data": {
      "text/html": [
       "<div>\n",
       "<style scoped>\n",
       "    .dataframe tbody tr th:only-of-type {\n",
       "        vertical-align: middle;\n",
       "    }\n",
       "\n",
       "    .dataframe tbody tr th {\n",
       "        vertical-align: top;\n",
       "    }\n",
       "\n",
       "    .dataframe thead th {\n",
       "        text-align: right;\n",
       "    }\n",
       "</style>\n",
       "<table border=\"1\" class=\"dataframe\">\n",
       "  <thead>\n",
       "    <tr style=\"text-align: right;\">\n",
       "      <th></th>\n",
       "      <th>Age</th>\n",
       "      <th>Job</th>\n",
       "      <th>Marital</th>\n",
       "      <th>Education</th>\n",
       "      <th>Default</th>\n",
       "      <th>Balance</th>\n",
       "      <th>HHInsurance</th>\n",
       "      <th>CarLoan</th>\n",
       "      <th>Communication</th>\n",
       "      <th>LastContactDay</th>\n",
       "      <th>LastContactMonth</th>\n",
       "      <th>NoOfContacts</th>\n",
       "      <th>DaysPassed</th>\n",
       "      <th>PrevAttempts</th>\n",
       "      <th>Outcome</th>\n",
       "      <th>CarInsurance</th>\n",
       "      <th>Duration</th>\n",
       "      <th>age_group</th>\n",
       "    </tr>\n",
       "  </thead>\n",
       "  <tbody>\n",
       "    <tr>\n",
       "      <th>0</th>\n",
       "      <td>32</td>\n",
       "      <td>management</td>\n",
       "      <td>single</td>\n",
       "      <td>tertiary</td>\n",
       "      <td>0</td>\n",
       "      <td>1218</td>\n",
       "      <td>1</td>\n",
       "      <td>0</td>\n",
       "      <td>telephone</td>\n",
       "      <td>28</td>\n",
       "      <td>jan</td>\n",
       "      <td>2</td>\n",
       "      <td>-1</td>\n",
       "      <td>0</td>\n",
       "      <td>failure</td>\n",
       "      <td>0</td>\n",
       "      <td>70.0</td>\n",
       "      <td>Mid-Age</td>\n",
       "    </tr>\n",
       "    <tr>\n",
       "      <th>1</th>\n",
       "      <td>32</td>\n",
       "      <td>blue-collar</td>\n",
       "      <td>married</td>\n",
       "      <td>primary</td>\n",
       "      <td>0</td>\n",
       "      <td>1156</td>\n",
       "      <td>1</td>\n",
       "      <td>0</td>\n",
       "      <td>cellular</td>\n",
       "      <td>26</td>\n",
       "      <td>may</td>\n",
       "      <td>5</td>\n",
       "      <td>-1</td>\n",
       "      <td>0</td>\n",
       "      <td>failure</td>\n",
       "      <td>0</td>\n",
       "      <td>185.0</td>\n",
       "      <td>Mid-Age</td>\n",
       "    </tr>\n",
       "    <tr>\n",
       "      <th>2</th>\n",
       "      <td>29</td>\n",
       "      <td>management</td>\n",
       "      <td>single</td>\n",
       "      <td>tertiary</td>\n",
       "      <td>0</td>\n",
       "      <td>637</td>\n",
       "      <td>1</td>\n",
       "      <td>0</td>\n",
       "      <td>cellular</td>\n",
       "      <td>3</td>\n",
       "      <td>jun</td>\n",
       "      <td>1</td>\n",
       "      <td>119</td>\n",
       "      <td>1</td>\n",
       "      <td>failure</td>\n",
       "      <td>1</td>\n",
       "      <td>340.0</td>\n",
       "      <td>Young</td>\n",
       "    </tr>\n",
       "    <tr>\n",
       "      <th>3</th>\n",
       "      <td>25</td>\n",
       "      <td>student</td>\n",
       "      <td>single</td>\n",
       "      <td>primary</td>\n",
       "      <td>0</td>\n",
       "      <td>373</td>\n",
       "      <td>1</td>\n",
       "      <td>0</td>\n",
       "      <td>cellular</td>\n",
       "      <td>11</td>\n",
       "      <td>may</td>\n",
       "      <td>2</td>\n",
       "      <td>-1</td>\n",
       "      <td>0</td>\n",
       "      <td>failure</td>\n",
       "      <td>1</td>\n",
       "      <td>819.0</td>\n",
       "      <td>Young</td>\n",
       "    </tr>\n",
       "    <tr>\n",
       "      <th>4</th>\n",
       "      <td>30</td>\n",
       "      <td>management</td>\n",
       "      <td>married</td>\n",
       "      <td>tertiary</td>\n",
       "      <td>0</td>\n",
       "      <td>2694</td>\n",
       "      <td>0</td>\n",
       "      <td>0</td>\n",
       "      <td>cellular</td>\n",
       "      <td>3</td>\n",
       "      <td>jun</td>\n",
       "      <td>1</td>\n",
       "      <td>-1</td>\n",
       "      <td>0</td>\n",
       "      <td>failure</td>\n",
       "      <td>0</td>\n",
       "      <td>192.0</td>\n",
       "      <td>Young</td>\n",
       "    </tr>\n",
       "  </tbody>\n",
       "</table>\n",
       "</div>"
      ],
      "text/plain": [
       "   Age          Job  Marital Education  Default  Balance  HHInsurance  \\\n",
       "0   32   management   single  tertiary        0     1218            1   \n",
       "1   32  blue-collar  married   primary        0     1156            1   \n",
       "2   29   management   single  tertiary        0      637            1   \n",
       "3   25      student   single   primary        0      373            1   \n",
       "4   30   management  married  tertiary        0     2694            0   \n",
       "\n",
       "   CarLoan Communication  LastContactDay LastContactMonth  NoOfContacts  \\\n",
       "0        0     telephone              28              jan             2   \n",
       "1        0      cellular              26              may             5   \n",
       "2        0      cellular               3              jun             1   \n",
       "3        0      cellular              11              may             2   \n",
       "4        0      cellular               3              jun             1   \n",
       "\n",
       "   DaysPassed  PrevAttempts  Outcome  CarInsurance  Duration age_group  \n",
       "0          -1             0  failure             0      70.0   Mid-Age  \n",
       "1          -1             0  failure             0     185.0   Mid-Age  \n",
       "2         119             1  failure             1     340.0     Young  \n",
       "3          -1             0  failure             1     819.0     Young  \n",
       "4          -1             0  failure             0     192.0     Young  "
      ]
     },
     "execution_count": 65,
     "metadata": {},
     "output_type": "execute_result"
    }
   ],
   "source": [
    "df1.head()"
   ]
  },
  {
   "cell_type": "markdown",
   "metadata": {},
   "source": [
    "- Elder group are more likely to buy car insurances."
   ]
  },
  {
   "cell_type": "markdown",
   "metadata": {
    "ExecuteTime": {
     "end_time": "2020-11-09T06:05:17.459737Z",
     "start_time": "2020-11-09T06:05:17.455714Z"
    }
   },
   "source": [
    "## EDUCATION with CI /target"
   ]
  },
  {
   "cell_type": "code",
   "execution_count": 66,
   "metadata": {
    "ExecuteTime": {
     "end_time": "2020-11-09T08:55:16.402341Z",
     "start_time": "2020-11-09T08:55:16.125395Z"
    }
   },
   "outputs": [
    {
     "data": {
      "image/png": "[encoded data removed]",
      "text/plain": [
       "<Figure size 720x504 with 1 Axes>"
      ]
     },
     "metadata": {
      "needs_background": "light"
     },
     "output_type": "display_data"
    }
   ],
   "source": [
    "plt.figure(figsize=(10,7))\n",
    "b= sns.countplot('Education',hue='CarInsurance',data=df,palette= 'Set2_r',order= df1['Education'].value_counts().index)\n",
    "for p in b.patches:\n",
    "    b.annotate(str(int(p.get_height())), (p.get_x() + p.get_width() / 2., p.get_height()), ha='center', va='center', xytext=(0, 10), textcoords='offset points') \n"
   ]
  },
  {
   "cell_type": "markdown",
   "metadata": {},
   "source": [
    "- higher education is most likely to buy insurance\n",
    "- tertiary education is the highest rate who buy insurance\n"
   ]
  },
  {
   "cell_type": "markdown",
   "metadata": {
    "ExecuteTime": {
     "end_time": "2020-11-09T06:10:37.528901Z",
     "start_time": "2020-11-09T06:10:37.523890Z"
    }
   },
   "source": [
    "## MONTH CONTACT"
   ]
  },
  {
   "cell_type": "code",
   "execution_count": 67,
   "metadata": {
    "ExecuteTime": {
     "end_time": "2020-11-09T08:55:16.766317Z",
     "start_time": "2020-11-09T08:55:16.405332Z"
    }
   },
   "outputs": [
    {
     "data": {
      "image/png": "[encoded data removed]",
      "text/plain": [
       "<Figure size 720x360 with 1 Axes>"
      ]
     },
     "metadata": {
      "needs_background": "light"
     },
     "output_type": "display_data"
    }
   ],
   "source": [
    "plt.figure(figsize=(10,5))\n",
    "sns.countplot(x=\"LastContactMonth\",hue=\"CarInsurance\",palette=\"Set2_r\",data=df1,order=(\"jan\",\"feb\",\"mar\",\"apr\",\"may\",\"jun\",\"jul\",\"aug\",\"sep\",\"oct\",\"nov\",\"dec\"))\n",
    "plt.show()"
   ]
  },
  {
   "cell_type": "markdown",
   "metadata": {},
   "source": [
    "- most distributed data is on may\n",
    "- compared to months contacted, on March, September, October, and December is the highest rate to buy insurance.\n",
    "- probably the previous marketing is targeting in these months period"
   ]
  },
  {
   "cell_type": "markdown",
   "metadata": {
    "ExecuteTime": {
     "end_time": "2020-11-09T06:15:10.765291Z",
     "start_time": "2020-11-09T06:15:10.760306Z"
    }
   },
   "source": [
    "## Way to Communicate"
   ]
  },
  {
   "cell_type": "code",
   "execution_count": 68,
   "metadata": {
    "ExecuteTime": {
     "end_time": "2020-11-09T08:55:17.004347Z",
     "start_time": "2020-11-09T08:55:16.778347Z"
    }
   },
   "outputs": [
    {
     "data": {
      "text/plain": [
       "<AxesSubplot:xlabel='Communication', ylabel='count'>"
      ]
     },
     "execution_count": 68,
     "metadata": {},
     "output_type": "execute_result"
    },
    {
     "data": {
      "image/png": "[encoded data removed]",
      "text/plain": [
       "<Figure size 720x360 with 1 Axes>"
      ]
     },
     "metadata": {
      "needs_background": "light"
     },
     "output_type": "display_data"
    }
   ],
   "source": [
    "plt.figure(figsize=(10,5))\n",
    "sns.countplot(x=\"Communication\",hue=\"CarInsurance\",palette=\"Set2_r\",data=df1)"
   ]
  },
  {
   "cell_type": "markdown",
   "metadata": {},
   "source": [
    "- Marketing is focusing contact the next customer by celullar instead of telephone. People these days is always using their cellphone instead of staying at home and respond to telephone call at home"
   ]
  },
  {
   "cell_type": "markdown",
   "metadata": {
    "ExecuteTime": {
     "end_time": "2020-11-09T06:21:30.445318Z",
     "start_time": "2020-11-09T06:21:30.440344Z"
    }
   },
   "source": [
    "## OUTCOME"
   ]
  },
  {
   "cell_type": "code",
   "execution_count": 69,
   "metadata": {
    "ExecuteTime": {
     "end_time": "2020-11-09T08:55:17.400154Z",
     "start_time": "2020-11-09T08:55:17.014291Z"
    },
    "scrolled": true
   },
   "outputs": [
    {
     "data": {
      "text/plain": [
       "<AxesSubplot:xlabel='Outcome', ylabel='count'>"
      ]
     },
     "execution_count": 69,
     "metadata": {},
     "output_type": "execute_result"
    },
    {
     "data": {
      "image/png": "[encoded data removed]",
      "text/plain": [
       "<Figure size 720x360 with 1 Axes>"
      ]
     },
     "metadata": {
      "needs_background": "light"
     },
     "output_type": "display_data"
    }
   ],
   "source": [
    "plt.figure(figsize=(10,5))\n",
    "sns.countplot(x=\"Outcome\",hue=\"CarInsurance\",palette=\"Set2_r\",data=df1)"
   ]
  },
  {
   "cell_type": "markdown",
   "metadata": {},
   "source": [
    "- the customer is most likely want to buy the insurance after the campaign"
   ]
  },
  {
   "cell_type": "markdown",
   "metadata": {
    "ExecuteTime": {
     "end_time": "2020-11-09T06:44:49.664526Z",
     "start_time": "2020-11-09T06:44:49.659538Z"
    }
   },
   "source": [
    "## Previous Attempts"
   ]
  },
  {
   "cell_type": "code",
   "execution_count": 70,
   "metadata": {
    "ExecuteTime": {
     "end_time": "2020-11-09T08:55:18.141747Z",
     "start_time": "2020-11-09T08:55:17.403145Z"
    }
   },
   "outputs": [
    {
     "data": {
      "text/plain": [
       "<AxesSubplot:xlabel='PrevAttempts', ylabel='count'>"
      ]
     },
     "execution_count": 70,
     "metadata": {},
     "output_type": "execute_result"
    },
    {
     "data": {
      "image/png": "[encoded data removed]",
      "text/plain": [
       "<Figure size 720x360 with 1 Axes>"
      ]
     },
     "metadata": {
      "needs_background": "light"
     },
     "output_type": "display_data"
    }
   ],
   "source": [
    "plt.figure(figsize=(10,5))\n",
    "sns.countplot(x=\"PrevAttempts\",hue=\"CarInsurance\",palette=\"Set2_r\",data=df1)"
   ]
  },
  {
   "cell_type": "markdown",
   "metadata": {
    "ExecuteTime": {
     "end_time": "2020-11-09T06:30:31.185733Z",
     "start_time": "2020-11-09T06:30:31.181745Z"
    }
   },
   "source": [
    "## DURATION CALL"
   ]
  },
  {
   "cell_type": "code",
   "execution_count": 71,
   "metadata": {
    "ExecuteTime": {
     "end_time": "2020-11-09T08:55:18.155710Z",
     "start_time": "2020-11-09T08:55:18.143743Z"
    }
   },
   "outputs": [],
   "source": [
    "avg_duration = df1['Duration'].mean()\n",
    "\n",
    "lst = [df1]\n",
    "df1[\"duration_status\"] = np.nan\n",
    "\n",
    "for col in lst:\n",
    "    col.loc[col[\"Duration\"] < avg_duration, \"duration_status\"] = \"below_average\"\n",
    "    col.loc[col[\"Duration\"] > avg_duration, \"duration_status\"] = \"above_average\""
   ]
  },
  {
   "cell_type": "code",
   "execution_count": 72,
   "metadata": {
    "ExecuteTime": {
     "end_time": "2020-11-09T08:55:18.167678Z",
     "start_time": "2020-11-09T08:55:18.158704Z"
    },
    "scrolled": true
   },
   "outputs": [
    {
     "data": {
      "text/plain": [
       "0       below_average\n",
       "1       below_average\n",
       "2       below_average\n",
       "3       above_average\n",
       "4       below_average\n",
       "            ...      \n",
       "3993    below_average\n",
       "3994    above_average\n",
       "3996    below_average\n",
       "3998    below_average\n",
       "3999    below_average\n",
       "Name: duration_status, Length: 3226, dtype: object"
      ]
     },
     "execution_count": 72,
     "metadata": {},
     "output_type": "execute_result"
    }
   ],
   "source": [
    "df1['duration_status']"
   ]
  },
  {
   "cell_type": "code",
   "execution_count": 73,
   "metadata": {
    "ExecuteTime": {
     "end_time": "2020-11-09T08:55:18.193609Z",
     "start_time": "2020-11-09T08:55:18.170672Z"
    }
   },
   "outputs": [],
   "source": [
    "duration_percent = pd.crosstab(df1['duration_status'], df1['CarInsurance'],normalize ='index')"
   ]
  },
  {
   "cell_type": "code",
   "execution_count": 74,
   "metadata": {
    "ExecuteTime": {
     "end_time": "2020-11-09T08:55:18.219543Z",
     "start_time": "2020-11-09T08:55:18.196601Z"
    }
   },
   "outputs": [],
   "source": [
    "duration_percent = pd.crosstab(df1['duration_status'], df['CarInsurance'],normalize ='index')"
   ]
  },
  {
   "cell_type": "code",
   "execution_count": 75,
   "metadata": {
    "ExecuteTime": {
     "end_time": "2020-11-09T08:55:18.245472Z",
     "start_time": "2020-11-09T08:55:18.223533Z"
    }
   },
   "outputs": [
    {
     "data": {
      "text/html": [
       "<div>\n",
       "<style scoped>\n",
       "    .dataframe tbody tr th:only-of-type {\n",
       "        vertical-align: middle;\n",
       "    }\n",
       "\n",
       "    .dataframe tbody tr th {\n",
       "        vertical-align: top;\n",
       "    }\n",
       "\n",
       "    .dataframe thead th {\n",
       "        text-align: right;\n",
       "    }\n",
       "</style>\n",
       "<table border=\"1\" class=\"dataframe\">\n",
       "  <thead>\n",
       "    <tr style=\"text-align: right;\">\n",
       "      <th>CarInsurance</th>\n",
       "      <th>0</th>\n",
       "      <th>1</th>\n",
       "    </tr>\n",
       "    <tr>\n",
       "      <th>duration_status</th>\n",
       "      <th></th>\n",
       "      <th></th>\n",
       "    </tr>\n",
       "  </thead>\n",
       "  <tbody>\n",
       "    <tr>\n",
       "      <th>above_average</th>\n",
       "      <td>0.28</td>\n",
       "      <td>0.72</td>\n",
       "    </tr>\n",
       "    <tr>\n",
       "      <th>below_average</th>\n",
       "      <td>0.73</td>\n",
       "      <td>0.27</td>\n",
       "    </tr>\n",
       "  </tbody>\n",
       "</table>\n",
       "</div>"
      ],
      "text/plain": [
       "CarInsurance        0     1\n",
       "duration_status            \n",
       "above_average    0.28  0.72\n",
       "below_average    0.73  0.27"
      ]
     },
     "execution_count": 75,
     "metadata": {},
     "output_type": "execute_result"
    }
   ],
   "source": [
    "duration_percent.round(2)"
   ]
  },
  {
   "cell_type": "code",
   "execution_count": 76,
   "metadata": {
    "ExecuteTime": {
     "end_time": "2020-11-09T08:55:18.493371Z",
     "start_time": "2020-11-09T08:55:18.248466Z"
    }
   },
   "outputs": [
    {
     "data": {
      "text/plain": [
       "<AxesSubplot:xlabel='duration_status'>"
      ]
     },
     "execution_count": 76,
     "metadata": {},
     "output_type": "execute_result"
    },
    {
     "data": {
      "image/png": "[encoded data removed]",
      "text/plain": [
       "<Figure size 576x432 with 1 Axes>"
      ]
     },
     "metadata": {
      "needs_background": "light"
     },
     "output_type": "display_data"
    }
   ],
   "source": [
    "duration_percent.plot(kind='bar',cmap='Set2_r')"
   ]
  },
  {
   "cell_type": "markdown",
   "metadata": {},
   "source": [
    "- The longer the conversations on the phone, the higher interest the customer will show to buy the insurance"
   ]
  },
  {
   "cell_type": "markdown",
   "metadata": {
    "ExecuteTime": {
     "end_time": "2020-11-09T06:52:40.020192Z",
     "start_time": "2020-11-09T06:52:40.016200Z"
    }
   },
   "source": [
    "## CAR LOAN"
   ]
  },
  {
   "cell_type": "code",
   "execution_count": 77,
   "metadata": {
    "ExecuteTime": {
     "end_time": "2020-11-09T08:55:18.704367Z",
     "start_time": "2020-11-09T08:55:18.496366Z"
    }
   },
   "outputs": [
    {
     "data": {
      "text/plain": [
       "<AxesSubplot:xlabel='CarLoan', ylabel='count'>"
      ]
     },
     "execution_count": 77,
     "metadata": {},
     "output_type": "execute_result"
    },
    {
     "data": {
      "image/png": "[encoded data removed]",
      "text/plain": [
       "<Figure size 720x360 with 1 Axes>"
      ]
     },
     "metadata": {
      "needs_background": "light"
     },
     "output_type": "display_data"
    }
   ],
   "source": [
    "plt.figure(figsize=(10,5))\n",
    "sns.countplot(x=\"CarLoan\",hue=\"CarInsurance\",palette=\"Set2_r\",data=df1)"
   ]
  },
  {
   "cell_type": "markdown",
   "metadata": {},
   "source": [
    "- People who have loaned a car, do not want to buy "
   ]
  },
  {
   "cell_type": "markdown",
   "metadata": {
    "ExecuteTime": {
     "end_time": "2020-11-09T06:53:33.302466Z",
     "start_time": "2020-11-09T06:53:33.297482Z"
    }
   },
   "source": [
    "# FEATURE ENGINEERING AND SELECTIONS"
   ]
  },
  {
   "cell_type": "code",
   "execution_count": 78,
   "metadata": {
    "ExecuteTime": {
     "end_time": "2020-11-09T08:55:18.744261Z",
     "start_time": "2020-11-09T08:55:18.707360Z"
    }
   },
   "outputs": [
    {
     "data": {
      "text/html": [
       "<div>\n",
       "<style scoped>\n",
       "    .dataframe tbody tr th:only-of-type {\n",
       "        vertical-align: middle;\n",
       "    }\n",
       "\n",
       "    .dataframe tbody tr th {\n",
       "        vertical-align: top;\n",
       "    }\n",
       "\n",
       "    .dataframe thead th {\n",
       "        text-align: right;\n",
       "    }\n",
       "</style>\n",
       "<table border=\"1\" class=\"dataframe\">\n",
       "  <thead>\n",
       "    <tr style=\"text-align: right;\">\n",
       "      <th></th>\n",
       "      <th>Age</th>\n",
       "      <th>Job</th>\n",
       "      <th>Marital</th>\n",
       "      <th>Education</th>\n",
       "      <th>Default</th>\n",
       "      <th>Balance</th>\n",
       "      <th>HHInsurance</th>\n",
       "      <th>CarLoan</th>\n",
       "      <th>Communication</th>\n",
       "      <th>LastContactDay</th>\n",
       "      <th>LastContactMonth</th>\n",
       "      <th>NoOfContacts</th>\n",
       "      <th>DaysPassed</th>\n",
       "      <th>PrevAttempts</th>\n",
       "      <th>Outcome</th>\n",
       "      <th>CarInsurance</th>\n",
       "      <th>Duration</th>\n",
       "      <th>age_group</th>\n",
       "      <th>duration_status</th>\n",
       "    </tr>\n",
       "  </thead>\n",
       "  <tbody>\n",
       "    <tr>\n",
       "      <th>0</th>\n",
       "      <td>32</td>\n",
       "      <td>management</td>\n",
       "      <td>single</td>\n",
       "      <td>tertiary</td>\n",
       "      <td>0</td>\n",
       "      <td>1218</td>\n",
       "      <td>1</td>\n",
       "      <td>0</td>\n",
       "      <td>telephone</td>\n",
       "      <td>28</td>\n",
       "      <td>jan</td>\n",
       "      <td>2</td>\n",
       "      <td>-1</td>\n",
       "      <td>0</td>\n",
       "      <td>failure</td>\n",
       "      <td>0</td>\n",
       "      <td>70.0</td>\n",
       "      <td>Mid-Age</td>\n",
       "      <td>below_average</td>\n",
       "    </tr>\n",
       "    <tr>\n",
       "      <th>1</th>\n",
       "      <td>32</td>\n",
       "      <td>blue-collar</td>\n",
       "      <td>married</td>\n",
       "      <td>primary</td>\n",
       "      <td>0</td>\n",
       "      <td>1156</td>\n",
       "      <td>1</td>\n",
       "      <td>0</td>\n",
       "      <td>cellular</td>\n",
       "      <td>26</td>\n",
       "      <td>may</td>\n",
       "      <td>5</td>\n",
       "      <td>-1</td>\n",
       "      <td>0</td>\n",
       "      <td>failure</td>\n",
       "      <td>0</td>\n",
       "      <td>185.0</td>\n",
       "      <td>Mid-Age</td>\n",
       "      <td>below_average</td>\n",
       "    </tr>\n",
       "    <tr>\n",
       "      <th>2</th>\n",
       "      <td>29</td>\n",
       "      <td>management</td>\n",
       "      <td>single</td>\n",
       "      <td>tertiary</td>\n",
       "      <td>0</td>\n",
       "      <td>637</td>\n",
       "      <td>1</td>\n",
       "      <td>0</td>\n",
       "      <td>cellular</td>\n",
       "      <td>3</td>\n",
       "      <td>jun</td>\n",
       "      <td>1</td>\n",
       "      <td>119</td>\n",
       "      <td>1</td>\n",
       "      <td>failure</td>\n",
       "      <td>1</td>\n",
       "      <td>340.0</td>\n",
       "      <td>Young</td>\n",
       "      <td>below_average</td>\n",
       "    </tr>\n",
       "    <tr>\n",
       "      <th>3</th>\n",
       "      <td>25</td>\n",
       "      <td>student</td>\n",
       "      <td>single</td>\n",
       "      <td>primary</td>\n",
       "      <td>0</td>\n",
       "      <td>373</td>\n",
       "      <td>1</td>\n",
       "      <td>0</td>\n",
       "      <td>cellular</td>\n",
       "      <td>11</td>\n",
       "      <td>may</td>\n",
       "      <td>2</td>\n",
       "      <td>-1</td>\n",
       "      <td>0</td>\n",
       "      <td>failure</td>\n",
       "      <td>1</td>\n",
       "      <td>819.0</td>\n",
       "      <td>Young</td>\n",
       "      <td>above_average</td>\n",
       "    </tr>\n",
       "    <tr>\n",
       "      <th>4</th>\n",
       "      <td>30</td>\n",
       "      <td>management</td>\n",
       "      <td>married</td>\n",
       "      <td>tertiary</td>\n",
       "      <td>0</td>\n",
       "      <td>2694</td>\n",
       "      <td>0</td>\n",
       "      <td>0</td>\n",
       "      <td>cellular</td>\n",
       "      <td>3</td>\n",
       "      <td>jun</td>\n",
       "      <td>1</td>\n",
       "      <td>-1</td>\n",
       "      <td>0</td>\n",
       "      <td>failure</td>\n",
       "      <td>0</td>\n",
       "      <td>192.0</td>\n",
       "      <td>Young</td>\n",
       "      <td>below_average</td>\n",
       "    </tr>\n",
       "  </tbody>\n",
       "</table>\n",
       "</div>"
      ],
      "text/plain": [
       "   Age          Job  Marital Education  Default  Balance  HHInsurance  \\\n",
       "0   32   management   single  tertiary        0     1218            1   \n",
       "1   32  blue-collar  married   primary        0     1156            1   \n",
       "2   29   management   single  tertiary        0      637            1   \n",
       "3   25      student   single   primary        0      373            1   \n",
       "4   30   management  married  tertiary        0     2694            0   \n",
       "\n",
       "   CarLoan Communication  LastContactDay LastContactMonth  NoOfContacts  \\\n",
       "0        0     telephone              28              jan             2   \n",
       "1        0      cellular              26              may             5   \n",
       "2        0      cellular               3              jun             1   \n",
       "3        0      cellular              11              may             2   \n",
       "4        0      cellular               3              jun             1   \n",
       "\n",
       "   DaysPassed  PrevAttempts  Outcome  CarInsurance  Duration age_group  \\\n",
       "0          -1             0  failure             0      70.0   Mid-Age   \n",
       "1          -1             0  failure             0     185.0   Mid-Age   \n",
       "2         119             1  failure             1     340.0     Young   \n",
       "3          -1             0  failure             1     819.0     Young   \n",
       "4          -1             0  failure             0     192.0     Young   \n",
       "\n",
       "  duration_status  \n",
       "0   below_average  \n",
       "1   below_average  \n",
       "2   below_average  \n",
       "3   above_average  \n",
       "4   below_average  "
      ]
     },
     "execution_count": 78,
     "metadata": {},
     "output_type": "execute_result"
    }
   ],
   "source": [
    "df1.head()"
   ]
  },
  {
   "cell_type": "code",
   "execution_count": 79,
   "metadata": {
    "ExecuteTime": {
     "end_time": "2020-11-09T08:55:19.989959Z",
     "start_time": "2020-11-09T08:55:18.747790Z"
    }
   },
   "outputs": [
    {
     "data": {
      "text/plain": [
       "<AxesSubplot:>"
      ]
     },
     "execution_count": 79,
     "metadata": {},
     "output_type": "execute_result"
    },
    {
     "data": {
      "image/png": "[encoded data removed]",
      "text/plain": [
       "<Figure size 576x432 with 2 Axes>"
      ]
     },
     "metadata": {
      "needs_background": "light"
     },
     "output_type": "display_data"
    }
   ],
   "source": [
    "corr = df1.corr()\n",
    "sns.heatmap(corr,cmap = 'viridis', annot= True, linewidth = 0.5)"
   ]
  },
  {
   "cell_type": "code",
   "execution_count": 80,
   "metadata": {
    "ExecuteTime": {
     "end_time": "2020-11-09T08:55:20.139560Z",
     "start_time": "2020-11-09T08:55:19.993949Z"
    }
   },
   "outputs": [
    {
     "data": {
      "text/html": [
       "<style  type=\"text/css\" >\n",
       "#T_4baa9fe4_2269_11eb_b9b4_8c1645d12c3brow0_col0{\n",
       "            background-color:  #0000ff;\n",
       "            color:  #f1f1f1;\n",
       "        }#T_4baa9fe4_2269_11eb_b9b4_8c1645d12c3brow1_col0{\n",
       "            background-color:  #6a6afa;\n",
       "            color:  #000000;\n",
       "        }#T_4baa9fe4_2269_11eb_b9b4_8c1645d12c3brow2_col0{\n",
       "            background-color:  #a9a9f6;\n",
       "            color:  #000000;\n",
       "        }#T_4baa9fe4_2269_11eb_b9b4_8c1645d12c3brow3_col0{\n",
       "            background-color:  #acacf6;\n",
       "            color:  #000000;\n",
       "        }#T_4baa9fe4_2269_11eb_b9b4_8c1645d12c3brow4_col0{\n",
       "            background-color:  #b6b6f6;\n",
       "            color:  #000000;\n",
       "        }#T_4baa9fe4_2269_11eb_b9b4_8c1645d12c3brow5_col0{\n",
       "            background-color:  #bfbff5;\n",
       "            color:  #000000;\n",
       "        }#T_4baa9fe4_2269_11eb_b9b4_8c1645d12c3brow6_col0{\n",
       "            background-color:  #c9c9f5;\n",
       "            color:  #000000;\n",
       "        }#T_4baa9fe4_2269_11eb_b9b4_8c1645d12c3brow7_col0{\n",
       "            background-color:  #cecef5;\n",
       "            color:  #000000;\n",
       "        }#T_4baa9fe4_2269_11eb_b9b4_8c1645d12c3brow8_col0{\n",
       "            background-color:  #dbdbf4;\n",
       "            color:  #000000;\n",
       "        }#T_4baa9fe4_2269_11eb_b9b4_8c1645d12c3brow9_col0{\n",
       "            background-color:  #dcdcf4;\n",
       "            color:  #000000;\n",
       "        }#T_4baa9fe4_2269_11eb_b9b4_8c1645d12c3brow10_col0{\n",
       "            background-color:  #f0f0f3;\n",
       "            color:  #000000;\n",
       "        }</style><table id=\"T_4baa9fe4_2269_11eb_b9b4_8c1645d12c3b\" ><thead>    <tr>        <th class=\"blank level0\" ></th>        <th class=\"col_heading level0 col0\" >CarInsurance</th>    </tr></thead><tbody>\n",
       "                <tr>\n",
       "                        <th id=\"T_4baa9fe4_2269_11eb_b9b4_8c1645d12c3blevel0_row0\" class=\"row_heading level0 row0\" >CarInsurance</th>\n",
       "                        <td id=\"T_4baa9fe4_2269_11eb_b9b4_8c1645d12c3brow0_col0\" class=\"data row0 col0\" >1.000000</td>\n",
       "            </tr>\n",
       "            <tr>\n",
       "                        <th id=\"T_4baa9fe4_2269_11eb_b9b4_8c1645d12c3blevel0_row1\" class=\"row_heading level0 row1\" >Duration</th>\n",
       "                        <td id=\"T_4baa9fe4_2269_11eb_b9b4_8c1645d12c3brow1_col0\" class=\"data row1 col0\" >0.465806</td>\n",
       "            </tr>\n",
       "            <tr>\n",
       "                        <th id=\"T_4baa9fe4_2269_11eb_b9b4_8c1645d12c3blevel0_row2\" class=\"row_heading level0 row2\" >PrevAttempts</th>\n",
       "                        <td id=\"T_4baa9fe4_2269_11eb_b9b4_8c1645d12c3brow2_col0\" class=\"data row2 col0\" >0.147538</td>\n",
       "            </tr>\n",
       "            <tr>\n",
       "                        <th id=\"T_4baa9fe4_2269_11eb_b9b4_8c1645d12c3blevel0_row3\" class=\"row_heading level0 row3\" >DaysPassed</th>\n",
       "                        <td id=\"T_4baa9fe4_2269_11eb_b9b4_8c1645d12c3brow3_col0\" class=\"data row3 col0\" >0.130498</td>\n",
       "            </tr>\n",
       "            <tr>\n",
       "                        <th id=\"T_4baa9fe4_2269_11eb_b9b4_8c1645d12c3blevel0_row4\" class=\"row_heading level0 row4\" >Balance</th>\n",
       "                        <td id=\"T_4baa9fe4_2269_11eb_b9b4_8c1645d12c3brow4_col0\" class=\"data row4 col0\" >0.080168</td>\n",
       "            </tr>\n",
       "            <tr>\n",
       "                        <th id=\"T_4baa9fe4_2269_11eb_b9b4_8c1645d12c3blevel0_row5\" class=\"row_heading level0 row5\" >Age</th>\n",
       "                        <td id=\"T_4baa9fe4_2269_11eb_b9b4_8c1645d12c3brow5_col0\" class=\"data row5 col0\" >0.030690</td>\n",
       "            </tr>\n",
       "            <tr>\n",
       "                        <th id=\"T_4baa9fe4_2269_11eb_b9b4_8c1645d12c3blevel0_row6\" class=\"row_heading level0 row6\" >Default</th>\n",
       "                        <td id=\"T_4baa9fe4_2269_11eb_b9b4_8c1645d12c3brow6_col0\" class=\"data row6 col0\" >-0.017199</td>\n",
       "            </tr>\n",
       "            <tr>\n",
       "                        <th id=\"T_4baa9fe4_2269_11eb_b9b4_8c1645d12c3blevel0_row7\" class=\"row_heading level0 row7\" >LastContactDay</th>\n",
       "                        <td id=\"T_4baa9fe4_2269_11eb_b9b4_8c1645d12c3brow7_col0\" class=\"data row7 col0\" >-0.040140</td>\n",
       "            </tr>\n",
       "            <tr>\n",
       "                        <th id=\"T_4baa9fe4_2269_11eb_b9b4_8c1645d12c3blevel0_row8\" class=\"row_heading level0 row8\" >CarLoan</th>\n",
       "                        <td id=\"T_4baa9fe4_2269_11eb_b9b4_8c1645d12c3brow8_col0\" class=\"data row8 col0\" >-0.105810</td>\n",
       "            </tr>\n",
       "            <tr>\n",
       "                        <th id=\"T_4baa9fe4_2269_11eb_b9b4_8c1645d12c3blevel0_row9\" class=\"row_heading level0 row9\" >NoOfContacts</th>\n",
       "                        <td id=\"T_4baa9fe4_2269_11eb_b9b4_8c1645d12c3brow9_col0\" class=\"data row9 col0\" >-0.112737</td>\n",
       "            </tr>\n",
       "            <tr>\n",
       "                        <th id=\"T_4baa9fe4_2269_11eb_b9b4_8c1645d12c3blevel0_row10\" class=\"row_heading level0 row10\" >HHInsurance</th>\n",
       "                        <td id=\"T_4baa9fe4_2269_11eb_b9b4_8c1645d12c3brow10_col0\" class=\"data row10 col0\" >-0.217845</td>\n",
       "            </tr>\n",
       "    </tbody></table>"
      ],
      "text/plain": [
       "<pandas.io.formats.style.Styler at 0x255955ca388>"
      ]
     },
     "execution_count": 80,
     "metadata": {},
     "output_type": "execute_result"
    }
   ],
   "source": [
    "num_top10_corr = df1.corr()['CarInsurance'].sort_values(ascending=False).head(20).to_frame()\n",
    "cm = sns.light_palette(\"blue\", as_cmap=True)\n",
    "s = num_top10_corr.style.background_gradient(cmap=cm)\n",
    "s"
   ]
  },
  {
   "cell_type": "markdown",
   "metadata": {
    "ExecuteTime": {
     "end_time": "2020-11-09T06:55:53.726177Z",
     "start_time": "2020-11-09T06:55:53.721189Z"
    }
   },
   "source": [
    "## BINNING, ENCODING"
   ]
  },
  {
   "cell_type": "code",
   "execution_count": 81,
   "metadata": {
    "ExecuteTime": {
     "end_time": "2020-11-09T08:55:20.182446Z",
     "start_time": "2020-11-09T08:55:20.142552Z"
    }
   },
   "outputs": [
    {
     "data": {
      "text/html": [
       "<div>\n",
       "<style scoped>\n",
       "    .dataframe tbody tr th:only-of-type {\n",
       "        vertical-align: middle;\n",
       "    }\n",
       "\n",
       "    .dataframe tbody tr th {\n",
       "        vertical-align: top;\n",
       "    }\n",
       "\n",
       "    .dataframe thead th {\n",
       "        text-align: right;\n",
       "    }\n",
       "</style>\n",
       "<table border=\"1\" class=\"dataframe\">\n",
       "  <thead>\n",
       "    <tr style=\"text-align: right;\">\n",
       "      <th></th>\n",
       "      <th>Age</th>\n",
       "      <th>Job</th>\n",
       "      <th>Marital</th>\n",
       "      <th>Education</th>\n",
       "      <th>Default</th>\n",
       "      <th>Balance</th>\n",
       "      <th>HHInsurance</th>\n",
       "      <th>CarLoan</th>\n",
       "      <th>Communication</th>\n",
       "      <th>LastContactDay</th>\n",
       "      <th>LastContactMonth</th>\n",
       "      <th>NoOfContacts</th>\n",
       "      <th>DaysPassed</th>\n",
       "      <th>PrevAttempts</th>\n",
       "      <th>Outcome</th>\n",
       "      <th>CarInsurance</th>\n",
       "      <th>Duration</th>\n",
       "      <th>age_group</th>\n",
       "      <th>duration_status</th>\n",
       "    </tr>\n",
       "  </thead>\n",
       "  <tbody>\n",
       "    <tr>\n",
       "      <th>0</th>\n",
       "      <td>32</td>\n",
       "      <td>management</td>\n",
       "      <td>single</td>\n",
       "      <td>tertiary</td>\n",
       "      <td>0</td>\n",
       "      <td>1218</td>\n",
       "      <td>1</td>\n",
       "      <td>0</td>\n",
       "      <td>telephone</td>\n",
       "      <td>28</td>\n",
       "      <td>jan</td>\n",
       "      <td>2</td>\n",
       "      <td>-1</td>\n",
       "      <td>0</td>\n",
       "      <td>failure</td>\n",
       "      <td>0</td>\n",
       "      <td>70.0</td>\n",
       "      <td>Mid-Age</td>\n",
       "      <td>below_average</td>\n",
       "    </tr>\n",
       "    <tr>\n",
       "      <th>1</th>\n",
       "      <td>32</td>\n",
       "      <td>blue-collar</td>\n",
       "      <td>married</td>\n",
       "      <td>primary</td>\n",
       "      <td>0</td>\n",
       "      <td>1156</td>\n",
       "      <td>1</td>\n",
       "      <td>0</td>\n",
       "      <td>cellular</td>\n",
       "      <td>26</td>\n",
       "      <td>may</td>\n",
       "      <td>5</td>\n",
       "      <td>-1</td>\n",
       "      <td>0</td>\n",
       "      <td>failure</td>\n",
       "      <td>0</td>\n",
       "      <td>185.0</td>\n",
       "      <td>Mid-Age</td>\n",
       "      <td>below_average</td>\n",
       "    </tr>\n",
       "    <tr>\n",
       "      <th>2</th>\n",
       "      <td>29</td>\n",
       "      <td>management</td>\n",
       "      <td>single</td>\n",
       "      <td>tertiary</td>\n",
       "      <td>0</td>\n",
       "      <td>637</td>\n",
       "      <td>1</td>\n",
       "      <td>0</td>\n",
       "      <td>cellular</td>\n",
       "      <td>3</td>\n",
       "      <td>jun</td>\n",
       "      <td>1</td>\n",
       "      <td>119</td>\n",
       "      <td>1</td>\n",
       "      <td>failure</td>\n",
       "      <td>1</td>\n",
       "      <td>340.0</td>\n",
       "      <td>Young</td>\n",
       "      <td>below_average</td>\n",
       "    </tr>\n",
       "    <tr>\n",
       "      <th>3</th>\n",
       "      <td>25</td>\n",
       "      <td>student</td>\n",
       "      <td>single</td>\n",
       "      <td>primary</td>\n",
       "      <td>0</td>\n",
       "      <td>373</td>\n",
       "      <td>1</td>\n",
       "      <td>0</td>\n",
       "      <td>cellular</td>\n",
       "      <td>11</td>\n",
       "      <td>may</td>\n",
       "      <td>2</td>\n",
       "      <td>-1</td>\n",
       "      <td>0</td>\n",
       "      <td>failure</td>\n",
       "      <td>1</td>\n",
       "      <td>819.0</td>\n",
       "      <td>Young</td>\n",
       "      <td>above_average</td>\n",
       "    </tr>\n",
       "    <tr>\n",
       "      <th>4</th>\n",
       "      <td>30</td>\n",
       "      <td>management</td>\n",
       "      <td>married</td>\n",
       "      <td>tertiary</td>\n",
       "      <td>0</td>\n",
       "      <td>2694</td>\n",
       "      <td>0</td>\n",
       "      <td>0</td>\n",
       "      <td>cellular</td>\n",
       "      <td>3</td>\n",
       "      <td>jun</td>\n",
       "      <td>1</td>\n",
       "      <td>-1</td>\n",
       "      <td>0</td>\n",
       "      <td>failure</td>\n",
       "      <td>0</td>\n",
       "      <td>192.0</td>\n",
       "      <td>Young</td>\n",
       "      <td>below_average</td>\n",
       "    </tr>\n",
       "  </tbody>\n",
       "</table>\n",
       "</div>"
      ],
      "text/plain": [
       "   Age          Job  Marital Education  Default  Balance  HHInsurance  \\\n",
       "0   32   management   single  tertiary        0     1218            1   \n",
       "1   32  blue-collar  married   primary        0     1156            1   \n",
       "2   29   management   single  tertiary        0      637            1   \n",
       "3   25      student   single   primary        0      373            1   \n",
       "4   30   management  married  tertiary        0     2694            0   \n",
       "\n",
       "   CarLoan Communication  LastContactDay LastContactMonth  NoOfContacts  \\\n",
       "0        0     telephone              28              jan             2   \n",
       "1        0      cellular              26              may             5   \n",
       "2        0      cellular               3              jun             1   \n",
       "3        0      cellular              11              may             2   \n",
       "4        0      cellular               3              jun             1   \n",
       "\n",
       "   DaysPassed  PrevAttempts  Outcome  CarInsurance  Duration age_group  \\\n",
       "0          -1             0  failure             0      70.0   Mid-Age   \n",
       "1          -1             0  failure             0     185.0   Mid-Age   \n",
       "2         119             1  failure             1     340.0     Young   \n",
       "3          -1             0  failure             1     819.0     Young   \n",
       "4          -1             0  failure             0     192.0     Young   \n",
       "\n",
       "  duration_status  \n",
       "0   below_average  \n",
       "1   below_average  \n",
       "2   below_average  \n",
       "3   above_average  \n",
       "4   below_average  "
      ]
     },
     "execution_count": 81,
     "metadata": {},
     "output_type": "execute_result"
    }
   ],
   "source": [
    "df1.head()"
   ]
  },
  {
   "cell_type": "markdown",
   "metadata": {
    "ExecuteTime": {
     "end_time": "2020-11-09T07:04:33.672107Z",
     "start_time": "2020-11-09T07:04:33.667118Z"
    }
   },
   "source": [
    "### BALANCE"
   ]
  },
  {
   "cell_type": "code",
   "execution_count": 82,
   "metadata": {
    "ExecuteTime": {
     "end_time": "2020-11-09T08:55:20.201396Z",
     "start_time": "2020-11-09T08:55:20.186435Z"
    }
   },
   "outputs": [
    {
     "data": {
      "text/plain": [
       "count    3226.000000\n",
       "mean     1166.258834\n",
       "std      1305.887384\n",
       "min         1.000000\n",
       "25%       248.000000\n",
       "50%       667.000000\n",
       "75%      1610.000000\n",
       "max      6290.000000\n",
       "Name: Balance, dtype: float64"
      ]
     },
     "execution_count": 82,
     "metadata": {},
     "output_type": "execute_result"
    }
   ],
   "source": [
    "df1['Balance'].describe()"
   ]
  },
  {
   "cell_type": "code",
   "execution_count": 83,
   "metadata": {
    "ExecuteTime": {
     "end_time": "2020-11-09T08:55:20.222348Z",
     "start_time": "2020-11-09T08:55:20.204386Z"
    }
   },
   "outputs": [
    {
     "data": {
      "text/plain": [
       "[(-5.289, 1573.25], (1573.25, 3145.5], (3145.5, 4717.75], (4717.75, 6290.0]]\n",
       "Categories (4, interval[float64]): [(-5.289, 1573.25] < (1573.25, 3145.5] < (3145.5, 4717.75] < (4717.75, 6290.0]]"
      ]
     },
     "execution_count": 83,
     "metadata": {},
     "output_type": "execute_result"
    }
   ],
   "source": [
    "pd.cut(df1['Balance'],4).unique()"
   ]
  },
  {
   "cell_type": "code",
   "execution_count": 84,
   "metadata": {
    "ExecuteTime": {
     "end_time": "2020-11-09T08:55:20.240300Z",
     "start_time": "2020-11-09T08:55:20.225341Z"
    }
   },
   "outputs": [],
   "source": [
    "df1.loc[df1['Balance'] <= 1573.25, 'Balance'] = 0\n",
    "df1.loc[(df1['Balance'] > 1573.25) & (df1['Balance'] <= 3145.5), 'Balance'] = 1\n",
    "df1.loc[(df1['Balance'] > 3145.5) & (df1['Balance'] <= 4717.75), 'Balance'] = 2\n",
    "df1.loc[df1['Balance'] > 4717.75 , 'Balance'] = 3"
   ]
  },
  {
   "cell_type": "code",
   "execution_count": 85,
   "metadata": {
    "ExecuteTime": {
     "end_time": "2020-11-09T08:55:20.462705Z",
     "start_time": "2020-11-09T08:55:20.242295Z"
    }
   },
   "outputs": [
    {
     "data": {
      "text/plain": [
       "<matplotlib.legend.Legend at 0x255957dc4c8>"
      ]
     },
     "execution_count": 85,
     "metadata": {},
     "output_type": "execute_result"
    },
    {
     "data": {
      "image/png": "[encoded data removed]",
      "text/plain": [
       "<Figure size 720x216 with 1 Axes>"
      ]
     },
     "metadata": {
      "needs_background": "light"
     },
     "output_type": "display_data"
    }
   ],
   "source": [
    "fig, ax = plt.subplots(figsize=(10,3))\n",
    "g = sns.countplot(data=df1,x='Balance',hue='CarInsurance',palette= 'rocket',saturation= 1)\n",
    "g.legend(loc='center right', bbox_to_anchor=(1.1, 0.5), ncol=1)"
   ]
  },
  {
   "cell_type": "markdown",
   "metadata": {},
   "source": [
    "### DURATION STATUS"
   ]
  },
  {
   "cell_type": "code",
   "execution_count": 86,
   "metadata": {
    "ExecuteTime": {
     "end_time": "2020-11-09T08:55:20.472679Z",
     "start_time": "2020-11-09T08:55:20.465698Z"
    }
   },
   "outputs": [],
   "source": [
    "df1['duration_status'] = df1['duration_status'].map({'below_average' : 0 , 'above_average' : 1})"
   ]
  },
  {
   "cell_type": "code",
   "execution_count": 87,
   "metadata": {
    "ExecuteTime": {
     "end_time": "2020-11-09T08:55:20.497612Z",
     "start_time": "2020-11-09T08:55:20.475670Z"
    }
   },
   "outputs": [
    {
     "data": {
      "text/html": [
       "<div>\n",
       "<style scoped>\n",
       "    .dataframe tbody tr th:only-of-type {\n",
       "        vertical-align: middle;\n",
       "    }\n",
       "\n",
       "    .dataframe tbody tr th {\n",
       "        vertical-align: top;\n",
       "    }\n",
       "\n",
       "    .dataframe thead th {\n",
       "        text-align: right;\n",
       "    }\n",
       "</style>\n",
       "<table border=\"1\" class=\"dataframe\">\n",
       "  <thead>\n",
       "    <tr style=\"text-align: right;\">\n",
       "      <th></th>\n",
       "      <th>Age</th>\n",
       "      <th>Job</th>\n",
       "      <th>Marital</th>\n",
       "      <th>Education</th>\n",
       "      <th>Default</th>\n",
       "      <th>Balance</th>\n",
       "      <th>HHInsurance</th>\n",
       "      <th>CarLoan</th>\n",
       "      <th>Communication</th>\n",
       "      <th>LastContactDay</th>\n",
       "      <th>LastContactMonth</th>\n",
       "      <th>NoOfContacts</th>\n",
       "      <th>DaysPassed</th>\n",
       "      <th>PrevAttempts</th>\n",
       "      <th>Outcome</th>\n",
       "      <th>CarInsurance</th>\n",
       "      <th>Duration</th>\n",
       "      <th>age_group</th>\n",
       "      <th>duration_status</th>\n",
       "    </tr>\n",
       "  </thead>\n",
       "  <tbody>\n",
       "    <tr>\n",
       "      <th>0</th>\n",
       "      <td>32</td>\n",
       "      <td>management</td>\n",
       "      <td>single</td>\n",
       "      <td>tertiary</td>\n",
       "      <td>0</td>\n",
       "      <td>0</td>\n",
       "      <td>1</td>\n",
       "      <td>0</td>\n",
       "      <td>telephone</td>\n",
       "      <td>28</td>\n",
       "      <td>jan</td>\n",
       "      <td>2</td>\n",
       "      <td>-1</td>\n",
       "      <td>0</td>\n",
       "      <td>failure</td>\n",
       "      <td>0</td>\n",
       "      <td>70.0</td>\n",
       "      <td>Mid-Age</td>\n",
       "      <td>0</td>\n",
       "    </tr>\n",
       "    <tr>\n",
       "      <th>1</th>\n",
       "      <td>32</td>\n",
       "      <td>blue-collar</td>\n",
       "      <td>married</td>\n",
       "      <td>primary</td>\n",
       "      <td>0</td>\n",
       "      <td>0</td>\n",
       "      <td>1</td>\n",
       "      <td>0</td>\n",
       "      <td>cellular</td>\n",
       "      <td>26</td>\n",
       "      <td>may</td>\n",
       "      <td>5</td>\n",
       "      <td>-1</td>\n",
       "      <td>0</td>\n",
       "      <td>failure</td>\n",
       "      <td>0</td>\n",
       "      <td>185.0</td>\n",
       "      <td>Mid-Age</td>\n",
       "      <td>0</td>\n",
       "    </tr>\n",
       "    <tr>\n",
       "      <th>2</th>\n",
       "      <td>29</td>\n",
       "      <td>management</td>\n",
       "      <td>single</td>\n",
       "      <td>tertiary</td>\n",
       "      <td>0</td>\n",
       "      <td>0</td>\n",
       "      <td>1</td>\n",
       "      <td>0</td>\n",
       "      <td>cellular</td>\n",
       "      <td>3</td>\n",
       "      <td>jun</td>\n",
       "      <td>1</td>\n",
       "      <td>119</td>\n",
       "      <td>1</td>\n",
       "      <td>failure</td>\n",
       "      <td>1</td>\n",
       "      <td>340.0</td>\n",
       "      <td>Young</td>\n",
       "      <td>0</td>\n",
       "    </tr>\n",
       "    <tr>\n",
       "      <th>3</th>\n",
       "      <td>25</td>\n",
       "      <td>student</td>\n",
       "      <td>single</td>\n",
       "      <td>primary</td>\n",
       "      <td>0</td>\n",
       "      <td>0</td>\n",
       "      <td>1</td>\n",
       "      <td>0</td>\n",
       "      <td>cellular</td>\n",
       "      <td>11</td>\n",
       "      <td>may</td>\n",
       "      <td>2</td>\n",
       "      <td>-1</td>\n",
       "      <td>0</td>\n",
       "      <td>failure</td>\n",
       "      <td>1</td>\n",
       "      <td>819.0</td>\n",
       "      <td>Young</td>\n",
       "      <td>1</td>\n",
       "    </tr>\n",
       "    <tr>\n",
       "      <th>4</th>\n",
       "      <td>30</td>\n",
       "      <td>management</td>\n",
       "      <td>married</td>\n",
       "      <td>tertiary</td>\n",
       "      <td>0</td>\n",
       "      <td>1</td>\n",
       "      <td>0</td>\n",
       "      <td>0</td>\n",
       "      <td>cellular</td>\n",
       "      <td>3</td>\n",
       "      <td>jun</td>\n",
       "      <td>1</td>\n",
       "      <td>-1</td>\n",
       "      <td>0</td>\n",
       "      <td>failure</td>\n",
       "      <td>0</td>\n",
       "      <td>192.0</td>\n",
       "      <td>Young</td>\n",
       "      <td>0</td>\n",
       "    </tr>\n",
       "  </tbody>\n",
       "</table>\n",
       "</div>"
      ],
      "text/plain": [
       "   Age          Job  Marital Education  Default  Balance  HHInsurance  \\\n",
       "0   32   management   single  tertiary        0        0            1   \n",
       "1   32  blue-collar  married   primary        0        0            1   \n",
       "2   29   management   single  tertiary        0        0            1   \n",
       "3   25      student   single   primary        0        0            1   \n",
       "4   30   management  married  tertiary        0        1            0   \n",
       "\n",
       "   CarLoan Communication  LastContactDay LastContactMonth  NoOfContacts  \\\n",
       "0        0     telephone              28              jan             2   \n",
       "1        0      cellular              26              may             5   \n",
       "2        0      cellular               3              jun             1   \n",
       "3        0      cellular              11              may             2   \n",
       "4        0      cellular               3              jun             1   \n",
       "\n",
       "   DaysPassed  PrevAttempts  Outcome  CarInsurance  Duration age_group  \\\n",
       "0          -1             0  failure             0      70.0   Mid-Age   \n",
       "1          -1             0  failure             0     185.0   Mid-Age   \n",
       "2         119             1  failure             1     340.0     Young   \n",
       "3          -1             0  failure             1     819.0     Young   \n",
       "4          -1             0  failure             0     192.0     Young   \n",
       "\n",
       "   duration_status  \n",
       "0                0  \n",
       "1                0  \n",
       "2                0  \n",
       "3                1  \n",
       "4                0  "
      ]
     },
     "execution_count": 87,
     "metadata": {},
     "output_type": "execute_result"
    }
   ],
   "source": [
    "df1.head()"
   ]
  },
  {
   "cell_type": "markdown",
   "metadata": {
    "ExecuteTime": {
     "end_time": "2020-11-09T07:13:55.038784Z",
     "start_time": "2020-11-09T07:13:55.034803Z"
    }
   },
   "source": [
    "### AGE GROUP"
   ]
  },
  {
   "cell_type": "code",
   "execution_count": 88,
   "metadata": {
    "ExecuteTime": {
     "end_time": "2020-11-09T08:55:20.507585Z",
     "start_time": "2020-11-09T08:55:20.500604Z"
    },
    "scrolled": true
   },
   "outputs": [
    {
     "data": {
      "text/plain": [
       "['Mid-Age', 'Young', 'Adult', 'Elder', 'Old']\n",
       "Categories (5, object): ['Young' < 'Mid-Age' < 'Adult' < 'Old' < 'Elder']"
      ]
     },
     "execution_count": 88,
     "metadata": {},
     "output_type": "execute_result"
    }
   ],
   "source": [
    "df1['age_group'].unique()"
   ]
  },
  {
   "cell_type": "code",
   "execution_count": 89,
   "metadata": {
    "ExecuteTime": {
     "end_time": "2020-11-09T08:55:20.516562Z",
     "start_time": "2020-11-09T08:55:20.510578Z"
    }
   },
   "outputs": [],
   "source": [
    "df1['age_group'] = df1['age_group'].map({'Young' : 0 , 'Mid-Age' : 1, 'Adult' : 2, 'Old': 3, 'Elder' : 4})"
   ]
  },
  {
   "cell_type": "code",
   "execution_count": 90,
   "metadata": {
    "ExecuteTime": {
     "end_time": "2020-11-09T08:55:20.569421Z",
     "start_time": "2020-11-09T08:55:20.520551Z"
    },
    "scrolled": false
   },
   "outputs": [
    {
     "data": {
      "text/html": [
       "<div>\n",
       "<style scoped>\n",
       "    .dataframe tbody tr th:only-of-type {\n",
       "        vertical-align: middle;\n",
       "    }\n",
       "\n",
       "    .dataframe tbody tr th {\n",
       "        vertical-align: top;\n",
       "    }\n",
       "\n",
       "    .dataframe thead th {\n",
       "        text-align: right;\n",
       "    }\n",
       "</style>\n",
       "<table border=\"1\" class=\"dataframe\">\n",
       "  <thead>\n",
       "    <tr style=\"text-align: right;\">\n",
       "      <th></th>\n",
       "      <th>Age</th>\n",
       "      <th>Job</th>\n",
       "      <th>Marital</th>\n",
       "      <th>Education</th>\n",
       "      <th>Default</th>\n",
       "      <th>Balance</th>\n",
       "      <th>HHInsurance</th>\n",
       "      <th>CarLoan</th>\n",
       "      <th>Communication</th>\n",
       "      <th>LastContactDay</th>\n",
       "      <th>LastContactMonth</th>\n",
       "      <th>NoOfContacts</th>\n",
       "      <th>DaysPassed</th>\n",
       "      <th>PrevAttempts</th>\n",
       "      <th>Outcome</th>\n",
       "      <th>CarInsurance</th>\n",
       "      <th>Duration</th>\n",
       "      <th>age_group</th>\n",
       "      <th>duration_status</th>\n",
       "    </tr>\n",
       "  </thead>\n",
       "  <tbody>\n",
       "    <tr>\n",
       "      <th>0</th>\n",
       "      <td>32</td>\n",
       "      <td>management</td>\n",
       "      <td>single</td>\n",
       "      <td>tertiary</td>\n",
       "      <td>0</td>\n",
       "      <td>0</td>\n",
       "      <td>1</td>\n",
       "      <td>0</td>\n",
       "      <td>telephone</td>\n",
       "      <td>28</td>\n",
       "      <td>jan</td>\n",
       "      <td>2</td>\n",
       "      <td>-1</td>\n",
       "      <td>0</td>\n",
       "      <td>failure</td>\n",
       "      <td>0</td>\n",
       "      <td>70.0</td>\n",
       "      <td>1</td>\n",
       "      <td>0</td>\n",
       "    </tr>\n",
       "    <tr>\n",
       "      <th>1</th>\n",
       "      <td>32</td>\n",
       "      <td>blue-collar</td>\n",
       "      <td>married</td>\n",
       "      <td>primary</td>\n",
       "      <td>0</td>\n",
       "      <td>0</td>\n",
       "      <td>1</td>\n",
       "      <td>0</td>\n",
       "      <td>cellular</td>\n",
       "      <td>26</td>\n",
       "      <td>may</td>\n",
       "      <td>5</td>\n",
       "      <td>-1</td>\n",
       "      <td>0</td>\n",
       "      <td>failure</td>\n",
       "      <td>0</td>\n",
       "      <td>185.0</td>\n",
       "      <td>1</td>\n",
       "      <td>0</td>\n",
       "    </tr>\n",
       "    <tr>\n",
       "      <th>2</th>\n",
       "      <td>29</td>\n",
       "      <td>management</td>\n",
       "      <td>single</td>\n",
       "      <td>tertiary</td>\n",
       "      <td>0</td>\n",
       "      <td>0</td>\n",
       "      <td>1</td>\n",
       "      <td>0</td>\n",
       "      <td>cellular</td>\n",
       "      <td>3</td>\n",
       "      <td>jun</td>\n",
       "      <td>1</td>\n",
       "      <td>119</td>\n",
       "      <td>1</td>\n",
       "      <td>failure</td>\n",
       "      <td>1</td>\n",
       "      <td>340.0</td>\n",
       "      <td>0</td>\n",
       "      <td>0</td>\n",
       "    </tr>\n",
       "    <tr>\n",
       "      <th>3</th>\n",
       "      <td>25</td>\n",
       "      <td>student</td>\n",
       "      <td>single</td>\n",
       "      <td>primary</td>\n",
       "      <td>0</td>\n",
       "      <td>0</td>\n",
       "      <td>1</td>\n",
       "      <td>0</td>\n",
       "      <td>cellular</td>\n",
       "      <td>11</td>\n",
       "      <td>may</td>\n",
       "      <td>2</td>\n",
       "      <td>-1</td>\n",
       "      <td>0</td>\n",
       "      <td>failure</td>\n",
       "      <td>1</td>\n",
       "      <td>819.0</td>\n",
       "      <td>0</td>\n",
       "      <td>1</td>\n",
       "    </tr>\n",
       "    <tr>\n",
       "      <th>4</th>\n",
       "      <td>30</td>\n",
       "      <td>management</td>\n",
       "      <td>married</td>\n",
       "      <td>tertiary</td>\n",
       "      <td>0</td>\n",
       "      <td>1</td>\n",
       "      <td>0</td>\n",
       "      <td>0</td>\n",
       "      <td>cellular</td>\n",
       "      <td>3</td>\n",
       "      <td>jun</td>\n",
       "      <td>1</td>\n",
       "      <td>-1</td>\n",
       "      <td>0</td>\n",
       "      <td>failure</td>\n",
       "      <td>0</td>\n",
       "      <td>192.0</td>\n",
       "      <td>0</td>\n",
       "      <td>0</td>\n",
       "    </tr>\n",
       "    <tr>\n",
       "      <th>5</th>\n",
       "      <td>32</td>\n",
       "      <td>technician</td>\n",
       "      <td>single</td>\n",
       "      <td>tertiary</td>\n",
       "      <td>0</td>\n",
       "      <td>1</td>\n",
       "      <td>0</td>\n",
       "      <td>0</td>\n",
       "      <td>cellular</td>\n",
       "      <td>22</td>\n",
       "      <td>may</td>\n",
       "      <td>1</td>\n",
       "      <td>109</td>\n",
       "      <td>1</td>\n",
       "      <td>failure</td>\n",
       "      <td>1</td>\n",
       "      <td>796.0</td>\n",
       "      <td>1</td>\n",
       "      <td>1</td>\n",
       "    </tr>\n",
       "    <tr>\n",
       "      <th>6</th>\n",
       "      <td>37</td>\n",
       "      <td>admin.</td>\n",
       "      <td>single</td>\n",
       "      <td>tertiary</td>\n",
       "      <td>0</td>\n",
       "      <td>0</td>\n",
       "      <td>1</td>\n",
       "      <td>0</td>\n",
       "      <td>cellular</td>\n",
       "      <td>17</td>\n",
       "      <td>mar</td>\n",
       "      <td>1</td>\n",
       "      <td>-1</td>\n",
       "      <td>0</td>\n",
       "      <td>failure</td>\n",
       "      <td>1</td>\n",
       "      <td>195.0</td>\n",
       "      <td>1</td>\n",
       "      <td>0</td>\n",
       "    </tr>\n",
       "    <tr>\n",
       "      <th>7</th>\n",
       "      <td>35</td>\n",
       "      <td>management</td>\n",
       "      <td>divorced</td>\n",
       "      <td>tertiary</td>\n",
       "      <td>0</td>\n",
       "      <td>0</td>\n",
       "      <td>1</td>\n",
       "      <td>0</td>\n",
       "      <td>cellular</td>\n",
       "      <td>12</td>\n",
       "      <td>may</td>\n",
       "      <td>4</td>\n",
       "      <td>-1</td>\n",
       "      <td>0</td>\n",
       "      <td>failure</td>\n",
       "      <td>0</td>\n",
       "      <td>66.0</td>\n",
       "      <td>1</td>\n",
       "      <td>0</td>\n",
       "    </tr>\n",
       "    <tr>\n",
       "      <th>8</th>\n",
       "      <td>30</td>\n",
       "      <td>admin.</td>\n",
       "      <td>married</td>\n",
       "      <td>secondary</td>\n",
       "      <td>0</td>\n",
       "      <td>0</td>\n",
       "      <td>1</td>\n",
       "      <td>0</td>\n",
       "      <td>cellular</td>\n",
       "      <td>18</td>\n",
       "      <td>nov</td>\n",
       "      <td>1</td>\n",
       "      <td>-1</td>\n",
       "      <td>0</td>\n",
       "      <td>failure</td>\n",
       "      <td>0</td>\n",
       "      <td>106.0</td>\n",
       "      <td>0</td>\n",
       "      <td>0</td>\n",
       "    </tr>\n",
       "    <tr>\n",
       "      <th>9</th>\n",
       "      <td>30</td>\n",
       "      <td>blue-collar</td>\n",
       "      <td>married</td>\n",
       "      <td>secondary</td>\n",
       "      <td>0</td>\n",
       "      <td>0</td>\n",
       "      <td>1</td>\n",
       "      <td>1</td>\n",
       "      <td>cellular</td>\n",
       "      <td>12</td>\n",
       "      <td>may</td>\n",
       "      <td>2</td>\n",
       "      <td>-1</td>\n",
       "      <td>0</td>\n",
       "      <td>failure</td>\n",
       "      <td>0</td>\n",
       "      <td>326.0</td>\n",
       "      <td>0</td>\n",
       "      <td>0</td>\n",
       "    </tr>\n",
       "    <tr>\n",
       "      <th>12</th>\n",
       "      <td>44</td>\n",
       "      <td>technician</td>\n",
       "      <td>married</td>\n",
       "      <td>secondary</td>\n",
       "      <td>0</td>\n",
       "      <td>1</td>\n",
       "      <td>1</td>\n",
       "      <td>0</td>\n",
       "      <td>cellular</td>\n",
       "      <td>27</td>\n",
       "      <td>jan</td>\n",
       "      <td>1</td>\n",
       "      <td>-1</td>\n",
       "      <td>0</td>\n",
       "      <td>failure</td>\n",
       "      <td>1</td>\n",
       "      <td>701.0</td>\n",
       "      <td>2</td>\n",
       "      <td>1</td>\n",
       "    </tr>\n",
       "    <tr>\n",
       "      <th>13</th>\n",
       "      <td>38</td>\n",
       "      <td>self-employed</td>\n",
       "      <td>divorced</td>\n",
       "      <td>secondary</td>\n",
       "      <td>0</td>\n",
       "      <td>1</td>\n",
       "      <td>1</td>\n",
       "      <td>0</td>\n",
       "      <td>cellular</td>\n",
       "      <td>19</td>\n",
       "      <td>jun</td>\n",
       "      <td>2</td>\n",
       "      <td>-1</td>\n",
       "      <td>0</td>\n",
       "      <td>failure</td>\n",
       "      <td>0</td>\n",
       "      <td>163.0</td>\n",
       "      <td>1</td>\n",
       "      <td>0</td>\n",
       "    </tr>\n",
       "    <tr>\n",
       "      <th>14</th>\n",
       "      <td>25</td>\n",
       "      <td>services</td>\n",
       "      <td>single</td>\n",
       "      <td>secondary</td>\n",
       "      <td>0</td>\n",
       "      <td>1</td>\n",
       "      <td>0</td>\n",
       "      <td>0</td>\n",
       "      <td>cellular</td>\n",
       "      <td>29</td>\n",
       "      <td>jul</td>\n",
       "      <td>8</td>\n",
       "      <td>97</td>\n",
       "      <td>12</td>\n",
       "      <td>other</td>\n",
       "      <td>1</td>\n",
       "      <td>276.0</td>\n",
       "      <td>0</td>\n",
       "      <td>0</td>\n",
       "    </tr>\n",
       "    <tr>\n",
       "      <th>15</th>\n",
       "      <td>61</td>\n",
       "      <td>management</td>\n",
       "      <td>single</td>\n",
       "      <td>tertiary</td>\n",
       "      <td>0</td>\n",
       "      <td>0</td>\n",
       "      <td>0</td>\n",
       "      <td>0</td>\n",
       "      <td>cellular</td>\n",
       "      <td>12</td>\n",
       "      <td>aug</td>\n",
       "      <td>1</td>\n",
       "      <td>114</td>\n",
       "      <td>3</td>\n",
       "      <td>failure</td>\n",
       "      <td>1</td>\n",
       "      <td>131.0</td>\n",
       "      <td>4</td>\n",
       "      <td>0</td>\n",
       "    </tr>\n",
       "    <tr>\n",
       "      <th>16</th>\n",
       "      <td>34</td>\n",
       "      <td>admin.</td>\n",
       "      <td>single</td>\n",
       "      <td>secondary</td>\n",
       "      <td>0</td>\n",
       "      <td>0</td>\n",
       "      <td>1</td>\n",
       "      <td>0</td>\n",
       "      <td>telephone</td>\n",
       "      <td>6</td>\n",
       "      <td>may</td>\n",
       "      <td>3</td>\n",
       "      <td>362</td>\n",
       "      <td>4</td>\n",
       "      <td>other</td>\n",
       "      <td>0</td>\n",
       "      <td>92.0</td>\n",
       "      <td>1</td>\n",
       "      <td>0</td>\n",
       "    </tr>\n",
       "    <tr>\n",
       "      <th>18</th>\n",
       "      <td>49</td>\n",
       "      <td>blue-collar</td>\n",
       "      <td>married</td>\n",
       "      <td>secondary</td>\n",
       "      <td>0</td>\n",
       "      <td>1</td>\n",
       "      <td>1</td>\n",
       "      <td>0</td>\n",
       "      <td>cellular</td>\n",
       "      <td>6</td>\n",
       "      <td>may</td>\n",
       "      <td>1</td>\n",
       "      <td>169</td>\n",
       "      <td>2</td>\n",
       "      <td>failure</td>\n",
       "      <td>1</td>\n",
       "      <td>451.0</td>\n",
       "      <td>2</td>\n",
       "      <td>1</td>\n",
       "    </tr>\n",
       "    <tr>\n",
       "      <th>19</th>\n",
       "      <td>50</td>\n",
       "      <td>blue-collar</td>\n",
       "      <td>married</td>\n",
       "      <td>primary</td>\n",
       "      <td>0</td>\n",
       "      <td>0</td>\n",
       "      <td>0</td>\n",
       "      <td>0</td>\n",
       "      <td>telephone</td>\n",
       "      <td>5</td>\n",
       "      <td>apr</td>\n",
       "      <td>1</td>\n",
       "      <td>-1</td>\n",
       "      <td>0</td>\n",
       "      <td>failure</td>\n",
       "      <td>1</td>\n",
       "      <td>456.0</td>\n",
       "      <td>2</td>\n",
       "      <td>1</td>\n",
       "    </tr>\n",
       "    <tr>\n",
       "      <th>20</th>\n",
       "      <td>57</td>\n",
       "      <td>blue-collar</td>\n",
       "      <td>married</td>\n",
       "      <td>secondary</td>\n",
       "      <td>0</td>\n",
       "      <td>0</td>\n",
       "      <td>1</td>\n",
       "      <td>1</td>\n",
       "      <td>cellular</td>\n",
       "      <td>18</td>\n",
       "      <td>jun</td>\n",
       "      <td>8</td>\n",
       "      <td>-1</td>\n",
       "      <td>0</td>\n",
       "      <td>failure</td>\n",
       "      <td>0</td>\n",
       "      <td>97.0</td>\n",
       "      <td>3</td>\n",
       "      <td>0</td>\n",
       "    </tr>\n",
       "    <tr>\n",
       "      <th>23</th>\n",
       "      <td>63</td>\n",
       "      <td>retired</td>\n",
       "      <td>married</td>\n",
       "      <td>secondary</td>\n",
       "      <td>0</td>\n",
       "      <td>1</td>\n",
       "      <td>0</td>\n",
       "      <td>0</td>\n",
       "      <td>cellular</td>\n",
       "      <td>1</td>\n",
       "      <td>jul</td>\n",
       "      <td>1</td>\n",
       "      <td>119</td>\n",
       "      <td>2</td>\n",
       "      <td>success</td>\n",
       "      <td>1</td>\n",
       "      <td>304.0</td>\n",
       "      <td>4</td>\n",
       "      <td>0</td>\n",
       "    </tr>\n",
       "    <tr>\n",
       "      <th>24</th>\n",
       "      <td>60</td>\n",
       "      <td>technician</td>\n",
       "      <td>married</td>\n",
       "      <td>secondary</td>\n",
       "      <td>0</td>\n",
       "      <td>0</td>\n",
       "      <td>1</td>\n",
       "      <td>0</td>\n",
       "      <td>cellular</td>\n",
       "      <td>9</td>\n",
       "      <td>feb</td>\n",
       "      <td>1</td>\n",
       "      <td>558</td>\n",
       "      <td>7</td>\n",
       "      <td>other</td>\n",
       "      <td>1</td>\n",
       "      <td>127.0</td>\n",
       "      <td>3</td>\n",
       "      <td>0</td>\n",
       "    </tr>\n",
       "  </tbody>\n",
       "</table>\n",
       "</div>"
      ],
      "text/plain": [
       "    Age            Job   Marital  Education  Default  Balance  HHInsurance  \\\n",
       "0    32     management    single   tertiary        0        0            1   \n",
       "1    32    blue-collar   married    primary        0        0            1   \n",
       "2    29     management    single   tertiary        0        0            1   \n",
       "3    25        student    single    primary        0        0            1   \n",
       "4    30     management   married   tertiary        0        1            0   \n",
       "5    32     technician    single   tertiary        0        1            0   \n",
       "6    37         admin.    single   tertiary        0        0            1   \n",
       "7    35     management  divorced   tertiary        0        0            1   \n",
       "8    30         admin.   married  secondary        0        0            1   \n",
       "9    30    blue-collar   married  secondary        0        0            1   \n",
       "12   44     technician   married  secondary        0        1            1   \n",
       "13   38  self-employed  divorced  secondary        0        1            1   \n",
       "14   25       services    single  secondary        0        1            0   \n",
       "15   61     management    single   tertiary        0        0            0   \n",
       "16   34         admin.    single  secondary        0        0            1   \n",
       "18   49    blue-collar   married  secondary        0        1            1   \n",
       "19   50    blue-collar   married    primary        0        0            0   \n",
       "20   57    blue-collar   married  secondary        0        0            1   \n",
       "23   63        retired   married  secondary        0        1            0   \n",
       "24   60     technician   married  secondary        0        0            1   \n",
       "\n",
       "    CarLoan Communication  LastContactDay LastContactMonth  NoOfContacts  \\\n",
       "0         0     telephone              28              jan             2   \n",
       "1         0      cellular              26              may             5   \n",
       "2         0      cellular               3              jun             1   \n",
       "3         0      cellular              11              may             2   \n",
       "4         0      cellular               3              jun             1   \n",
       "5         0      cellular              22              may             1   \n",
       "6         0      cellular              17              mar             1   \n",
       "7         0      cellular              12              may             4   \n",
       "8         0      cellular              18              nov             1   \n",
       "9         1      cellular              12              may             2   \n",
       "12        0      cellular              27              jan             1   \n",
       "13        0      cellular              19              jun             2   \n",
       "14        0      cellular              29              jul             8   \n",
       "15        0      cellular              12              aug             1   \n",
       "16        0     telephone               6              may             3   \n",
       "18        0      cellular               6              may             1   \n",
       "19        0     telephone               5              apr             1   \n",
       "20        1      cellular              18              jun             8   \n",
       "23        0      cellular               1              jul             1   \n",
       "24        0      cellular               9              feb             1   \n",
       "\n",
       "    DaysPassed  PrevAttempts  Outcome  CarInsurance  Duration age_group  \\\n",
       "0           -1             0  failure             0      70.0         1   \n",
       "1           -1             0  failure             0     185.0         1   \n",
       "2          119             1  failure             1     340.0         0   \n",
       "3           -1             0  failure             1     819.0         0   \n",
       "4           -1             0  failure             0     192.0         0   \n",
       "5          109             1  failure             1     796.0         1   \n",
       "6           -1             0  failure             1     195.0         1   \n",
       "7           -1             0  failure             0      66.0         1   \n",
       "8           -1             0  failure             0     106.0         0   \n",
       "9           -1             0  failure             0     326.0         0   \n",
       "12          -1             0  failure             1     701.0         2   \n",
       "13          -1             0  failure             0     163.0         1   \n",
       "14          97            12    other             1     276.0         0   \n",
       "15         114             3  failure             1     131.0         4   \n",
       "16         362             4    other             0      92.0         1   \n",
       "18         169             2  failure             1     451.0         2   \n",
       "19          -1             0  failure             1     456.0         2   \n",
       "20          -1             0  failure             0      97.0         3   \n",
       "23         119             2  success             1     304.0         4   \n",
       "24         558             7    other             1     127.0         3   \n",
       "\n",
       "    duration_status  \n",
       "0                 0  \n",
       "1                 0  \n",
       "2                 0  \n",
       "3                 1  \n",
       "4                 0  \n",
       "5                 1  \n",
       "6                 0  \n",
       "7                 0  \n",
       "8                 0  \n",
       "9                 0  \n",
       "12                1  \n",
       "13                0  \n",
       "14                0  \n",
       "15                0  \n",
       "16                0  \n",
       "18                1  \n",
       "19                1  \n",
       "20                0  \n",
       "23                0  \n",
       "24                0  "
      ]
     },
     "execution_count": 90,
     "metadata": {},
     "output_type": "execute_result"
    }
   ],
   "source": [
    "df1.head(20)"
   ]
  },
  {
   "cell_type": "code",
   "execution_count": 91,
   "metadata": {
    "ExecuteTime": {
     "end_time": "2020-11-09T08:55:20.582387Z",
     "start_time": "2020-11-09T08:55:20.572413Z"
    }
   },
   "outputs": [
    {
     "data": {
      "text/plain": [
       "0"
      ]
     },
     "execution_count": 91,
     "metadata": {},
     "output_type": "execute_result"
    }
   ],
   "source": [
    "df1['age_group'].isnull().sum()"
   ]
  },
  {
   "cell_type": "markdown",
   "metadata": {},
   "source": [
    "### EDUCATION"
   ]
  },
  {
   "cell_type": "code",
   "execution_count": 92,
   "metadata": {
    "ExecuteTime": {
     "end_time": "2020-11-09T08:55:20.594354Z",
     "start_time": "2020-11-09T08:55:20.585377Z"
    }
   },
   "outputs": [
    {
     "data": {
      "text/plain": [
       "array(['tertiary', 'primary', 'secondary', 'None'], dtype=object)"
      ]
     },
     "execution_count": 92,
     "metadata": {},
     "output_type": "execute_result"
    }
   ],
   "source": [
    "df1.Education.unique()"
   ]
  },
  {
   "cell_type": "code",
   "execution_count": 93,
   "metadata": {
    "ExecuteTime": {
     "end_time": "2020-11-09T08:55:20.604326Z",
     "start_time": "2020-11-09T08:55:20.597347Z"
    }
   },
   "outputs": [],
   "source": [
    "df1['Education'] = df1['Education'].map({'None' : 0 , 'secondary' : 1, 'primary' : 2, 'tertiary': 3})"
   ]
  },
  {
   "cell_type": "code",
   "execution_count": 94,
   "metadata": {
    "ExecuteTime": {
     "end_time": "2020-11-09T08:55:20.616295Z",
     "start_time": "2020-11-09T08:55:20.608317Z"
    },
    "scrolled": true
   },
   "outputs": [
    {
     "data": {
      "text/plain": [
       "array([3, 2, 1, 0], dtype=int64)"
      ]
     },
     "execution_count": 94,
     "metadata": {},
     "output_type": "execute_result"
    }
   ],
   "source": [
    "df1.Education.unique()"
   ]
  },
  {
   "cell_type": "markdown",
   "metadata": {
    "ExecuteTime": {
     "end_time": "2020-11-09T07:31:07.617996Z",
     "start_time": "2020-11-09T07:31:07.613010Z"
    }
   },
   "source": [
    "### MARITAL"
   ]
  },
  {
   "cell_type": "code",
   "execution_count": 95,
   "metadata": {
    "ExecuteTime": {
     "end_time": "2020-11-09T08:55:20.628265Z",
     "start_time": "2020-11-09T08:55:20.619287Z"
    }
   },
   "outputs": [
    {
     "data": {
      "text/plain": [
       "array(['single', 'married', 'divorced'], dtype=object)"
      ]
     },
     "execution_count": 95,
     "metadata": {},
     "output_type": "execute_result"
    }
   ],
   "source": [
    "df1.Marital.unique()"
   ]
  },
  {
   "cell_type": "code",
   "execution_count": 96,
   "metadata": {
    "ExecuteTime": {
     "end_time": "2020-11-09T08:55:20.639235Z",
     "start_time": "2020-11-09T08:55:20.631257Z"
    }
   },
   "outputs": [],
   "source": [
    "df1['Marital'] = df1['Marital'].map({'single' : 0 , 'married' : 1, 'divorced' : 2})"
   ]
  },
  {
   "cell_type": "markdown",
   "metadata": {},
   "source": [
    "### COMMUNICATION"
   ]
  },
  {
   "cell_type": "code",
   "execution_count": 97,
   "metadata": {
    "ExecuteTime": {
     "end_time": "2020-11-09T08:55:20.651203Z",
     "start_time": "2020-11-09T08:55:20.642226Z"
    }
   },
   "outputs": [
    {
     "data": {
      "text/plain": [
       "array(['telephone', 'cellular'], dtype=object)"
      ]
     },
     "execution_count": 97,
     "metadata": {},
     "output_type": "execute_result"
    }
   ],
   "source": [
    "df1.Communication.unique()"
   ]
  },
  {
   "cell_type": "code",
   "execution_count": 98,
   "metadata": {
    "ExecuteTime": {
     "end_time": "2020-11-09T08:55:20.664166Z",
     "start_time": "2020-11-09T08:55:20.655191Z"
    }
   },
   "outputs": [],
   "source": [
    "df1['Communication'] = df1['Communication'].map({'telephone' : 0 , 'cellular' : 1})"
   ]
  },
  {
   "cell_type": "code",
   "execution_count": 99,
   "metadata": {
    "ExecuteTime": {
     "end_time": "2020-11-09T08:55:20.677133Z",
     "start_time": "2020-11-09T08:55:20.668157Z"
    }
   },
   "outputs": [
    {
     "data": {
      "text/plain": [
       "0       False\n",
       "1       False\n",
       "2       False\n",
       "3       False\n",
       "4       False\n",
       "        ...  \n",
       "3993    False\n",
       "3994    False\n",
       "3996    False\n",
       "3998    False\n",
       "3999    False\n",
       "Name: Communication, Length: 3226, dtype: bool"
      ]
     },
     "execution_count": 99,
     "metadata": {},
     "output_type": "execute_result"
    }
   ],
   "source": [
    "df1['Communication'].isnull()"
   ]
  },
  {
   "cell_type": "markdown",
   "metadata": {
    "ExecuteTime": {
     "end_time": "2020-11-09T07:33:30.809118Z",
     "start_time": "2020-11-09T07:33:30.789171Z"
    }
   },
   "source": [
    "### OUTCOME"
   ]
  },
  {
   "cell_type": "code",
   "execution_count": null,
   "metadata": {},
   "outputs": [],
   "source": []
  },
  {
   "cell_type": "code",
   "execution_count": 100,
   "metadata": {
    "ExecuteTime": {
     "end_time": "2020-11-09T08:55:20.687107Z",
     "start_time": "2020-11-09T08:55:20.680124Z"
    }
   },
   "outputs": [
    {
     "data": {
      "text/plain": [
       "array(['failure', 'other', 'success'], dtype=object)"
      ]
     },
     "execution_count": 100,
     "metadata": {},
     "output_type": "execute_result"
    }
   ],
   "source": [
    "df1.Outcome.unique()"
   ]
  },
  {
   "cell_type": "code",
   "execution_count": 101,
   "metadata": {
    "ExecuteTime": {
     "end_time": "2020-11-09T08:55:20.699073Z",
     "start_time": "2020-11-09T08:55:20.690098Z"
    }
   },
   "outputs": [],
   "source": [
    "df1['Outcome'] = df1['Outcome'].map({'failure' : 0 , 'success' : 1,'other': 2})"
   ]
  },
  {
   "cell_type": "markdown",
   "metadata": {},
   "source": [
    "### Month"
   ]
  },
  {
   "cell_type": "code",
   "execution_count": 113,
   "metadata": {
    "ExecuteTime": {
     "end_time": "2020-11-09T08:56:36.761330Z",
     "start_time": "2020-11-09T08:56:36.753352Z"
    }
   },
   "outputs": [
    {
     "data": {
      "text/plain": [
       "array(['jan', 'may', 'jun', 'mar', 'nov', 'jul', 'aug', 'apr', 'feb',\n",
       "       'oct', 'sep', 'dec'], dtype=object)"
      ]
     },
     "execution_count": 113,
     "metadata": {},
     "output_type": "execute_result"
    }
   ],
   "source": [
    "df1.LastContactMonth.unique()"
   ]
  },
  {
   "cell_type": "code",
   "execution_count": 103,
   "metadata": {
    "ExecuteTime": {
     "end_time": "2020-11-09T08:55:20.732982Z",
     "start_time": "2020-11-09T08:55:20.716029Z"
    }
   },
   "outputs": [],
   "source": [
    "df1['Month'] = df1['LastContactMonth'].map({'jan': 1, 'feb':2, 'mar':3,'apr':4,'may':5,'jun':6,'jul':7,'aug':8,'sep':9,'oct':10,'nov':11,'dec':12})"
   ]
  },
  {
   "cell_type": "code",
   "execution_count": 104,
   "metadata": {
    "ExecuteTime": {
     "end_time": "2020-11-09T08:55:20.748838Z",
     "start_time": "2020-11-09T08:55:20.736974Z"
    }
   },
   "outputs": [
    {
     "data": {
      "text/plain": [
       "0       1\n",
       "1       5\n",
       "2       6\n",
       "3       5\n",
       "4       6\n",
       "       ..\n",
       "3993    7\n",
       "3994    5\n",
       "3996    7\n",
       "3998    1\n",
       "3999    5\n",
       "Name: Month, Length: 3226, dtype: int64"
      ]
     },
     "execution_count": 104,
     "metadata": {},
     "output_type": "execute_result"
    }
   ],
   "source": [
    "df1.Month"
   ]
  },
  {
   "cell_type": "markdown",
   "metadata": {
    "ExecuteTime": {
     "end_time": "2020-11-09T07:17:40.356718Z",
     "start_time": "2020-11-09T07:17:40.351722Z"
    }
   },
   "source": [
    "## ONE HOT ENCODING"
   ]
  },
  {
   "cell_type": "code",
   "execution_count": 105,
   "metadata": {
    "ExecuteTime": {
     "end_time": "2020-11-09T08:55:20.767787Z",
     "start_time": "2020-11-09T08:55:20.751828Z"
    }
   },
   "outputs": [],
   "source": [
    "df1 = pd.get_dummies(data = df1,columns=['Job'])"
   ]
  },
  {
   "cell_type": "code",
   "execution_count": 106,
   "metadata": {
    "ExecuteTime": {
     "end_time": "2020-11-09T08:55:20.799700Z",
     "start_time": "2020-11-09T08:55:20.770778Z"
    }
   },
   "outputs": [
    {
     "data": {
      "text/html": [
       "<div>\n",
       "<style scoped>\n",
       "    .dataframe tbody tr th:only-of-type {\n",
       "        vertical-align: middle;\n",
       "    }\n",
       "\n",
       "    .dataframe tbody tr th {\n",
       "        vertical-align: top;\n",
       "    }\n",
       "\n",
       "    .dataframe thead th {\n",
       "        text-align: right;\n",
       "    }\n",
       "</style>\n",
       "<table border=\"1\" class=\"dataframe\">\n",
       "  <thead>\n",
       "    <tr style=\"text-align: right;\">\n",
       "      <th></th>\n",
       "      <th>Age</th>\n",
       "      <th>Marital</th>\n",
       "      <th>Education</th>\n",
       "      <th>Default</th>\n",
       "      <th>Balance</th>\n",
       "      <th>HHInsurance</th>\n",
       "      <th>CarLoan</th>\n",
       "      <th>Communication</th>\n",
       "      <th>LastContactDay</th>\n",
       "      <th>LastContactMonth</th>\n",
       "      <th>...</th>\n",
       "      <th>Job_blue-collar</th>\n",
       "      <th>Job_entrepreneur</th>\n",
       "      <th>Job_housemaid</th>\n",
       "      <th>Job_management</th>\n",
       "      <th>Job_retired</th>\n",
       "      <th>Job_self-employed</th>\n",
       "      <th>Job_services</th>\n",
       "      <th>Job_student</th>\n",
       "      <th>Job_technician</th>\n",
       "      <th>Job_unemployed</th>\n",
       "    </tr>\n",
       "  </thead>\n",
       "  <tbody>\n",
       "    <tr>\n",
       "      <th>0</th>\n",
       "      <td>32</td>\n",
       "      <td>0</td>\n",
       "      <td>3</td>\n",
       "      <td>0</td>\n",
       "      <td>0</td>\n",
       "      <td>1</td>\n",
       "      <td>0</td>\n",
       "      <td>0</td>\n",
       "      <td>28</td>\n",
       "      <td>jan</td>\n",
       "      <td>...</td>\n",
       "      <td>0</td>\n",
       "      <td>0</td>\n",
       "      <td>0</td>\n",
       "      <td>1</td>\n",
       "      <td>0</td>\n",
       "      <td>0</td>\n",
       "      <td>0</td>\n",
       "      <td>0</td>\n",
       "      <td>0</td>\n",
       "      <td>0</td>\n",
       "    </tr>\n",
       "    <tr>\n",
       "      <th>1</th>\n",
       "      <td>32</td>\n",
       "      <td>1</td>\n",
       "      <td>2</td>\n",
       "      <td>0</td>\n",
       "      <td>0</td>\n",
       "      <td>1</td>\n",
       "      <td>0</td>\n",
       "      <td>1</td>\n",
       "      <td>26</td>\n",
       "      <td>may</td>\n",
       "      <td>...</td>\n",
       "      <td>1</td>\n",
       "      <td>0</td>\n",
       "      <td>0</td>\n",
       "      <td>0</td>\n",
       "      <td>0</td>\n",
       "      <td>0</td>\n",
       "      <td>0</td>\n",
       "      <td>0</td>\n",
       "      <td>0</td>\n",
       "      <td>0</td>\n",
       "    </tr>\n",
       "    <tr>\n",
       "      <th>2</th>\n",
       "      <td>29</td>\n",
       "      <td>0</td>\n",
       "      <td>3</td>\n",
       "      <td>0</td>\n",
       "      <td>0</td>\n",
       "      <td>1</td>\n",
       "      <td>0</td>\n",
       "      <td>1</td>\n",
       "      <td>3</td>\n",
       "      <td>jun</td>\n",
       "      <td>...</td>\n",
       "      <td>0</td>\n",
       "      <td>0</td>\n",
       "      <td>0</td>\n",
       "      <td>1</td>\n",
       "      <td>0</td>\n",
       "      <td>0</td>\n",
       "      <td>0</td>\n",
       "      <td>0</td>\n",
       "      <td>0</td>\n",
       "      <td>0</td>\n",
       "    </tr>\n",
       "    <tr>\n",
       "      <th>3</th>\n",
       "      <td>25</td>\n",
       "      <td>0</td>\n",
       "      <td>2</td>\n",
       "      <td>0</td>\n",
       "      <td>0</td>\n",
       "      <td>1</td>\n",
       "      <td>0</td>\n",
       "      <td>1</td>\n",
       "      <td>11</td>\n",
       "      <td>may</td>\n",
       "      <td>...</td>\n",
       "      <td>0</td>\n",
       "      <td>0</td>\n",
       "      <td>0</td>\n",
       "      <td>0</td>\n",
       "      <td>0</td>\n",
       "      <td>0</td>\n",
       "      <td>0</td>\n",
       "      <td>1</td>\n",
       "      <td>0</td>\n",
       "      <td>0</td>\n",
       "    </tr>\n",
       "    <tr>\n",
       "      <th>4</th>\n",
       "      <td>30</td>\n",
       "      <td>1</td>\n",
       "      <td>3</td>\n",
       "      <td>0</td>\n",
       "      <td>1</td>\n",
       "      <td>0</td>\n",
       "      <td>0</td>\n",
       "      <td>1</td>\n",
       "      <td>3</td>\n",
       "      <td>jun</td>\n",
       "      <td>...</td>\n",
       "      <td>0</td>\n",
       "      <td>0</td>\n",
       "      <td>0</td>\n",
       "      <td>1</td>\n",
       "      <td>0</td>\n",
       "      <td>0</td>\n",
       "      <td>0</td>\n",
       "      <td>0</td>\n",
       "      <td>0</td>\n",
       "      <td>0</td>\n",
       "    </tr>\n",
       "  </tbody>\n",
       "</table>\n",
       "<p>5 rows × 31 columns</p>\n",
       "</div>"
      ],
      "text/plain": [
       "   Age  Marital  Education  Default  Balance  HHInsurance  CarLoan  \\\n",
       "0   32        0          3        0        0            1        0   \n",
       "1   32        1          2        0        0            1        0   \n",
       "2   29        0          3        0        0            1        0   \n",
       "3   25        0          2        0        0            1        0   \n",
       "4   30        1          3        0        1            0        0   \n",
       "\n",
       "   Communication  LastContactDay LastContactMonth  ...  Job_blue-collar  \\\n",
       "0              0              28              jan  ...                0   \n",
       "1              1              26              may  ...                1   \n",
       "2              1               3              jun  ...                0   \n",
       "3              1              11              may  ...                0   \n",
       "4              1               3              jun  ...                0   \n",
       "\n",
       "   Job_entrepreneur  Job_housemaid  Job_management  Job_retired  \\\n",
       "0                 0              0               1            0   \n",
       "1                 0              0               0            0   \n",
       "2                 0              0               1            0   \n",
       "3                 0              0               0            0   \n",
       "4                 0              0               1            0   \n",
       "\n",
       "   Job_self-employed Job_services  Job_student  Job_technician  Job_unemployed  \n",
       "0                  0            0            0               0               0  \n",
       "1                  0            0            0               0               0  \n",
       "2                  0            0            0               0               0  \n",
       "3                  0            0            1               0               0  \n",
       "4                  0            0            0               0               0  \n",
       "\n",
       "[5 rows x 31 columns]"
      ]
     },
     "execution_count": 106,
     "metadata": {},
     "output_type": "execute_result"
    }
   ],
   "source": [
    "df1.head()"
   ]
  },
  {
   "cell_type": "code",
   "execution_count": 107,
   "metadata": {
    "ExecuteTime": {
     "end_time": "2020-11-09T08:55:20.805707Z",
     "start_time": "2020-11-09T08:55:20.802691Z"
    }
   },
   "outputs": [],
   "source": [
    "# df1.drop(['Age','LastContactDay','LastContactMonth','LastContactDay'],axis=1,inplace=True)"
   ]
  },
  {
   "cell_type": "code",
   "execution_count": 108,
   "metadata": {
    "ExecuteTime": {
     "end_time": "2020-11-09T08:55:20.819647Z",
     "start_time": "2020-11-09T08:55:20.809673Z"
    }
   },
   "outputs": [],
   "source": [
    "df1.drop('DaysPassed',axis=1,inplace=True)"
   ]
  },
  {
   "cell_type": "code",
   "execution_count": 109,
   "metadata": {
    "ExecuteTime": {
     "end_time": "2020-11-09T08:55:20.848568Z",
     "start_time": "2020-11-09T08:55:20.822638Z"
    }
   },
   "outputs": [
    {
     "data": {
      "text/html": [
       "<div>\n",
       "<style scoped>\n",
       "    .dataframe tbody tr th:only-of-type {\n",
       "        vertical-align: middle;\n",
       "    }\n",
       "\n",
       "    .dataframe tbody tr th {\n",
       "        vertical-align: top;\n",
       "    }\n",
       "\n",
       "    .dataframe thead th {\n",
       "        text-align: right;\n",
       "    }\n",
       "</style>\n",
       "<table border=\"1\" class=\"dataframe\">\n",
       "  <thead>\n",
       "    <tr style=\"text-align: right;\">\n",
       "      <th></th>\n",
       "      <th>Age</th>\n",
       "      <th>Marital</th>\n",
       "      <th>Education</th>\n",
       "      <th>Default</th>\n",
       "      <th>Balance</th>\n",
       "      <th>HHInsurance</th>\n",
       "      <th>CarLoan</th>\n",
       "      <th>Communication</th>\n",
       "      <th>LastContactDay</th>\n",
       "      <th>LastContactMonth</th>\n",
       "      <th>...</th>\n",
       "      <th>Job_blue-collar</th>\n",
       "      <th>Job_entrepreneur</th>\n",
       "      <th>Job_housemaid</th>\n",
       "      <th>Job_management</th>\n",
       "      <th>Job_retired</th>\n",
       "      <th>Job_self-employed</th>\n",
       "      <th>Job_services</th>\n",
       "      <th>Job_student</th>\n",
       "      <th>Job_technician</th>\n",
       "      <th>Job_unemployed</th>\n",
       "    </tr>\n",
       "  </thead>\n",
       "  <tbody>\n",
       "    <tr>\n",
       "      <th>0</th>\n",
       "      <td>32</td>\n",
       "      <td>0</td>\n",
       "      <td>3</td>\n",
       "      <td>0</td>\n",
       "      <td>0</td>\n",
       "      <td>1</td>\n",
       "      <td>0</td>\n",
       "      <td>0</td>\n",
       "      <td>28</td>\n",
       "      <td>jan</td>\n",
       "      <td>...</td>\n",
       "      <td>0</td>\n",
       "      <td>0</td>\n",
       "      <td>0</td>\n",
       "      <td>1</td>\n",
       "      <td>0</td>\n",
       "      <td>0</td>\n",
       "      <td>0</td>\n",
       "      <td>0</td>\n",
       "      <td>0</td>\n",
       "      <td>0</td>\n",
       "    </tr>\n",
       "    <tr>\n",
       "      <th>1</th>\n",
       "      <td>32</td>\n",
       "      <td>1</td>\n",
       "      <td>2</td>\n",
       "      <td>0</td>\n",
       "      <td>0</td>\n",
       "      <td>1</td>\n",
       "      <td>0</td>\n",
       "      <td>1</td>\n",
       "      <td>26</td>\n",
       "      <td>may</td>\n",
       "      <td>...</td>\n",
       "      <td>1</td>\n",
       "      <td>0</td>\n",
       "      <td>0</td>\n",
       "      <td>0</td>\n",
       "      <td>0</td>\n",
       "      <td>0</td>\n",
       "      <td>0</td>\n",
       "      <td>0</td>\n",
       "      <td>0</td>\n",
       "      <td>0</td>\n",
       "    </tr>\n",
       "    <tr>\n",
       "      <th>2</th>\n",
       "      <td>29</td>\n",
       "      <td>0</td>\n",
       "      <td>3</td>\n",
       "      <td>0</td>\n",
       "      <td>0</td>\n",
       "      <td>1</td>\n",
       "      <td>0</td>\n",
       "      <td>1</td>\n",
       "      <td>3</td>\n",
       "      <td>jun</td>\n",
       "      <td>...</td>\n",
       "      <td>0</td>\n",
       "      <td>0</td>\n",
       "      <td>0</td>\n",
       "      <td>1</td>\n",
       "      <td>0</td>\n",
       "      <td>0</td>\n",
       "      <td>0</td>\n",
       "      <td>0</td>\n",
       "      <td>0</td>\n",
       "      <td>0</td>\n",
       "    </tr>\n",
       "    <tr>\n",
       "      <th>3</th>\n",
       "      <td>25</td>\n",
       "      <td>0</td>\n",
       "      <td>2</td>\n",
       "      <td>0</td>\n",
       "      <td>0</td>\n",
       "      <td>1</td>\n",
       "      <td>0</td>\n",
       "      <td>1</td>\n",
       "      <td>11</td>\n",
       "      <td>may</td>\n",
       "      <td>...</td>\n",
       "      <td>0</td>\n",
       "      <td>0</td>\n",
       "      <td>0</td>\n",
       "      <td>0</td>\n",
       "      <td>0</td>\n",
       "      <td>0</td>\n",
       "      <td>0</td>\n",
       "      <td>1</td>\n",
       "      <td>0</td>\n",
       "      <td>0</td>\n",
       "    </tr>\n",
       "    <tr>\n",
       "      <th>4</th>\n",
       "      <td>30</td>\n",
       "      <td>1</td>\n",
       "      <td>3</td>\n",
       "      <td>0</td>\n",
       "      <td>1</td>\n",
       "      <td>0</td>\n",
       "      <td>0</td>\n",
       "      <td>1</td>\n",
       "      <td>3</td>\n",
       "      <td>jun</td>\n",
       "      <td>...</td>\n",
       "      <td>0</td>\n",
       "      <td>0</td>\n",
       "      <td>0</td>\n",
       "      <td>1</td>\n",
       "      <td>0</td>\n",
       "      <td>0</td>\n",
       "      <td>0</td>\n",
       "      <td>0</td>\n",
       "      <td>0</td>\n",
       "      <td>0</td>\n",
       "    </tr>\n",
       "  </tbody>\n",
       "</table>\n",
       "<p>5 rows × 30 columns</p>\n",
       "</div>"
      ],
      "text/plain": [
       "   Age  Marital  Education  Default  Balance  HHInsurance  CarLoan  \\\n",
       "0   32        0          3        0        0            1        0   \n",
       "1   32        1          2        0        0            1        0   \n",
       "2   29        0          3        0        0            1        0   \n",
       "3   25        0          2        0        0            1        0   \n",
       "4   30        1          3        0        1            0        0   \n",
       "\n",
       "   Communication  LastContactDay LastContactMonth  ...  Job_blue-collar  \\\n",
       "0              0              28              jan  ...                0   \n",
       "1              1              26              may  ...                1   \n",
       "2              1               3              jun  ...                0   \n",
       "3              1              11              may  ...                0   \n",
       "4              1               3              jun  ...                0   \n",
       "\n",
       "   Job_entrepreneur  Job_housemaid  Job_management  Job_retired  \\\n",
       "0                 0              0               1            0   \n",
       "1                 0              0               0            0   \n",
       "2                 0              0               1            0   \n",
       "3                 0              0               0            0   \n",
       "4                 0              0               1            0   \n",
       "\n",
       "  Job_self-employed  Job_services  Job_student  Job_technician  Job_unemployed  \n",
       "0                 0             0            0               0               0  \n",
       "1                 0             0            0               0               0  \n",
       "2                 0             0            0               0               0  \n",
       "3                 0             0            1               0               0  \n",
       "4                 0             0            0               0               0  \n",
       "\n",
       "[5 rows x 30 columns]"
      ]
     },
     "execution_count": 109,
     "metadata": {},
     "output_type": "execute_result"
    }
   ],
   "source": [
    "df1.head()"
   ]
  },
  {
   "cell_type": "code",
   "execution_count": null,
   "metadata": {},
   "outputs": [],
   "source": []
  },
  {
   "cell_type": "markdown",
   "metadata": {
    "ExecuteTime": {
     "end_time": "2020-11-09T07:35:13.720618Z",
     "start_time": "2020-11-09T07:35:13.714635Z"
    }
   },
   "source": [
    "# BASE MODEL"
   ]
  },
  {
   "cell_type": "code",
   "execution_count": 110,
   "metadata": {
    "ExecuteTime": {
     "end_time": "2020-11-09T08:55:20.855563Z",
     "start_time": "2020-11-09T08:55:20.850563Z"
    }
   },
   "outputs": [],
   "source": [
    "df2 = df1.copy()"
   ]
  },
  {
   "cell_type": "code",
   "execution_count": 111,
   "metadata": {
    "ExecuteTime": {
     "end_time": "2020-11-09T08:55:20.895443Z",
     "start_time": "2020-11-09T08:55:20.859540Z"
    }
   },
   "outputs": [],
   "source": [
    "df2.to_csv(r'insurance_clean2.csv')"
   ]
  },
  {
   "cell_type": "code",
   "execution_count": 112,
   "metadata": {
    "ExecuteTime": {
     "end_time": "2020-11-09T08:55:20.909403Z",
     "start_time": "2020-11-09T08:55:20.898446Z"
    }
   },
   "outputs": [
    {
     "data": {
      "text/plain": [
       "Age                  0\n",
       "Marital              0\n",
       "Education            0\n",
       "Default              0\n",
       "Balance              0\n",
       "HHInsurance          0\n",
       "CarLoan              0\n",
       "Communication        0\n",
       "LastContactDay       0\n",
       "LastContactMonth     0\n",
       "NoOfContacts         0\n",
       "PrevAttempts         0\n",
       "Outcome              0\n",
       "CarInsurance         0\n",
       "Duration             0\n",
       "age_group            0\n",
       "duration_status      0\n",
       "Month                0\n",
       "Job_None             0\n",
       "Job_admin.           0\n",
       "Job_blue-collar      0\n",
       "Job_entrepreneur     0\n",
       "Job_housemaid        0\n",
       "Job_management       0\n",
       "Job_retired          0\n",
       "Job_self-employed    0\n",
       "Job_services         0\n",
       "Job_student          0\n",
       "Job_technician       0\n",
       "Job_unemployed       0\n",
       "dtype: int64"
      ]
     },
     "execution_count": 112,
     "metadata": {},
     "output_type": "execute_result"
    }
   ],
   "source": [
    "df2.isnull().sum()"
   ]
  },
  {
   "cell_type": "code",
   "execution_count": null,
   "metadata": {},
   "outputs": [],
   "source": []
  }
 ],
 "metadata": {
  "hide_input": false,
  "kernelspec": {
   "display_name": "Python 3",
   "language": "python",
   "name": "python3"
  },
  "language_info": {
   "codemirror_mode": {
    "name": "ipython",
    "version": 3
   },
   "file_extension": ".py",
   "mimetype": "text/x-python",
   "name": "python",
   "nbconvert_exporter": "python",
   "pygments_lexer": "ipython3",
   "version": "3.7.6"
  },
  "toc": {
   "base_numbering": 1,
   "nav_menu": {},
   "number_sections": true,
   "sideBar": true,
   "skip_h1_title": false,
   "title_cell": "Table of Contents",
   "title_sidebar": "Contents",
   "toc_cell": false,
   "toc_position": {
    "height": "calc(100% - 180px)",
    "left": "10px",
    "top": "150px",
    "width": "341.333px"
   },
   "toc_section_display": true,
   "toc_window_display": true
  },
  "varInspector": {
   "cols": {
    "lenName": 16,
    "lenType": 16,
    "lenVar": 40
   },
   "kernels_config": {
    "python": {
     "delete_cmd_postfix": "",
     "delete_cmd_prefix": "del ",
     "library": "var_list.py",
     "varRefreshCmd": "print(var_dic_list())"
    },
    "r": {
     "delete_cmd_postfix": ") ",
     "delete_cmd_prefix": "rm(",
     "library": "var_list.r",
     "varRefreshCmd": "cat(var_dic_list()) "
    }
   },
   "types_to_exclude": [
    "module",
    "function",
    "builtin_function_or_method",
    "instance",
    "_Feature"
   ],
   "window_display": false
  }
 },
 "nbformat": 4,
 "nbformat_minor": 4
}
